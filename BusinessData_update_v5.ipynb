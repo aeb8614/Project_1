{
 "cells": [
  {
   "cell_type": "code",
   "execution_count": 1,
   "metadata": {},
   "outputs": [],
   "source": [
    "import json\n",
    "import requests\n",
    "import pandas as pd\n",
    "import numpy as np\n",
    "import matplotlib.pyplot as plt\n",
    "import time\n",
    "from datetime import timedelta,datetime,date"
   ]
  },
  {
   "cell_type": "code",
   "execution_count": 2,
   "metadata": {},
   "outputs": [],
   "source": [
    "from config import g_web"
   ]
  },
  {
   "cell_type": "code",
   "execution_count": 3,
   "metadata": {},
   "outputs": [],
   "source": [
    "#state listing\n",
    "states= [\"AL\", \"AK\", \"AZ\", \"AR\", \"CA\", \"CO\", \"CT\", \"DC\", \"DE\", \"FL\", \"GA\",\n",
    "         \"HI\", \"ID\", \"IL\", \"IN\", \"IA\", \"KS\", \"KY\", \"LA\", \"ME\", \"MD\",\n",
    "         \"MA\", \"MI\", \"MN\", \"MS\", \"MO\", \"MT\", \"NE\", \"NV\", \"NH\", \"NJ\",\n",
    "         \"NM\", \"NY\", \"NC\", \"ND\", \"OH\", \"OK\", \"OR\", \"PA\", \"RI\", \"SC\",\n",
    "         \"SD\", \"TN\", \"TX\", \"UT\", \"VT\", \"VA\", \"WA\", \"WV\", \"WI\", \"WY\"]\n",
    "region_id = \"US\"\n",
    "#group search term lists\n",
    "winery_l=[\"winery\",\"vineyard\",\"wine+spirits\",\"wine+garden\"]\n",
    "distillery_l=[\"distillery\",\"distill+spirit\",\"distiller\"]\n",
    "brewery_l=[\"brewery\",\"brew+pub\",\"taphouse\",\"beer+garden\"]\n",
    "\n",
    "#combined lists\n",
    "term_search= winery_l+distillery_l+brewery_l\n"
   ]
  },
  {
   "cell_type": "code",
   "execution_count": 4,
   "metadata": {},
   "outputs": [
    {
     "name": "stdout",
     "output_type": "stream",
     "text": [
      "Query terms: winery\n",
      "        API DATA RETRIEVAL COMPLETE for search term: winery. (elapsed time: 41.997 seconds)\n",
      "        Total of 1 term(s) completed out of 11\n",
      "        Percentage complete: 9.1%\n",
      "        -\n",
      "Query terms: vineyard\n",
      "        API DATA RETRIEVAL COMPLETE for search term: vineyard. (elapsed time: 40.162 seconds)\n",
      "        Total of 2 term(s) completed out of 11\n",
      "        Percentage complete: 18.2%\n",
      "        --\n",
      "Query terms: wine+spirits\n",
      "        API DATA RETRIEVAL COMPLETE for search term: wine+spirits. (elapsed time: 47.543 seconds)\n",
      "        Total of 3 term(s) completed out of 11\n",
      "        Percentage complete: 27.3%\n",
      "        ---\n",
      "Query terms: wine+garden\n",
      "        API DATA RETRIEVAL COMPLETE for search term: wine+garden. (elapsed time: 34.595 seconds)\n",
      "        Total of 4 term(s) completed out of 11\n",
      "        Percentage complete: 36.4%\n",
      "        ----\n",
      "Query terms: distillery\n",
      "        API DATA RETRIEVAL COMPLETE for search term: distillery. (elapsed time: 34.903 seconds)\n",
      "        Total of 5 term(s) completed out of 11\n",
      "        Percentage complete: 45.5%\n",
      "        -----\n",
      "Query terms: distill+spirit\n",
      "        API DATA RETRIEVAL COMPLETE for search term: distill+spirit. (elapsed time: 29.324 seconds)\n",
      "        Total of 6 term(s) completed out of 11\n",
      "        Percentage complete: 54.5%\n",
      "        ------\n",
      "Query terms: distiller\n",
      "        API DATA RETRIEVAL COMPLETE for search term: distiller. (elapsed time: 33.429 seconds)\n",
      "        Total of 7 term(s) completed out of 11\n",
      "        Percentage complete: 63.6%\n",
      "        -------\n",
      "Query terms: brewery\n",
      "        API DATA RETRIEVAL COMPLETE for search term: brewery. (elapsed time: 42.865 seconds)\n",
      "        Total of 8 term(s) completed out of 11\n",
      "        Percentage complete: 72.7%\n",
      "        --------\n",
      "Query terms: brew+pub\n",
      "        API DATA RETRIEVAL COMPLETE for search term: brew+pub. (elapsed time: 47.226 seconds)\n",
      "        Total of 9 term(s) completed out of 11\n",
      "        Percentage complete: 81.8%\n",
      "        ---------\n",
      "Query terms: taphouse\n",
      "        API DATA RETRIEVAL COMPLETE for search term: taphouse. (elapsed time: 38.981 seconds)\n",
      "        Total of 10 term(s) completed out of 11\n",
      "        Percentage complete: 90.9%\n",
      "        ----------\n",
      "Query terms: beer+garden\n",
      "        API DATA RETRIEVAL COMPLETE for search term: beer+garden. (elapsed time: 41.888 seconds)\n",
      "        Total of 11 term(s) completed out of 11\n",
      "        Percentage complete: 100.0%\n",
      "        -----------\n"
     ]
    }
   ],
   "source": [
    "name_data=[]\n",
    "lon_data=[]\n",
    "lat_data=[]\n",
    "place_id=[]\n",
    "json_urls=[]\n",
    "rating=[]\n",
    "state_abr=[]\n",
    "place_search=[]\n",
    "est_data=[]\n",
    "searched=[]\n",
    "time_sec=[]\n",
    "# set up a parameters dictionary\n",
    "\n",
    "# base url\n",
    "base_url = \"https://maps.googleapis.com/maps/api/place/textsearch/json?\"\n",
    "counter=0\n",
    "for term in term_search:\n",
    "    start_time=time.time()\n",
    "    print(\"Query terms: \"+term)\n",
    "    for state in states:\n",
    "        qry=str(term+\"+in+\"+state)\n",
    "        params = {\"key\": g_web,\"query\": qry,\"region\":region_id}\n",
    "        response = requests.get(base_url, params=params)\n",
    "        place_info=response.json()\n",
    "        for res in place_info[\"results\"]:\n",
    "            name_data.append(res[\"name\"])\n",
    "            lon_data.append(res[\"geometry\"][\"location\"][\"lng\"])\n",
    "            lat_data.append(res[\"geometry\"][\"location\"][\"lat\"])\n",
    "            place_id.append(res[\"place_id\"])\n",
    "            state_abr.append(state)\n",
    "            place_search.append(term)\n",
    "            est_data.append(term)\n",
    "            json_urls.append(response.url)\n",
    "        #time.sleep(1.5)\n",
    "    end_time=round(time.time()-start_time,3)\n",
    "    counter=counter+1\n",
    "    print(\"        API DATA RETRIEVAL COMPLETE for search term: %s. (elapsed time: %s seconds)\" %((term), (end_time)))\n",
    "    print(\"        Total of %s term(s) completed out of %s\" %(counter, len(term_search)))\n",
    "    buffer=\"-\"*counter\n",
    "    print(\"        Percentage complete: {0:.1%}\".format(round(counter/len(term_search),3)))\n",
    "    print(\"        \"+buffer)\n",
    "    searched.append(term)\n",
    "    time_sec.append(end_time)"
   ]
  },
  {
   "cell_type": "code",
   "execution_count": 5,
   "metadata": {},
   "outputs": [
    {
     "name": "stdout",
     "output_type": "stream",
     "text": [
      "Total number of records retrieved: 8,636\n"
     ]
    }
   ],
   "source": [
    "print(\"Total number of records retrieved: {:,.0f}\".format(len(place_id)))"
   ]
  },
  {
   "cell_type": "code",
   "execution_count": 7,
   "metadata": {},
   "outputs": [],
   "source": [
    "data_output=pd.DataFrame(np.column_stack([place_search,name_data,state_abr,lon_data,lat_data,place_id,est_data,json_urls]),\n",
    "                       columns=[\"query\",\"name\",\"state\",\"lon\",\"lat\",\"place_id\",\"est\",\"json_url\"])\n"
   ]
  },
  {
   "cell_type": "code",
   "execution_count": 8,
   "metadata": {},
   "outputs": [],
   "source": [
    "performance_df=pd.DataFrame(np.column_stack([searched,time_sec]),columns=[\"query\",\"time_in_sec\"])"
   ]
  },
  {
   "cell_type": "code",
   "execution_count": 9,
   "metadata": {},
   "outputs": [
    {
     "name": "stdout",
     "output_type": "stream",
     "text": [
      "Total number of unique records retrieved: 5,743\n"
     ]
    }
   ],
   "source": [
    "data_output=data_output.drop_duplicates(subset=\"place_id\", keep=\"last\", inplace=False)\n",
    "print(\"Total number of unique records retrieved: {:,.0f}\".format(len(data_output)))"
   ]
  },
  {
   "cell_type": "code",
   "execution_count": 10,
   "metadata": {},
   "outputs": [
    {
     "name": "stdout",
     "output_type": "stream",
     "text": [
      "elapsed time: 40.897 seconds)\n"
     ]
    }
   ],
   "source": [
    "start_time=time.time()\n",
    "for i in range(data_output.est.count()):\n",
    "    for wl in winery_l:\n",
    "        data_output.est.i= data_output.est.replace(\n",
    "        to_replace=wl,\n",
    "        value=\"winery\",\n",
    "        inplace=True\n",
    "        )\n",
    "    for bl in brewery_l: \n",
    "        data_output.est.i= data_output.est.replace(\n",
    "        to_replace=bl,\n",
    "        value=\"brewery\",\n",
    "        inplace=True\n",
    "        )\n",
    "    for dl in distillery_l:\n",
    "        data_output.est.i= data_output.est.replace(\n",
    "        to_replace=dl,\n",
    "        value=\"distillery\",\n",
    "        inplace=True\n",
    "        )\n",
    "print(\"elapsed time: %s seconds)\" %(round(time.time()-start_time,3)))        "
   ]
  },
  {
   "cell_type": "code",
   "execution_count": 11,
   "metadata": {},
   "outputs": [],
   "source": [
    "data_output.set_index(\"place_id\").to_csv(\"google_sample.csv\")"
   ]
  },
  {
   "cell_type": "code",
   "execution_count": 12,
   "metadata": {},
   "outputs": [],
   "source": [
    "performance_df.to_csv(\"performance_report.csv\")"
   ]
  }
 ],
 "metadata": {
  "kernelspec": {
   "display_name": "Python 3",
   "language": "python",
   "name": "python3"
  },
  "language_info": {
   "codemirror_mode": {
    "name": "ipython",
    "version": 3
   },
   "file_extension": ".py",
   "mimetype": "text/x-python",
   "name": "python",
   "nbconvert_exporter": "python",
   "pygments_lexer": "ipython3",
   "version": "3.6.5"
  }
 },
 "nbformat": 4,
 "nbformat_minor": 2
}
