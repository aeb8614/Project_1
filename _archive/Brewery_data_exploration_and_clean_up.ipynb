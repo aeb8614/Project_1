{
 "cells": [
  {
   "cell_type": "code",
   "execution_count": 12,
   "metadata": {},
   "outputs": [],
   "source": [
    "import requests\n",
    "import json\n",
    "import pandas as pd\n",
    "\n",
    "from pprint import pprint\n",
    "from config import beer_key"
   ]
  },
  {
   "cell_type": "code",
   "execution_count": 13,
   "metadata": {},
   "outputs": [
    {
     "name": "stdout",
     "output_type": "stream",
     "text": [
      "http://beermapping.com/webservice/locstate/c0323ad9e2ee5235d3f2d8c61989fe39/AL&s=json\n",
      "http://beermapping.com/webservice/locstate/c0323ad9e2ee5235d3f2d8c61989fe39/AK&s=json\n",
      "http://beermapping.com/webservice/locstate/c0323ad9e2ee5235d3f2d8c61989fe39/AZ&s=json\n",
      "http://beermapping.com/webservice/locstate/c0323ad9e2ee5235d3f2d8c61989fe39/AR&s=json\n",
      "http://beermapping.com/webservice/locstate/c0323ad9e2ee5235d3f2d8c61989fe39/CA&s=json\n",
      "http://beermapping.com/webservice/locstate/c0323ad9e2ee5235d3f2d8c61989fe39/CO&s=json\n",
      "http://beermapping.com/webservice/locstate/c0323ad9e2ee5235d3f2d8c61989fe39/CT&s=json\n",
      "http://beermapping.com/webservice/locstate/c0323ad9e2ee5235d3f2d8c61989fe39/DC&s=json\n",
      "http://beermapping.com/webservice/locstate/c0323ad9e2ee5235d3f2d8c61989fe39/DE&s=json\n",
      "http://beermapping.com/webservice/locstate/c0323ad9e2ee5235d3f2d8c61989fe39/FL&s=json\n",
      "http://beermapping.com/webservice/locstate/c0323ad9e2ee5235d3f2d8c61989fe39/GA&s=json\n",
      "http://beermapping.com/webservice/locstate/c0323ad9e2ee5235d3f2d8c61989fe39/HI&s=json\n",
      "http://beermapping.com/webservice/locstate/c0323ad9e2ee5235d3f2d8c61989fe39/ID&s=json\n",
      "http://beermapping.com/webservice/locstate/c0323ad9e2ee5235d3f2d8c61989fe39/IL&s=json\n",
      "http://beermapping.com/webservice/locstate/c0323ad9e2ee5235d3f2d8c61989fe39/IN&s=json\n",
      "http://beermapping.com/webservice/locstate/c0323ad9e2ee5235d3f2d8c61989fe39/IA&s=json\n",
      "http://beermapping.com/webservice/locstate/c0323ad9e2ee5235d3f2d8c61989fe39/KS&s=json\n",
      "http://beermapping.com/webservice/locstate/c0323ad9e2ee5235d3f2d8c61989fe39/KY&s=json\n",
      "http://beermapping.com/webservice/locstate/c0323ad9e2ee5235d3f2d8c61989fe39/LA&s=json\n",
      "http://beermapping.com/webservice/locstate/c0323ad9e2ee5235d3f2d8c61989fe39/ME&s=json\n",
      "http://beermapping.com/webservice/locstate/c0323ad9e2ee5235d3f2d8c61989fe39/MD&s=json\n",
      "http://beermapping.com/webservice/locstate/c0323ad9e2ee5235d3f2d8c61989fe39/MA&s=json\n",
      "http://beermapping.com/webservice/locstate/c0323ad9e2ee5235d3f2d8c61989fe39/MI&s=json\n",
      "http://beermapping.com/webservice/locstate/c0323ad9e2ee5235d3f2d8c61989fe39/MN&s=json\n",
      "http://beermapping.com/webservice/locstate/c0323ad9e2ee5235d3f2d8c61989fe39/MS&s=json\n",
      "http://beermapping.com/webservice/locstate/c0323ad9e2ee5235d3f2d8c61989fe39/MO&s=json\n",
      "http://beermapping.com/webservice/locstate/c0323ad9e2ee5235d3f2d8c61989fe39/MT&s=json\n",
      "http://beermapping.com/webservice/locstate/c0323ad9e2ee5235d3f2d8c61989fe39/NE&s=json\n",
      "http://beermapping.com/webservice/locstate/c0323ad9e2ee5235d3f2d8c61989fe39/NV&s=json\n",
      "http://beermapping.com/webservice/locstate/c0323ad9e2ee5235d3f2d8c61989fe39/NH&s=json\n",
      "http://beermapping.com/webservice/locstate/c0323ad9e2ee5235d3f2d8c61989fe39/NJ&s=json\n",
      "http://beermapping.com/webservice/locstate/c0323ad9e2ee5235d3f2d8c61989fe39/NM&s=json\n",
      "http://beermapping.com/webservice/locstate/c0323ad9e2ee5235d3f2d8c61989fe39/NY&s=json\n",
      "http://beermapping.com/webservice/locstate/c0323ad9e2ee5235d3f2d8c61989fe39/NC&s=json\n",
      "http://beermapping.com/webservice/locstate/c0323ad9e2ee5235d3f2d8c61989fe39/ND&s=json\n",
      "http://beermapping.com/webservice/locstate/c0323ad9e2ee5235d3f2d8c61989fe39/OH&s=json\n",
      "http://beermapping.com/webservice/locstate/c0323ad9e2ee5235d3f2d8c61989fe39/OK&s=json\n",
      "http://beermapping.com/webservice/locstate/c0323ad9e2ee5235d3f2d8c61989fe39/OR&s=json\n",
      "http://beermapping.com/webservice/locstate/c0323ad9e2ee5235d3f2d8c61989fe39/PA&s=json\n",
      "http://beermapping.com/webservice/locstate/c0323ad9e2ee5235d3f2d8c61989fe39/RI&s=json\n",
      "http://beermapping.com/webservice/locstate/c0323ad9e2ee5235d3f2d8c61989fe39/SC&s=json\n",
      "http://beermapping.com/webservice/locstate/c0323ad9e2ee5235d3f2d8c61989fe39/SD&s=json\n",
      "http://beermapping.com/webservice/locstate/c0323ad9e2ee5235d3f2d8c61989fe39/TN&s=json\n",
      "http://beermapping.com/webservice/locstate/c0323ad9e2ee5235d3f2d8c61989fe39/TX&s=json\n",
      "http://beermapping.com/webservice/locstate/c0323ad9e2ee5235d3f2d8c61989fe39/UT&s=json\n",
      "http://beermapping.com/webservice/locstate/c0323ad9e2ee5235d3f2d8c61989fe39/VT&s=json\n",
      "http://beermapping.com/webservice/locstate/c0323ad9e2ee5235d3f2d8c61989fe39/VA&s=json\n",
      "http://beermapping.com/webservice/locstate/c0323ad9e2ee5235d3f2d8c61989fe39/WA&s=json\n",
      "http://beermapping.com/webservice/locstate/c0323ad9e2ee5235d3f2d8c61989fe39/WV&s=json\n",
      "http://beermapping.com/webservice/locstate/c0323ad9e2ee5235d3f2d8c61989fe39/WI&s=json\n",
      "http://beermapping.com/webservice/locstate/c0323ad9e2ee5235d3f2d8c61989fe39/WY&s=json\n"
     ]
    },
    {
     "data": {
      "text/html": [
       "<div>\n",
       "<style scoped>\n",
       "    .dataframe tbody tr th:only-of-type {\n",
       "        vertical-align: middle;\n",
       "    }\n",
       "\n",
       "    .dataframe tbody tr th {\n",
       "        vertical-align: top;\n",
       "    }\n",
       "\n",
       "    .dataframe thead th {\n",
       "        text-align: right;\n",
       "    }\n",
       "</style>\n",
       "<table border=\"1\" class=\"dataframe\">\n",
       "  <thead>\n",
       "    <tr style=\"text-align: right;\">\n",
       "      <th></th>\n",
       "      <th>Brew Mapping Id</th>\n",
       "      <th>Brewery Name</th>\n",
       "      <th>City</th>\n",
       "      <th>State</th>\n",
       "      <th>Type</th>\n",
       "      <th>Zipcode</th>\n",
       "    </tr>\n",
       "  </thead>\n",
       "  <tbody>\n",
       "    <tr>\n",
       "      <th>0</th>\n",
       "      <td>15706</td>\n",
       "      <td>Avondale Brewing Company</td>\n",
       "      <td>Birmingham</td>\n",
       "      <td>AL</td>\n",
       "      <td>Brewery</td>\n",
       "      <td>35222</td>\n",
       "    </tr>\n",
       "    <tr>\n",
       "      <th>1</th>\n",
       "      <td>15004</td>\n",
       "      <td>Back Forty Beer Co</td>\n",
       "      <td>Gadsden</td>\n",
       "      <td>AL</td>\n",
       "      <td>Brewery</td>\n",
       "      <td>35901</td>\n",
       "    </tr>\n",
       "    <tr>\n",
       "      <th>2</th>\n",
       "      <td>20646</td>\n",
       "      <td>Band of Brothers Brewing Co</td>\n",
       "      <td>Tuscaloosa</td>\n",
       "      <td>AL</td>\n",
       "      <td>Brewery</td>\n",
       "      <td>35401</td>\n",
       "    </tr>\n",
       "    <tr>\n",
       "      <th>3</th>\n",
       "      <td>20843</td>\n",
       "      <td>Big Beach Brewing Company</td>\n",
       "      <td>Gulf Shores</td>\n",
       "      <td>AL</td>\n",
       "      <td>Brewery</td>\n",
       "      <td>36542</td>\n",
       "    </tr>\n",
       "    <tr>\n",
       "      <th>4</th>\n",
       "      <td>18433</td>\n",
       "      <td>Black Warrior Brewing</td>\n",
       "      <td>Tuscaloosa</td>\n",
       "      <td>AL</td>\n",
       "      <td>Brewery</td>\n",
       "      <td>35401</td>\n",
       "    </tr>\n",
       "  </tbody>\n",
       "</table>\n",
       "</div>"
      ],
      "text/plain": [
       "   Brew Mapping Id                 Brewery Name         City State     Type  \\\n",
       "0            15706     Avondale Brewing Company   Birmingham    AL  Brewery   \n",
       "1            15004           Back Forty Beer Co      Gadsden    AL  Brewery   \n",
       "2            20646  Band of Brothers Brewing Co   Tuscaloosa    AL  Brewery   \n",
       "3            20843    Big Beach Brewing Company  Gulf Shores    AL  Brewery   \n",
       "4            18433        Black Warrior Brewing   Tuscaloosa    AL  Brewery   \n",
       "\n",
       "  Zipcode  \n",
       "0   35222  \n",
       "1   35901  \n",
       "2   35401  \n",
       "3   36542  \n",
       "4   35401  "
      ]
     },
     "execution_count": 13,
     "metadata": {},
     "output_type": "execute_result"
    }
   ],
   "source": [
    "# API call for beermapping.com to get the data for breweries in each state\n",
    "states = [\"AL\", \"AK\", \"AZ\", \"AR\", \"CA\", \"CO\", \"CT\", \"DC\", \"DE\", \"FL\", \"GA\", \n",
    "          \"HI\", \"ID\", \"IL\", \"IN\", \"IA\", \"KS\", \"KY\", \"LA\", \"ME\", \"MD\", \n",
    "          \"MA\", \"MI\", \"MN\", \"MS\", \"MO\", \"MT\", \"NE\", \"NV\", \"NH\", \"NJ\", \n",
    "          \"NM\", \"NY\", \"NC\", \"ND\", \"OH\", \"OK\", \"OR\", \"PA\", \"RI\", \"SC\", \n",
    "          \"SD\", \"TN\", \"TX\", \"UT\", \"VT\", \"VA\", \"WA\", \"WV\", \"WI\", \"WY\"]\n",
    "\n",
    "\n",
    "base_url = \"http://beermapping.com/webservice/locstate/\"\n",
    "\n",
    "beer_id = []\n",
    "brewery_state = []\n",
    "zipcode = []\n",
    "brewery_name = []\n",
    "brewery_city = []\n",
    "brewery_type = []\n",
    "\n",
    "# Iterating through the states list to return all the results for each state\n",
    "# For responses that are for breweries, appending the lists to get the desired data\n",
    "for state in states:\n",
    "    url = base_url + beer_key + \"/\" + state  + \"&s=json\"\n",
    "    print(url)\n",
    "    state_data = requests.get(url).json()\n",
    "    for response in state_data:\n",
    "        if response[\"status\"] == \"Brewery\":\n",
    "            beer_id.append(response[\"id\"])\n",
    "            brewery_state.append(response[\"state\"])\n",
    "            zipcode.append(response[\"zip\"])\n",
    "            brewery_name.append(response[\"name\"])\n",
    "            brewery_city.append(response[\"city\"])\n",
    "            brewery_type.append(response[\"status\"])\n",
    "\n",
    "        \n",
    "brewery_df = pd.DataFrame({\"Brew Mapping Id\": beer_id,\n",
    "             \"State\": brewery_state,\n",
    "             \"Zipcode\": zipcode,\n",
    "             \"Brewery Name\": brewery_name,\n",
    "             \"City\": brewery_city,\n",
    "                \"Type\": brewery_type})\n",
    "\n",
    "brewery_df.head()"
   ]
  },
  {
   "cell_type": "code",
   "execution_count": 20,
   "metadata": {},
   "outputs": [],
   "source": [
    "for ix,row in brewery_df.iterrows():\n",
    "    if row[\"State\"] == \"Mi\":\n",
    "        brewery_df.at[ix,\"State\"]=\"MI\"\n",
    "    elif row [\"State\"] == \"tx\":\n",
    "        brewery_df.at[ix,\"State\"]=\"TX\"\n",
    "    else: pass"
   ]
  },
  {
   "cell_type": "code",
   "execution_count": 26,
   "metadata": {},
   "outputs": [],
   "source": [
    "brewery_df.to_csv('breweries_df.csv', index=False)"
   ]
  },
  {
   "cell_type": "code",
   "execution_count": 21,
   "metadata": {},
   "outputs": [],
   "source": [
    "# Creating groups by state\n",
    "state_groups = brewery_df.groupby([\"State\"])\n",
    "brew_state_count = state_groups[\"Brew Mapping Id\"].count()\n",
    "brew_state_count_df = pd.DataFrame({\"brewery_count\": brew_state_count})\n",
    "brew_state_count_df.reset_index(inplace=True)"
   ]
  },
  {
   "cell_type": "code",
   "execution_count": 24,
   "metadata": {},
   "outputs": [
    {
     "data": {
      "text/html": [
       "<div>\n",
       "<style scoped>\n",
       "    .dataframe tbody tr th:only-of-type {\n",
       "        vertical-align: middle;\n",
       "    }\n",
       "\n",
       "    .dataframe tbody tr th {\n",
       "        vertical-align: top;\n",
       "    }\n",
       "\n",
       "    .dataframe thead th {\n",
       "        text-align: right;\n",
       "    }\n",
       "</style>\n",
       "<table border=\"1\" class=\"dataframe\">\n",
       "  <thead>\n",
       "    <tr style=\"text-align: right;\">\n",
       "      <th></th>\n",
       "      <th>State</th>\n",
       "      <th>brewery_count</th>\n",
       "    </tr>\n",
       "  </thead>\n",
       "  <tbody>\n",
       "    <tr>\n",
       "      <th>0</th>\n",
       "      <td>AK</td>\n",
       "      <td>19</td>\n",
       "    </tr>\n",
       "    <tr>\n",
       "      <th>1</th>\n",
       "      <td>AL</td>\n",
       "      <td>22</td>\n",
       "    </tr>\n",
       "    <tr>\n",
       "      <th>2</th>\n",
       "      <td>AR</td>\n",
       "      <td>14</td>\n",
       "    </tr>\n",
       "    <tr>\n",
       "      <th>3</th>\n",
       "      <td>AZ</td>\n",
       "      <td>37</td>\n",
       "    </tr>\n",
       "    <tr>\n",
       "      <th>4</th>\n",
       "      <td>CA</td>\n",
       "      <td>315</td>\n",
       "    </tr>\n",
       "  </tbody>\n",
       "</table>\n",
       "</div>"
      ],
      "text/plain": [
       "  State  brewery_count\n",
       "0    AK             19\n",
       "1    AL             22\n",
       "2    AR             14\n",
       "3    AZ             37\n",
       "4    CA            315"
      ]
     },
     "execution_count": 24,
     "metadata": {},
     "output_type": "execute_result"
    }
   ],
   "source": [
    "brew_state_count_df.head()"
   ]
  },
  {
   "cell_type": "code",
   "execution_count": 25,
   "metadata": {},
   "outputs": [],
   "source": [
    "brew_state_count_df.to_excel('breweries_state.xlsx', sheet_name = \"count\", index=False)\n",
    "brew_state_count_df.to_csv('breweries_state.csv', index=False)"
   ]
  },
  {
   "cell_type": "code",
   "execution_count": null,
   "metadata": {},
   "outputs": [],
   "source": [
    "# Creating groups by zipcode\n",
    "zip_groups = brewery_df.groupby([\"Zipcode\"])\n",
    "brew_count = zip_groups[\"Brew Mapping Id\"].count()\n",
    "brew_count_df = pd.DataFrame({\"brewery_count\": brew_count})\n",
    "brew_count_df.reset_index(inplace=True)\n",
    "brew_count_df.head()"
   ]
  },
  {
   "cell_type": "code",
   "execution_count": null,
   "metadata": {},
   "outputs": [],
   "source": [
    "# Creating a new column keeping only valid 5 digit zipcodes and converting 10 digit zipcodes to 5 digit\n",
    "for ix,row in brew_count_df.iterrows():\n",
    "    if len(row['Zipcode'])== 5 or(len(row['Zipcode'])== 10 and '-' in row['Zipcode']):\n",
    "        brew_count_df.at[ix,'new zipcode'] = row['Zipcode'][0:5]"
   ]
  },
  {
   "cell_type": "code",
   "execution_count": null,
   "metadata": {},
   "outputs": [],
   "source": [
    "# Deleting row with data that does not have a valid zipcode\n",
    "clean_brew_count = brew_count_df.loc[pd.notna(brew_count_df['new zipcode']),:]\n",
    "clean_brew_count.head()"
   ]
  },
  {
   "cell_type": "code",
   "execution_count": null,
   "metadata": {},
   "outputs": [],
   "source": [
    "# Regrouping data to get count by zipcode and creating a new dataframe with just zipcode and brewery count\n",
    "zip_groups2 = clean_brew_count.groupby([\"new zipcode\"])\n",
    "brew_count2 = zip_groups2[\"brewery_count\"].sum()\n",
    "brew_count_df2 = pd.DataFrame(brew_count2)\n",
    "brew_count_df2.head()\n",
    "# To move zipcode to a column if needed later: \n",
    "brew_count_df2.reset_index(inplace=True)\n",
    "\n",
    "\n",
    "brew_count_df2.head()"
   ]
  },
  {
   "cell_type": "code",
   "execution_count": null,
   "metadata": {},
   "outputs": [],
   "source": [
    "brew_count_df2.to_excel('breweries_zip.xlsx', sheet_name = \"count\", index=False)\n",
    "brew_count_df2.to_csv('breweries_zip.csv', index=False)"
   ]
  },
  {
   "cell_type": "code",
   "execution_count": null,
   "metadata": {},
   "outputs": [],
   "source": []
  },
  {
   "cell_type": "code",
   "execution_count": null,
   "metadata": {},
   "outputs": [],
   "source": []
  }
 ],
 "metadata": {
  "kernelspec": {
   "display_name": "Python 3",
   "language": "python",
   "name": "python3"
  },
  "language_info": {
   "codemirror_mode": {
    "name": "ipython",
    "version": 3
   },
   "file_extension": ".py",
   "mimetype": "text/x-python",
   "name": "python",
   "nbconvert_exporter": "python",
   "pygments_lexer": "ipython3",
   "version": "3.6.4"
  }
 },
 "nbformat": 4,
 "nbformat_minor": 2
}
