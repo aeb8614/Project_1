{
 "cells": [
  {
   "cell_type": "code",
   "execution_count": 5,
   "metadata": {},
   "outputs": [],
   "source": [
    "import json\n",
    "import requests\n",
    "import pandas as pd\n",
    "import numpy as np\n",
    "import matplotlib.pyplot as plt\n",
    "import time\n",
    "from datetime import timedelta,datetime,date"
   ]
  },
  {
   "cell_type": "code",
   "execution_count": 2,
   "metadata": {
    "scrolled": true
   },
   "outputs": [],
   "source": [
    "from config import G_WEB"
   ]
  },
  {
   "cell_type": "code",
   "execution_count": 3,
   "metadata": {
    "scrolled": true
   },
   "outputs": [],
   "source": [
    "#STATE listing\n",
    "STATES = [\"AL\", \"AK\", \"AZ\", \"AR\", \"CA\", \"CO\", \"CT\", \"DC\", \"DE\", \"FL\", \"GA\",\n",
    "         \"HI\", \"ID\", \"IL\", \"IN\", \"IA\", \"KS\", \"KY\", \"LA\", \"ME\", \"MD\",\n",
    "         \"MA\", \"MI\", \"MN\", \"MS\", \"MO\", \"MT\", \"NE\", \"NV\", \"NH\", \"NJ\",\n",
    "         \"NM\", \"NY\", \"NC\", \"ND\", \"OH\", \"OK\", \"OR\", \"PA\", \"RI\", \"SC\",\n",
    "         \"SD\", \"TN\", \"TX\", \"UT\", \"VT\", \"VA\", \"WA\", \"WV\", \"WI\", \"WY\"]\n",
    "REGION_ID = \"US\"\n",
    "#group search TERM lists\n",
    "WINERY_L = [\"winery\",\"vineyard\",\"wine+spirits\",\"wine+garden\"]\n",
    "DISTILLERY_L = [\"distillery\",\"distill+spirit\",\"distiller\"]\n",
    "BREWERY_L = [\"brewery\",\"brew+pub\",\"taphouse\",\"beer+garden\"]\n",
    "\n",
    "#combined lists\n",
    "TERM_SEARCH = WINERY_L+DISTILLERY_L+BREWERY_L\n"
   ]
  },
  {
   "cell_type": "code",
   "execution_count": 4,
   "metadata": {
    "scrolled": false
   },
   "outputs": [
    {
     "name": "stdout",
     "output_type": "stream",
     "text": [
      "Query term(s): winery\n",
      "        API DATA RETRIEVAL COMPLETE for search term: winery. (elapsed time: 40.672 seconds)\n",
      "        Total of 1 term(s) completed out of 11\n",
      "        Percentage complete: 9.1%\n",
      "        -\n",
      "Query term(s): vineyard\n",
      "        API DATA RETRIEVAL COMPLETE for search term: vineyard. (elapsed time: 42.716 seconds)\n",
      "        Total of 2 term(s) completed out of 11\n",
      "        Percentage complete: 18.2%\n",
      "        --\n",
      "Query term(s): wine+spirits\n",
      "        API DATA RETRIEVAL COMPLETE for search term: wine+spirits. (elapsed time: 41.092 seconds)\n",
      "        Total of 3 term(s) completed out of 11\n",
      "        Percentage complete: 27.3%\n",
      "        ---\n",
      "Query term(s): wine+garden\n",
      "        API DATA RETRIEVAL COMPLETE for search term: wine+garden. (elapsed time: 35.918 seconds)\n",
      "        Total of 4 term(s) completed out of 11\n",
      "        Percentage complete: 36.4%\n",
      "        ----\n",
      "Query term(s): distillery\n",
      "        API DATA RETRIEVAL COMPLETE for search term: distillery. (elapsed time: 33.575 seconds)\n",
      "        Total of 5 term(s) completed out of 11\n",
      "        Percentage complete: 45.5%\n",
      "        -----\n",
      "Query term(s): distill+spirit\n",
      "        API DATA RETRIEVAL COMPLETE for search term: distill+spirit. (elapsed time: 28.92 seconds)\n",
      "        Total of 6 term(s) completed out of 11\n",
      "        Percentage complete: 54.5%\n",
      "        ------\n",
      "Query term(s): distiller\n",
      "        API DATA RETRIEVAL COMPLETE for search term: distiller. (elapsed time: 32.819 seconds)\n",
      "        Total of 7 term(s) completed out of 11\n",
      "        Percentage complete: 63.6%\n",
      "        -------\n",
      "Query term(s): brewery\n",
      "        API DATA RETRIEVAL COMPLETE for search term: brewery. (elapsed time: 41.808 seconds)\n",
      "        Total of 8 term(s) completed out of 11\n",
      "        Percentage complete: 72.7%\n",
      "        --------\n",
      "Query term(s): brew+pub\n",
      "        API DATA RETRIEVAL COMPLETE for search term: brew+pub. (elapsed time: 46.378 seconds)\n",
      "        Total of 9 term(s) completed out of 11\n",
      "        Percentage complete: 81.8%\n",
      "        ---------\n",
      "Query term(s): taphouse\n",
      "        API DATA RETRIEVAL COMPLETE for search term: taphouse. (elapsed time: 36.278 seconds)\n",
      "        Total of 10 term(s) completed out of 11\n",
      "        Percentage complete: 90.9%\n",
      "        ----------\n",
      "Query term(s): beer+garden\n",
      "        API DATA RETRIEVAL COMPLETE for search term: beer+garden. (elapsed time: 42.313 seconds)\n",
      "        Total of 11 term(s) completed out of 11\n",
      "        Percentage complete: 100.0%\n",
      "        -----------\n"
     ]
    }
   ],
   "source": [
    "NAME_DATA = []\n",
    "LON_DATA = []\n",
    "LAT_DATA = []\n",
    "PLACE_ID = []\n",
    "JSON_URLS = []\n",
    "STATE_ABR = []\n",
    "PLACE_SEARCH = []\n",
    "EST_DATA = []\n",
    "SEARCHED = []\n",
    "TIME_SEC = []\n",
    "# set up a parameters dictionary\n",
    "\n",
    "# base url\n",
    "BASE_URL = \"https://maps.googleapis.com/maps/api/place/textsearch/json?\"\n",
    "COUNTER = 0\n",
    "for TERM in TERM_SEARCH:\n",
    "    START_TIME = time.time()\n",
    "    print(\"Query term(s): \"+TERM)\n",
    "    for STATE in STATES:\n",
    "        QRY = str(TERM + \"+in+\" + STATE)\n",
    "        PARAMS = {\"key\": G_WEB,\"query\": QRY,\"region\":REGION_ID}\n",
    "        RESPONSE = requests.get(BASE_URL, params = PARAMS)\n",
    "        PLACE_INFO = RESPONSE.json()\n",
    "        for res in PLACE_INFO[\"results\"]:\n",
    "            NAME_DATA.append(res[\"name\"])\n",
    "            LON_DATA.append(res[\"geometry\"][\"location\"][\"lng\"])\n",
    "            LAT_DATA.append(res[\"geometry\"][\"location\"][\"lat\"])\n",
    "            PLACE_ID.append(res[\"place_id\"])\n",
    "            STATE_ABR.append(STATE)\n",
    "            PLACE_SEARCH.append(TERM)\n",
    "            EST_DATA.append(TERM)\n",
    "            JSON_URLS.append(RESPONSE.url)\n",
    "        #time.sleep(1.5)\n",
    "    END_TIME = round(time.time()-START_TIME,3)\n",
    "    COUNTER = COUNTER + 1\n",
    "    print(\"        API DATA RETRIEVAL COMPLETE for search term: %s. (elapsed time: %s seconds)\" %((TERM), (END_TIME)))\n",
    "    print(\"        Total of %s term(s) completed out of %s\" %(COUNTER, len(TERM_SEARCH)))\n",
    "    buffer=\"-\"*COUNTER\n",
    "    print(\"        Percentage complete: {0:.1%}\".format(round(COUNTER/len(TERM_SEARCH),3)))\n",
    "    print(\"        \"+buffer)\n",
    "    SEARCHED.append(TERM)\n",
    "    TIME_SEC.append(END_TIME)"
   ]
  },
  {
   "cell_type": "code",
   "execution_count": 6,
   "metadata": {
    "scrolled": true
   },
   "outputs": [
    {
     "name": "stdout",
     "output_type": "stream",
     "text": [
      "Total number of records retrieved: 8,729\n"
     ]
    }
   ],
   "source": [
    "print(\"Total number of records retrieved: {:,.0f}\".format(len(PLACE_ID)))"
   ]
  },
  {
   "cell_type": "code",
   "execution_count": 7,
   "metadata": {
    "scrolled": true
   },
   "outputs": [],
   "source": [
    "DATA_OUTPUT = pd.DataFrame(np.column_stack([PLACE_SEARCH,NAME_DATA,STATE_ABR,LON_DATA,LAT_DATA,PLACE_ID,EST_DATA,JSON_URLS]),\n",
    "                       columns = [\"query\",\"name\",\"state\",\"lon\",\"lat\",\"place_id\",\"est\",\"json_url\"])\n"
   ]
  },
  {
   "cell_type": "code",
   "execution_count": 8,
   "metadata": {
    "scrolled": true
   },
   "outputs": [],
   "source": [
    "PERF_DF = pd.DataFrame(np.column_stack([SEARCHED,TIME_SEC]),columns = [\"query\",\"time_in_sec\"])"
   ]
  },
  {
   "cell_type": "code",
   "execution_count": 9,
   "metadata": {
    "scrolled": true
   },
   "outputs": [
    {
     "name": "stdout",
     "output_type": "stream",
     "text": [
      "Total number of unique records retrieved: 5,726\n"
     ]
    }
   ],
   "source": [
    "DATA_OUTPUT = DATA_OUTPUT.drop_duplicates(subset=\"place_id\", keep = \"last\", inplace = False)\n",
    "print(\"Total number of unique records retrieved: {:,.0f}\".format(len(DATA_OUTPUT)))"
   ]
  },
  {
   "cell_type": "code",
   "execution_count": 10,
   "metadata": {
    "scrolled": true
   },
   "outputs": [
    {
     "name": "stdout",
     "output_type": "stream",
     "text": [
      "elapsed time: 26.353 seconds)\n"
     ]
    }
   ],
   "source": [
    "START_TIME = time.time()\n",
    "for i in range(DATA_OUTPUT.est.count()):\n",
    "    for WL in WINERY_L:\n",
    "        DATA_OUTPUT.est.i = DATA_OUTPUT.est.replace(\n",
    "        to_replace = WL,\n",
    "        value = \"winery\",\n",
    "        inplace = True\n",
    "        )\n",
    "    for BL in BREWERY_L: \n",
    "        DATA_OUTPUT.est.i = DATA_OUTPUT.est.replace(\n",
    "        to_replace = BL,\n",
    "        value = \"brewery\",\n",
    "        inplace = True\n",
    "        )\n",
    "    for DL in DISTILLERY_L:\n",
    "        DATA_OUTPUT.est.i = DATA_OUTPUT.est.replace(\n",
    "        to_replace = DL,\n",
    "        value = \"distillery\",\n",
    "        inplace = True\n",
    "        )\n",
    "print(\"elapsed time: %s seconds)\" %(round(time.time()-START_TIME,3)))        "
   ]
  },
  {
   "cell_type": "code",
   "execution_count": 11,
   "metadata": {
    "scrolled": true
   },
   "outputs": [],
   "source": [
    "DATA_OUTPUT.set_index(\"place_id\").to_csv(\"google_sample.csv\")"
   ]
  },
  {
   "cell_type": "code",
   "execution_count": 12,
   "metadata": {
    "scrolled": true
   },
   "outputs": [],
   "source": [
    "PERF_DF.to_csv(\"performance_report.csv\")"
   ]
  }
 ],
 "metadata": {
  "celltoolbar": "Raw Cell Format",
  "kernelspec": {
   "display_name": "Python 3",
   "language": "python",
   "name": "python3"
  },
  "language_info": {
   "codemirror_mode": {
    "name": "ipython",
    "version": 3
   },
   "file_extension": ".py",
   "mimetype": "text/x-python",
   "name": "python",
   "nbconvert_exporter": "python",
   "pygments_lexer": "ipython3",
   "version": "3.6.5"
  }
 },
 "nbformat": 4,
 "nbformat_minor": 2
}
