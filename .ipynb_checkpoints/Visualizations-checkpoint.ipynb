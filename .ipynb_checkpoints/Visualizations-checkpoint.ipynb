{
 "cells": [
  {
   "cell_type": "code",
   "execution_count": 3,
   "metadata": {},
   "outputs": [
    {
     "data": {
      "text/html": [
       "\n",
       "           <script>\n",
       "               \n",
       "                function vct_load_lib(url, callback){\n",
       "                      if(typeof d3 !== 'undefined' &&\n",
       "                         url === 'http://d3js.org/d3.v3.min.js'){\n",
       "                        callback()\n",
       "                      }\n",
       "                      var s = document.createElement('script');\n",
       "                      s.src = url;\n",
       "                      s.async = true;\n",
       "                      s.onreadystatechange = s.onload = callback;\n",
       "                      s.onerror = function(){\n",
       "                        console.warn(\"failed to load library \" + url);\n",
       "                        };\n",
       "                      document.getElementsByTagName(\"head\")[0].appendChild(s);\n",
       "                };\n",
       "                var vincent_event = new CustomEvent(\n",
       "                  \"vincent_libs_loaded\",\n",
       "                  {bubbles: true, cancelable: true}\n",
       "                );\n",
       "                \n",
       "               function load_all_libs(){\n",
       "                  console.log('Loading Vincent libs...')\n",
       "                  vct_load_lib('http://d3js.org/d3.v3.min.js', function(){\n",
       "                  vct_load_lib('http://d3js.org/d3.geo.projection.v0.min.js', function(){\n",
       "                  vct_load_lib('http://wrobstory.github.io/d3-cloud/d3.layout.cloud.js', function(){\n",
       "                  vct_load_lib('http://wrobstory.github.io/vega/vega.v1.3.3.js', function(){\n",
       "                  window.dispatchEvent(vincent_event);\n",
       "                  });\n",
       "                  });\n",
       "                  });\n",
       "                  });\n",
       "               };\n",
       "               if(typeof define === \"function\" && define.amd){\n",
       "                    if (window['d3'] === undefined ||\n",
       "                        window['topojson'] === undefined){\n",
       "                        require.config(\n",
       "                            {paths: {\n",
       "                              d3: 'http://d3js.org/d3.v3.min',\n",
       "                              topojson: 'http://d3js.org/topojson.v1.min'\n",
       "                              }\n",
       "                            }\n",
       "                          );\n",
       "                        require([\"d3\"], function(d3){\n",
       "                            console.log('Loading Vincent from require.js...')\n",
       "                            window.d3 = d3;\n",
       "                            require([\"topojson\"], function(topojson){\n",
       "                                window.topojson = topojson;\n",
       "                                load_all_libs();\n",
       "                            });\n",
       "                        });\n",
       "                    } else {\n",
       "                        load_all_libs();\n",
       "                    };\n",
       "               }else{\n",
       "                    console.log('Require.js not found, loading manually...')\n",
       "                    load_all_libs();\n",
       "               };\n",
       "\n",
       "           </script>"
      ],
      "text/plain": [
       "<IPython.core.display.HTML object>"
      ]
     },
     "metadata": {},
     "output_type": "display_data"
    }
   ],
   "source": [
    "import matplotlib.pyplot as plt\n",
    "import numpy as np\n",
    "import pandas as pd\n",
    "import seaborn as sns\n",
    "#pip install vincent\n",
    "import vincent\n",
    "vincent.core.initialize_notebook()"
   ]
  },
  {
   "cell_type": "code",
   "execution_count": 47,
   "metadata": {},
   "outputs": [
    {
     "data": {
      "text/plain": [
       "'#99D9FF'"
      ]
     },
     "execution_count": 47,
     "metadata": {},
     "output_type": "execute_result"
    }
   ],
   "source": [
    "#Establishing color schema\n",
    "\n",
    "t_colors=[\"#FF4892\", #winery\n",
    "         \"#FFD966\", #brewery\n",
    "         \"#99D9FF\" #distillery\n",
    "         ]\n",
    "\n",
    "te_colors=[\"#CF0055\", #winery\n",
    "          \"#5C4400\", #brewery\n",
    "          \"#004065\" #distillery\n",
    "          ]\n",
    "\n"
   ]
  },
  {
   "cell_type": "code",
   "execution_count": 4,
   "metadata": {},
   "outputs": [
    {
     "data": {
      "text/html": [
       "<div>\n",
       "<style scoped>\n",
       "    .dataframe tbody tr th:only-of-type {\n",
       "        vertical-align: middle;\n",
       "    }\n",
       "\n",
       "    .dataframe tbody tr th {\n",
       "        vertical-align: top;\n",
       "    }\n",
       "\n",
       "    .dataframe thead th {\n",
       "        text-align: right;\n",
       "    }\n",
       "</style>\n",
       "<table border=\"1\" class=\"dataframe\">\n",
       "  <thead>\n",
       "    <tr style=\"text-align: right;\">\n",
       "      <th></th>\n",
       "      <th>tot_pop</th>\n",
       "      <th>male_pop</th>\n",
       "      <th>female_pop</th>\n",
       "      <th>median_age</th>\n",
       "      <th>median_age_male</th>\n",
       "      <th>median_age_female</th>\n",
       "      <th>employ_status_tot</th>\n",
       "      <th>employ_status_working</th>\n",
       "      <th>employ_status_working_civ</th>\n",
       "      <th>employ_status_working_civ_employed</th>\n",
       "      <th>...</th>\n",
       "      <th>FIPS</th>\n",
       "      <th>State</th>\n",
       "      <th>Abbrev</th>\n",
       "      <th>brewery_count</th>\n",
       "      <th>winery_count</th>\n",
       "      <th>craft_distillery_count</th>\n",
       "      <th>tot_k_pop</th>\n",
       "      <th>breweries_k_pop</th>\n",
       "      <th>wineries_k_pop</th>\n",
       "      <th>distilleries_k_pop</th>\n",
       "    </tr>\n",
       "  </thead>\n",
       "  <tbody>\n",
       "    <tr>\n",
       "      <th>0</th>\n",
       "      <td>4841164</td>\n",
       "      <td>2346193</td>\n",
       "      <td>2494971</td>\n",
       "      <td>38.6</td>\n",
       "      <td>37.1</td>\n",
       "      <td>40.0</td>\n",
       "      <td>3864302</td>\n",
       "      <td>2238654</td>\n",
       "      <td>2226504</td>\n",
       "      <td>2042025</td>\n",
       "      <td>...</td>\n",
       "      <td>1</td>\n",
       "      <td>Alabama</td>\n",
       "      <td>AL</td>\n",
       "      <td>22</td>\n",
       "      <td>35</td>\n",
       "      <td>8</td>\n",
       "      <td>4841.164</td>\n",
       "      <td>0.004544</td>\n",
       "      <td>0.007230</td>\n",
       "      <td>0.001652</td>\n",
       "    </tr>\n",
       "    <tr>\n",
       "      <th>1</th>\n",
       "      <td>736855</td>\n",
       "      <td>385296</td>\n",
       "      <td>351559</td>\n",
       "      <td>33.6</td>\n",
       "      <td>33.3</td>\n",
       "      <td>34.0</td>\n",
       "      <td>568732</td>\n",
       "      <td>400475</td>\n",
       "      <td>384093</td>\n",
       "      <td>353954</td>\n",
       "      <td>...</td>\n",
       "      <td>2</td>\n",
       "      <td>Alaska</td>\n",
       "      <td>AK</td>\n",
       "      <td>19</td>\n",
       "      <td>8</td>\n",
       "      <td>6</td>\n",
       "      <td>736.855</td>\n",
       "      <td>0.025785</td>\n",
       "      <td>0.010857</td>\n",
       "      <td>0.008143</td>\n",
       "    </tr>\n",
       "    <tr>\n",
       "      <th>2</th>\n",
       "      <td>6728577</td>\n",
       "      <td>3344106</td>\n",
       "      <td>3384471</td>\n",
       "      <td>37.1</td>\n",
       "      <td>35.8</td>\n",
       "      <td>38.4</td>\n",
       "      <td>5290839</td>\n",
       "      <td>3146717</td>\n",
       "      <td>3129344</td>\n",
       "      <td>2879372</td>\n",
       "      <td>...</td>\n",
       "      <td>4</td>\n",
       "      <td>Arizona</td>\n",
       "      <td>AZ</td>\n",
       "      <td>37</td>\n",
       "      <td>94</td>\n",
       "      <td>19</td>\n",
       "      <td>6728.577</td>\n",
       "      <td>0.005499</td>\n",
       "      <td>0.013970</td>\n",
       "      <td>0.002824</td>\n",
       "    </tr>\n",
       "    <tr>\n",
       "      <th>3</th>\n",
       "      <td>2968472</td>\n",
       "      <td>1456694</td>\n",
       "      <td>1511778</td>\n",
       "      <td>37.7</td>\n",
       "      <td>36.4</td>\n",
       "      <td>39.2</td>\n",
       "      <td>2339307</td>\n",
       "      <td>1364187</td>\n",
       "      <td>1359742</td>\n",
       "      <td>1266552</td>\n",
       "      <td>...</td>\n",
       "      <td>5</td>\n",
       "      <td>Arkansas</td>\n",
       "      <td>AR</td>\n",
       "      <td>14</td>\n",
       "      <td>33</td>\n",
       "      <td>3</td>\n",
       "      <td>2968.472</td>\n",
       "      <td>0.004716</td>\n",
       "      <td>0.011117</td>\n",
       "      <td>0.001011</td>\n",
       "    </tr>\n",
       "    <tr>\n",
       "      <th>4</th>\n",
       "      <td>38654206</td>\n",
       "      <td>19200970</td>\n",
       "      <td>19453236</td>\n",
       "      <td>36.0</td>\n",
       "      <td>34.9</td>\n",
       "      <td>37.1</td>\n",
       "      <td>30565746</td>\n",
       "      <td>19391320</td>\n",
       "      <td>19260868</td>\n",
       "      <td>17577142</td>\n",
       "      <td>...</td>\n",
       "      <td>6</td>\n",
       "      <td>California</td>\n",
       "      <td>CA</td>\n",
       "      <td>315</td>\n",
       "      <td>4816</td>\n",
       "      <td>118</td>\n",
       "      <td>38654.206</td>\n",
       "      <td>0.008149</td>\n",
       "      <td>0.124592</td>\n",
       "      <td>0.003053</td>\n",
       "    </tr>\n",
       "  </tbody>\n",
       "</table>\n",
       "<p>5 rows × 69 columns</p>\n",
       "</div>"
      ],
      "text/plain": [
       "    tot_pop  male_pop  female_pop  median_age  median_age_male  \\\n",
       "0   4841164   2346193     2494971        38.6             37.1   \n",
       "1    736855    385296      351559        33.6             33.3   \n",
       "2   6728577   3344106     3384471        37.1             35.8   \n",
       "3   2968472   1456694     1511778        37.7             36.4   \n",
       "4  38654206  19200970    19453236        36.0             34.9   \n",
       "\n",
       "   median_age_female  employ_status_tot  employ_status_working  \\\n",
       "0               40.0            3864302                2238654   \n",
       "1               34.0             568732                 400475   \n",
       "2               38.4            5290839                3146717   \n",
       "3               39.2            2339307                1364187   \n",
       "4               37.1           30565746               19391320   \n",
       "\n",
       "   employ_status_working_civ  employ_status_working_civ_employed  \\\n",
       "0                    2226504                             2042025   \n",
       "1                     384093                              353954   \n",
       "2                    3129344                             2879372   \n",
       "3                    1359742                             1266552   \n",
       "4                   19260868                            17577142   \n",
       "\n",
       "          ...          FIPS       State  Abbrev  brewery_count  winery_count  \\\n",
       "0         ...             1     Alabama      AL             22            35   \n",
       "1         ...             2      Alaska      AK             19             8   \n",
       "2         ...             4     Arizona      AZ             37            94   \n",
       "3         ...             5    Arkansas      AR             14            33   \n",
       "4         ...             6  California      CA            315          4816   \n",
       "\n",
       "   craft_distillery_count  tot_k_pop  breweries_k_pop  wineries_k_pop  \\\n",
       "0                       8   4841.164         0.004544        0.007230   \n",
       "1                       6    736.855         0.025785        0.010857   \n",
       "2                      19   6728.577         0.005499        0.013970   \n",
       "3                       3   2968.472         0.004716        0.011117   \n",
       "4                     118  38654.206         0.008149        0.124592   \n",
       "\n",
       "   distilleries_k_pop  \n",
       "0            0.001652  \n",
       "1            0.008143  \n",
       "2            0.002824  \n",
       "3            0.001011  \n",
       "4            0.003053  \n",
       "\n",
       "[5 rows x 69 columns]"
      ]
     },
     "execution_count": 4,
     "metadata": {},
     "output_type": "execute_result"
    }
   ],
   "source": [
    "excel=\"census_breweries_wineries_distilleries_state.xlsx\"\n",
    "cons_census_df = pd.read_excel(excel)\n",
    "cons_census_df.head()"
   ]
  },
  {
   "cell_type": "code",
   "execution_count": 5,
   "metadata": {},
   "outputs": [
    {
     "data": {
      "text/html": [
       "<div>\n",
       "<style scoped>\n",
       "    .dataframe tbody tr th:only-of-type {\n",
       "        vertical-align: middle;\n",
       "    }\n",
       "\n",
       "    .dataframe tbody tr th {\n",
       "        vertical-align: top;\n",
       "    }\n",
       "\n",
       "    .dataframe thead th {\n",
       "        text-align: right;\n",
       "    }\n",
       "</style>\n",
       "<table border=\"1\" class=\"dataframe\">\n",
       "  <thead>\n",
       "    <tr style=\"text-align: right;\">\n",
       "      <th></th>\n",
       "      <th>brewery_count</th>\n",
       "    </tr>\n",
       "    <tr>\n",
       "      <th>Abbrev</th>\n",
       "      <th></th>\n",
       "    </tr>\n",
       "  </thead>\n",
       "  <tbody>\n",
       "    <tr>\n",
       "      <th>AL</th>\n",
       "      <td>22</td>\n",
       "    </tr>\n",
       "    <tr>\n",
       "      <th>AK</th>\n",
       "      <td>19</td>\n",
       "    </tr>\n",
       "    <tr>\n",
       "      <th>AZ</th>\n",
       "      <td>37</td>\n",
       "    </tr>\n",
       "    <tr>\n",
       "      <th>AR</th>\n",
       "      <td>14</td>\n",
       "    </tr>\n",
       "    <tr>\n",
       "      <th>CA</th>\n",
       "      <td>315</td>\n",
       "    </tr>\n",
       "  </tbody>\n",
       "</table>\n",
       "</div>"
      ],
      "text/plain": [
       "        brewery_count\n",
       "Abbrev               \n",
       "AL                 22\n",
       "AK                 19\n",
       "AZ                 37\n",
       "AR                 14\n",
       "CA                315"
      ]
     },
     "execution_count": 5,
     "metadata": {},
     "output_type": "execute_result"
    }
   ],
   "source": [
    "# Dataframe for just brewery count\n",
    "brewery_state_count_df = cons_census_df[[\"Abbrev\", \"brewery_count\"]].copy()\n",
    "brewery_state_count_df.set_index([\"Abbrev\"], inplace=True)\n",
    "brewery_state_count_df.head()"
   ]
  },
  {
   "cell_type": "code",
   "execution_count": 6,
   "metadata": {},
   "outputs": [
    {
     "data": {
      "text/html": [
       "<div>\n",
       "<style scoped>\n",
       "    .dataframe tbody tr th:only-of-type {\n",
       "        vertical-align: middle;\n",
       "    }\n",
       "\n",
       "    .dataframe tbody tr th {\n",
       "        vertical-align: top;\n",
       "    }\n",
       "\n",
       "    .dataframe thead th {\n",
       "        text-align: right;\n",
       "    }\n",
       "</style>\n",
       "<table border=\"1\" class=\"dataframe\">\n",
       "  <thead>\n",
       "    <tr style=\"text-align: right;\">\n",
       "      <th></th>\n",
       "      <th>breweries_k_pop</th>\n",
       "    </tr>\n",
       "    <tr>\n",
       "      <th>Abbrev</th>\n",
       "      <th></th>\n",
       "    </tr>\n",
       "  </thead>\n",
       "  <tbody>\n",
       "    <tr>\n",
       "      <th>AL</th>\n",
       "      <td>0.004544</td>\n",
       "    </tr>\n",
       "    <tr>\n",
       "      <th>AK</th>\n",
       "      <td>0.025785</td>\n",
       "    </tr>\n",
       "    <tr>\n",
       "      <th>AZ</th>\n",
       "      <td>0.005499</td>\n",
       "    </tr>\n",
       "    <tr>\n",
       "      <th>AR</th>\n",
       "      <td>0.004716</td>\n",
       "    </tr>\n",
       "    <tr>\n",
       "      <th>CA</th>\n",
       "      <td>0.008149</td>\n",
       "    </tr>\n",
       "  </tbody>\n",
       "</table>\n",
       "</div>"
      ],
      "text/plain": [
       "        breweries_k_pop\n",
       "Abbrev                 \n",
       "AL             0.004544\n",
       "AK             0.025785\n",
       "AZ             0.005499\n",
       "AR             0.004716\n",
       "CA             0.008149"
      ]
     },
     "execution_count": 6,
     "metadata": {},
     "output_type": "execute_result"
    }
   ],
   "source": [
    "# Dataframe for just breweries per 1000 people by state\n",
    "brewery_per_person_df = cons_census_df[[\"Abbrev\", \"breweries_k_pop\"]].copy()\n",
    "brewery_per_person_df.set_index([\"Abbrev\"], inplace=True)\n",
    "brewery_per_person_df.head()"
   ]
  },
  {
   "cell_type": "code",
   "execution_count": 50,
   "metadata": {},
   "outputs": [
    {
     "data": {
      "image/png": "[encoded data removed]",
      "text/plain": [
       "<Figure size 1440x216 with 1 Axes>"
      ]
     },
     "metadata": {},
     "output_type": "display_data"
    }
   ],
   "source": [
    "# Plotting brewery count by state\n",
    "brewery_count = brewery_state_count_df.plot(kind=\"bar\", figsize=(20,3), color=t_colors[1], edgecolor=te_colors[1],title = \"Brewery Count by State (not adjusted for population)\")\n",
    "plt.show(brewery_count)\n",
    "brewery_count.figure.savefig(\"brewery_count.png\")"
   ]
  },
  {
   "cell_type": "code",
   "execution_count": 51,
   "metadata": {},
   "outputs": [
    {
     "data": {
      "image/png": "[encoded data removed]",
      "text/plain": [
       "<Figure size 1440x216 with 1 Axes>"
      ]
     },
     "metadata": {},
     "output_type": "display_data"
    }
   ],
   "source": [
    "# Plotting breweries per 1000 people by state\n",
    "brewery_person = brewery_per_person_df.plot(kind=\"bar\", figsize=(20,3), color=t_colors[1], edgecolor=te_colors[1],title = \"Brewery Count by State (adjusted for population)\")\n",
    "plt.show(brewery_person)\n",
    "brewery_person.figure.savefig(\"brewery_person.png\")"
   ]
  },
  {
   "cell_type": "code",
   "execution_count": 9,
   "metadata": {},
   "outputs": [
    {
     "data": {
      "text/html": [
       "<div>\n",
       "<style scoped>\n",
       "    .dataframe tbody tr th:only-of-type {\n",
       "        vertical-align: middle;\n",
       "    }\n",
       "\n",
       "    .dataframe tbody tr th {\n",
       "        vertical-align: top;\n",
       "    }\n",
       "\n",
       "    .dataframe thead th {\n",
       "        text-align: right;\n",
       "    }\n",
       "</style>\n",
       "<table border=\"1\" class=\"dataframe\">\n",
       "  <thead>\n",
       "    <tr style=\"text-align: right;\">\n",
       "      <th></th>\n",
       "      <th>winery_count</th>\n",
       "    </tr>\n",
       "    <tr>\n",
       "      <th>Abbrev</th>\n",
       "      <th></th>\n",
       "    </tr>\n",
       "  </thead>\n",
       "  <tbody>\n",
       "    <tr>\n",
       "      <th>AL</th>\n",
       "      <td>35</td>\n",
       "    </tr>\n",
       "    <tr>\n",
       "      <th>AK</th>\n",
       "      <td>8</td>\n",
       "    </tr>\n",
       "    <tr>\n",
       "      <th>AZ</th>\n",
       "      <td>94</td>\n",
       "    </tr>\n",
       "    <tr>\n",
       "      <th>AR</th>\n",
       "      <td>33</td>\n",
       "    </tr>\n",
       "    <tr>\n",
       "      <th>CA</th>\n",
       "      <td>4816</td>\n",
       "    </tr>\n",
       "  </tbody>\n",
       "</table>\n",
       "</div>"
      ],
      "text/plain": [
       "        winery_count\n",
       "Abbrev              \n",
       "AL                35\n",
       "AK                 8\n",
       "AZ                94\n",
       "AR                33\n",
       "CA              4816"
      ]
     },
     "execution_count": 9,
     "metadata": {},
     "output_type": "execute_result"
    }
   ],
   "source": [
    "# Dataframe for just winery count\n",
    "winery_count_df = cons_census_df[[\"Abbrev\", 'winery_count']].copy()\n",
    "winery_count_df.set_index([\"Abbrev\"], inplace=True)\n",
    "winery_count_df.head()"
   ]
  },
  {
   "cell_type": "code",
   "execution_count": 10,
   "metadata": {},
   "outputs": [
    {
     "data": {
      "text/html": [
       "<div>\n",
       "<style scoped>\n",
       "    .dataframe tbody tr th:only-of-type {\n",
       "        vertical-align: middle;\n",
       "    }\n",
       "\n",
       "    .dataframe tbody tr th {\n",
       "        vertical-align: top;\n",
       "    }\n",
       "\n",
       "    .dataframe thead th {\n",
       "        text-align: right;\n",
       "    }\n",
       "</style>\n",
       "<table border=\"1\" class=\"dataframe\">\n",
       "  <thead>\n",
       "    <tr style=\"text-align: right;\">\n",
       "      <th></th>\n",
       "      <th>wineries_k_pop</th>\n",
       "    </tr>\n",
       "    <tr>\n",
       "      <th>Abbrev</th>\n",
       "      <th></th>\n",
       "    </tr>\n",
       "  </thead>\n",
       "  <tbody>\n",
       "    <tr>\n",
       "      <th>AL</th>\n",
       "      <td>0.007230</td>\n",
       "    </tr>\n",
       "    <tr>\n",
       "      <th>AK</th>\n",
       "      <td>0.010857</td>\n",
       "    </tr>\n",
       "    <tr>\n",
       "      <th>AZ</th>\n",
       "      <td>0.013970</td>\n",
       "    </tr>\n",
       "    <tr>\n",
       "      <th>AR</th>\n",
       "      <td>0.011117</td>\n",
       "    </tr>\n",
       "    <tr>\n",
       "      <th>CA</th>\n",
       "      <td>0.124592</td>\n",
       "    </tr>\n",
       "  </tbody>\n",
       "</table>\n",
       "</div>"
      ],
      "text/plain": [
       "        wineries_k_pop\n",
       "Abbrev                \n",
       "AL            0.007230\n",
       "AK            0.010857\n",
       "AZ            0.013970\n",
       "AR            0.011117\n",
       "CA            0.124592"
      ]
     },
     "execution_count": 10,
     "metadata": {},
     "output_type": "execute_result"
    }
   ],
   "source": [
    "# Dataframe for just wineries per 1000 peole by state\n",
    "winery_per_person_df = cons_census_df[[\"Abbrev\", \"wineries_k_pop\"]].copy()\n",
    "winery_per_person_df.set_index([\"Abbrev\"], inplace=True)\n",
    "winery_per_person_df.head()"
   ]
  },
  {
   "cell_type": "code",
   "execution_count": 52,
   "metadata": {},
   "outputs": [
    {
     "data": {
      "image/png": "[encoded data removed]",
      "text/plain": [
       "<Figure size 1440x216 with 1 Axes>"
      ]
     },
     "metadata": {},
     "output_type": "display_data"
    }
   ],
   "source": [
    "# Plotting winery count by state\n",
    "winery_count = winery_count_df.plot(kind=\"bar\", figsize=(20,3), color=t_colors[0], edgecolor=te_colors[0], title = \"Winery Count by State (not adjusted for population)\")\n",
    "plt.show(winery_count)\n",
    "winery_count.figure.savefig(\"winery_count.png\")"
   ]
  },
  {
   "cell_type": "code",
   "execution_count": 53,
   "metadata": {},
   "outputs": [
    {
     "data": {
      "image/png": "[encoded data removed]",
      "text/plain": [
       "<Figure size 1440x216 with 1 Axes>"
      ]
     },
     "metadata": {},
     "output_type": "display_data"
    }
   ],
   "source": [
    "# Plotting wineries per 1000 people by state\n",
    "winery_person = winery_per_person_df.plot(kind=\"bar\", figsize=(20,3), color=t_colors[0], edgecolor=te_colors[0], title = \"Winery Count by State (adjusted for population)\")\n",
    "plt.show(winery_person)\n",
    "winery_person.figure.savefig(\"winery_person.png\")"
   ]
  },
  {
   "cell_type": "code",
   "execution_count": 13,
   "metadata": {},
   "outputs": [
    {
     "data": {
      "text/html": [
       "<div>\n",
       "<style scoped>\n",
       "    .dataframe tbody tr th:only-of-type {\n",
       "        vertical-align: middle;\n",
       "    }\n",
       "\n",
       "    .dataframe tbody tr th {\n",
       "        vertical-align: top;\n",
       "    }\n",
       "\n",
       "    .dataframe thead th {\n",
       "        text-align: right;\n",
       "    }\n",
       "</style>\n",
       "<table border=\"1\" class=\"dataframe\">\n",
       "  <thead>\n",
       "    <tr style=\"text-align: right;\">\n",
       "      <th></th>\n",
       "      <th>craft_distillery_count</th>\n",
       "    </tr>\n",
       "    <tr>\n",
       "      <th>Abbrev</th>\n",
       "      <th></th>\n",
       "    </tr>\n",
       "  </thead>\n",
       "  <tbody>\n",
       "    <tr>\n",
       "      <th>AL</th>\n",
       "      <td>8</td>\n",
       "    </tr>\n",
       "    <tr>\n",
       "      <th>AK</th>\n",
       "      <td>6</td>\n",
       "    </tr>\n",
       "    <tr>\n",
       "      <th>AZ</th>\n",
       "      <td>19</td>\n",
       "    </tr>\n",
       "    <tr>\n",
       "      <th>AR</th>\n",
       "      <td>3</td>\n",
       "    </tr>\n",
       "    <tr>\n",
       "      <th>CA</th>\n",
       "      <td>118</td>\n",
       "    </tr>\n",
       "  </tbody>\n",
       "</table>\n",
       "</div>"
      ],
      "text/plain": [
       "        craft_distillery_count\n",
       "Abbrev                        \n",
       "AL                           8\n",
       "AK                           6\n",
       "AZ                          19\n",
       "AR                           3\n",
       "CA                         118"
      ]
     },
     "execution_count": 13,
     "metadata": {},
     "output_type": "execute_result"
    }
   ],
   "source": [
    "# Dataframe for just distillery count\n",
    "distillery_count_df = cons_census_df[[\"Abbrev\", 'craft_distillery_count']].copy()\n",
    "distillery_count_df.set_index([\"Abbrev\"], inplace=True)\n",
    "distillery_count_df.head()"
   ]
  },
  {
   "cell_type": "code",
   "execution_count": 14,
   "metadata": {},
   "outputs": [
    {
     "data": {
      "text/html": [
       "<div>\n",
       "<style scoped>\n",
       "    .dataframe tbody tr th:only-of-type {\n",
       "        vertical-align: middle;\n",
       "    }\n",
       "\n",
       "    .dataframe tbody tr th {\n",
       "        vertical-align: top;\n",
       "    }\n",
       "\n",
       "    .dataframe thead th {\n",
       "        text-align: right;\n",
       "    }\n",
       "</style>\n",
       "<table border=\"1\" class=\"dataframe\">\n",
       "  <thead>\n",
       "    <tr style=\"text-align: right;\">\n",
       "      <th></th>\n",
       "      <th>distilleries_k_pop</th>\n",
       "    </tr>\n",
       "    <tr>\n",
       "      <th>Abbrev</th>\n",
       "      <th></th>\n",
       "    </tr>\n",
       "  </thead>\n",
       "  <tbody>\n",
       "    <tr>\n",
       "      <th>AL</th>\n",
       "      <td>0.001652</td>\n",
       "    </tr>\n",
       "    <tr>\n",
       "      <th>AK</th>\n",
       "      <td>0.008143</td>\n",
       "    </tr>\n",
       "    <tr>\n",
       "      <th>AZ</th>\n",
       "      <td>0.002824</td>\n",
       "    </tr>\n",
       "    <tr>\n",
       "      <th>AR</th>\n",
       "      <td>0.001011</td>\n",
       "    </tr>\n",
       "    <tr>\n",
       "      <th>CA</th>\n",
       "      <td>0.003053</td>\n",
       "    </tr>\n",
       "  </tbody>\n",
       "</table>\n",
       "</div>"
      ],
      "text/plain": [
       "        distilleries_k_pop\n",
       "Abbrev                    \n",
       "AL                0.001652\n",
       "AK                0.008143\n",
       "AZ                0.002824\n",
       "AR                0.001011\n",
       "CA                0.003053"
      ]
     },
     "execution_count": 14,
     "metadata": {},
     "output_type": "execute_result"
    }
   ],
   "source": [
    "# Dataframe for just distillery per 1000 peole by state\n",
    "distillery_per_person_df = cons_census_df[[\"Abbrev\", \"distilleries_k_pop\"]].copy()\n",
    "distillery_per_person_df.set_index([\"Abbrev\"], inplace=True)\n",
    "distillery_per_person_df.head()"
   ]
  },
  {
   "cell_type": "code",
   "execution_count": 54,
   "metadata": {},
   "outputs": [
    {
     "data": {
      "image/png": "[encoded data removed]",
      "text/plain": [
       "<Figure size 1440x216 with 1 Axes>"
      ]
     },
     "metadata": {},
     "output_type": "display_data"
    }
   ],
   "source": [
    "## Plotting distillery count by state\n",
    "distillery_count = distillery_count_df.plot(kind=\"bar\", figsize=(20,3), color=t_colors[2], edgecolor=te_colors[2], title = \"Distillery Count by State (not adjusted for population)\")\n",
    "plt.show(distillery_count)\n",
    "distillery_count.figure.savefig(\"distillery_count.png\")"
   ]
  },
  {
   "cell_type": "code",
   "execution_count": 55,
   "metadata": {},
   "outputs": [
    {
     "data": {
      "image/png": "[encoded data removed]",
      "text/plain": [
       "<Figure size 1440x216 with 1 Axes>"
      ]
     },
     "metadata": {},
     "output_type": "display_data"
    }
   ],
   "source": [
    "# Plotting distilleries per 1000 people by state\n",
    "distillery_person = distillery_per_person_df.plot(kind=\"bar\", color=t_colors[2], edgecolor=te_colors[2], figsize=(20,3), title = \"Distillery Count by State (adjusted for population)\")\n",
    "plt.show(distillery_person)\n",
    "distillery_person.figure.savefig(\"distillery_person.png\")"
   ]
  },
  {
   "cell_type": "code",
   "execution_count": 17,
   "metadata": {},
   "outputs": [
    {
     "data": {
      "text/html": [
       "<div>\n",
       "<style scoped>\n",
       "    .dataframe tbody tr th:only-of-type {\n",
       "        vertical-align: middle;\n",
       "    }\n",
       "\n",
       "    .dataframe tbody tr th {\n",
       "        vertical-align: top;\n",
       "    }\n",
       "\n",
       "    .dataframe thead th {\n",
       "        text-align: right;\n",
       "    }\n",
       "</style>\n",
       "<table border=\"1\" class=\"dataframe\">\n",
       "  <thead>\n",
       "    <tr style=\"text-align: right;\">\n",
       "      <th></th>\n",
       "      <th>winery_count</th>\n",
       "      <th>brewery_count</th>\n",
       "      <th>craft_distillery_count</th>\n",
       "    </tr>\n",
       "    <tr>\n",
       "      <th>Abbrev</th>\n",
       "      <th></th>\n",
       "      <th></th>\n",
       "      <th></th>\n",
       "    </tr>\n",
       "  </thead>\n",
       "  <tbody>\n",
       "    <tr>\n",
       "      <th>AL</th>\n",
       "      <td>35</td>\n",
       "      <td>22</td>\n",
       "      <td>8</td>\n",
       "    </tr>\n",
       "    <tr>\n",
       "      <th>AK</th>\n",
       "      <td>8</td>\n",
       "      <td>19</td>\n",
       "      <td>6</td>\n",
       "    </tr>\n",
       "    <tr>\n",
       "      <th>AZ</th>\n",
       "      <td>94</td>\n",
       "      <td>37</td>\n",
       "      <td>19</td>\n",
       "    </tr>\n",
       "    <tr>\n",
       "      <th>AR</th>\n",
       "      <td>33</td>\n",
       "      <td>14</td>\n",
       "      <td>3</td>\n",
       "    </tr>\n",
       "    <tr>\n",
       "      <th>CA</th>\n",
       "      <td>4816</td>\n",
       "      <td>315</td>\n",
       "      <td>118</td>\n",
       "    </tr>\n",
       "  </tbody>\n",
       "</table>\n",
       "</div>"
      ],
      "text/plain": [
       "        winery_count  brewery_count  craft_distillery_count\n",
       "Abbrev                                                     \n",
       "AL                35             22                       8\n",
       "AK                 8             19                       6\n",
       "AZ                94             37                      19\n",
       "AR                33             14                       3\n",
       "CA              4816            315                     118"
      ]
     },
     "execution_count": 17,
     "metadata": {},
     "output_type": "execute_result"
    }
   ],
   "source": [
    "# Creating a dataframe with all the counts not adjusted for population\n",
    "alc_count_df = cons_census_df[[\"Abbrev\", \"winery_count\", 'brewery_count', \"craft_distillery_count\"]].copy()\n",
    "alc_count_df.set_index([\"Abbrev\"], inplace=True)\n",
    "alc_count_df.head()"
   ]
  },
  {
   "cell_type": "code",
   "execution_count": 46,
   "metadata": {},
   "outputs": [
    {
     "data": {
      "image/png": "[encoded data removed]",
      "text/plain": [
       "<Figure size 1440x432 with 1 Axes>"
      ]
     },
     "metadata": {},
     "output_type": "display_data"
    }
   ],
   "source": [
    "ts_bar= alc_count_df.loc[:,[\"winery_count\", 'brewery_count', \"craft_distillery_count\"]].plot.bar(stacked=True, color=t_colors, edgecolor=\"black\", linewidth=\"1\",aa=True, figsize=(20,6))\n",
    "ts_bar.figure.savefig(\"est_state.png\")"
   ]
  },
  {
   "cell_type": "code",
   "execution_count": 41,
   "metadata": {},
   "outputs": [
    {
     "data": {
      "text/html": [
       "<div id=\"vis9f471a08123645a9a434293fbbac4c7e\"></div>\n",
       "<script>\n",
       "   ( function() {\n",
       "     var _do_plot = function() {\n",
       "       if (typeof vg === 'undefined') {\n",
       "         window.addEventListener('vincent_libs_loaded', _do_plot)\n",
       "         return;\n",
       "       }\n",
       "       vg.parse.spec({\"axes\": [{\"scale\": \"x\", \"title\": \"State\", \"type\": \"x\"}, {\"scale\": \"y\", \"title\": \"Count (unadjusted for population)\", \"type\": \"y\"}], \"data\": [{\"name\": \"table\", \"values\": [{\"col\": \"winery_count\", \"idx\": \"AL\", \"val\": 35}, {\"col\": \"brewery_count\", \"idx\": \"AL\", \"val\": 22}, {\"col\": \"craft_distillery_count\", \"idx\": \"AL\", \"val\": 8}, {\"col\": \"winery_count\", \"idx\": \"AK\", \"val\": 8}, {\"col\": \"brewery_count\", \"idx\": \"AK\", \"val\": 19}, {\"col\": \"craft_distillery_count\", \"idx\": \"AK\", \"val\": 6}, {\"col\": \"winery_count\", \"idx\": \"AZ\", \"val\": 94}, {\"col\": \"brewery_count\", \"idx\": \"AZ\", \"val\": 37}, {\"col\": \"craft_distillery_count\", \"idx\": \"AZ\", \"val\": 19}, {\"col\": \"winery_count\", \"idx\": \"AR\", \"val\": 33}, {\"col\": \"brewery_count\", \"idx\": \"AR\", \"val\": 14}, {\"col\": \"craft_distillery_count\", \"idx\": \"AR\", \"val\": 3}, {\"col\": \"winery_count\", \"idx\": \"CA\", \"val\": 4816}, {\"col\": \"brewery_count\", \"idx\": \"CA\", \"val\": 315}, {\"col\": \"craft_distillery_count\", \"idx\": \"CA\", \"val\": 118}, {\"col\": \"winery_count\", \"idx\": \"CO\", \"val\": 182}, {\"col\": \"brewery_count\", \"idx\": \"CO\", \"val\": 200}, {\"col\": \"craft_distillery_count\", \"idx\": \"CO\", \"val\": 72}, {\"col\": \"winery_count\", \"idx\": \"CT\", \"val\": 68}, {\"col\": \"brewery_count\", \"idx\": \"CT\", \"val\": 22}, {\"col\": \"craft_distillery_count\", \"idx\": \"CT\", \"val\": 13}, {\"col\": \"winery_count\", \"idx\": \"DE\", \"val\": 8}, {\"col\": \"brewery_count\", \"idx\": \"DE\", \"val\": 11}, {\"col\": \"craft_distillery_count\", \"idx\": \"DE\", \"val\": 5}, {\"col\": \"winery_count\", \"idx\": \"DC\", \"val\": 0}, {\"col\": \"brewery_count\", \"idx\": \"DC\", \"val\": 7}, {\"col\": \"craft_distillery_count\", \"idx\": \"DC\", \"val\": 7}, {\"col\": \"winery_count\", \"idx\": \"FL\", \"val\": 110}, {\"col\": \"brewery_count\", \"idx\": \"FL\", \"val\": 106}, {\"col\": \"craft_distillery_count\", \"idx\": \"FL\", \"val\": 37}, {\"col\": \"winery_count\", \"idx\": \"GA\", \"val\": 78}, {\"col\": \"brewery_count\", \"idx\": \"GA\", \"val\": 32}, {\"col\": \"craft_distillery_count\", \"idx\": \"GA\", \"val\": 17}, {\"col\": \"winery_count\", \"idx\": \"HI\", \"val\": 11}, {\"col\": \"brewery_count\", \"idx\": \"HI\", \"val\": 9}, {\"col\": \"craft_distillery_count\", \"idx\": \"HI\", \"val\": 10}, {\"col\": \"winery_count\", \"idx\": \"ID\", \"val\": 72}, {\"col\": \"brewery_count\", \"idx\": \"ID\", \"val\": 20}, {\"col\": \"craft_distillery_count\", \"idx\": \"ID\", \"val\": 12}, {\"col\": \"winery_count\", \"idx\": \"IL\", \"val\": 155}, {\"col\": \"brewery_count\", \"idx\": \"IL\", \"val\": 66}, {\"col\": \"craft_distillery_count\", \"idx\": \"IL\", \"val\": 31}, {\"col\": \"winery_count\", \"idx\": \"IN\", \"val\": 122}, {\"col\": \"brewery_count\", \"idx\": \"IN\", \"val\": 50}, {\"col\": \"craft_distillery_count\", \"idx\": \"IN\", \"val\": 25}, {\"col\": \"winery_count\", \"idx\": \"IA\", \"val\": 135}, {\"col\": \"brewery_count\", \"idx\": \"IA\", \"val\": 35}, {\"col\": \"craft_distillery_count\", \"idx\": \"IA\", \"val\": 16}, {\"col\": \"winery_count\", \"idx\": \"KS\", \"val\": 50}, {\"col\": \"brewery_count\", \"idx\": \"KS\", \"val\": 10}, {\"col\": \"craft_distillery_count\", \"idx\": \"KS\", \"val\": 5}, {\"col\": \"winery_count\", \"idx\": \"KY\", \"val\": 102}, {\"col\": \"brewery_count\", \"idx\": \"KY\", \"val\": 22}, {\"col\": \"craft_distillery_count\", \"idx\": \"KY\", \"val\": 35}, {\"col\": \"winery_count\", \"idx\": \"LA\", \"val\": 14}, {\"col\": \"brewery_count\", \"idx\": \"LA\", \"val\": 17}, {\"col\": \"craft_distillery_count\", \"idx\": \"LA\", \"val\": 11}, {\"col\": \"winery_count\", \"idx\": \"ME\", \"val\": 54}, {\"col\": \"brewery_count\", \"idx\": \"ME\", \"val\": 34}, {\"col\": \"craft_distillery_count\", \"idx\": \"ME\", \"val\": 15}, {\"col\": \"winery_count\", \"idx\": \"MD\", \"val\": 122}, {\"col\": \"brewery_count\", \"idx\": \"MD\", \"val\": 53}, {\"col\": \"craft_distillery_count\", \"idx\": \"MD\", \"val\": 17}, {\"col\": \"winery_count\", \"idx\": \"MA\", \"val\": 105}, {\"col\": \"brewery_count\", \"idx\": \"MA\", \"val\": 57}, {\"col\": \"craft_distillery_count\", \"idx\": \"MA\", \"val\": 0}, {\"col\": \"winery_count\", \"idx\": \"MI\", \"val\": 418}, {\"col\": \"brewery_count\", \"idx\": \"MI\", \"val\": 82}, {\"col\": \"craft_distillery_count\", \"idx\": \"MI\", \"val\": 36}, {\"col\": \"winery_count\", \"idx\": \"MN\", \"val\": 101}, {\"col\": \"brewery_count\", \"idx\": \"MN\", \"val\": 61}, {\"col\": \"craft_distillery_count\", \"idx\": \"MN\", \"val\": 23}, {\"col\": \"winery_count\", \"idx\": \"MS\", \"val\": 9}, {\"col\": \"brewery_count\", \"idx\": \"MS\", \"val\": 7}, {\"col\": \"craft_distillery_count\", \"idx\": \"MS\", \"val\": 3}, {\"col\": \"winery_count\", \"idx\": \"MO\", \"val\": 230}, {\"col\": \"brewery_count\", \"idx\": \"MO\", \"val\": 48}, {\"col\": \"craft_distillery_count\", \"idx\": \"MO\", \"val\": 30}, {\"col\": \"winery_count\", \"idx\": \"MT\", \"val\": 27}, {\"col\": \"brewery_count\", \"idx\": \"MT\", \"val\": 38}, {\"col\": \"craft_distillery_count\", \"idx\": \"MT\", \"val\": 20}, {\"col\": \"winery_count\", \"idx\": \"NE\", \"val\": 38}, {\"col\": \"brewery_count\", \"idx\": \"NE\", \"val\": 26}, {\"col\": \"craft_distillery_count\", \"idx\": \"NE\", \"val\": 7}, {\"col\": \"winery_count\", \"idx\": \"NV\", \"val\": 14}, {\"col\": \"brewery_count\", \"idx\": \"NV\", \"val\": 14}, {\"col\": \"craft_distillery_count\", \"idx\": \"NV\", \"val\": 10}, {\"col\": \"winery_count\", \"idx\": \"NH\", \"val\": 54}, {\"col\": \"brewery_count\", \"idx\": \"NH\", \"val\": 22}, {\"col\": \"craft_distillery_count\", \"idx\": \"NH\", \"val\": 12}, {\"col\": \"winery_count\", \"idx\": \"NJ\", \"val\": 78}, {\"col\": \"brewery_count\", \"idx\": \"NJ\", \"val\": 75}, {\"col\": \"craft_distillery_count\", \"idx\": \"NJ\", \"val\": 16}, {\"col\": \"winery_count\", \"idx\": \"NM\", \"val\": 85}, {\"col\": \"brewery_count\", \"idx\": \"NM\", \"val\": 18}, {\"col\": \"craft_distillery_count\", \"idx\": \"NM\", \"val\": 10}, {\"col\": \"winery_count\", \"idx\": \"NY\", \"val\": 560}, {\"col\": \"brewery_count\", \"idx\": \"NY\", \"val\": 117}, {\"col\": \"craft_distillery_count\", \"idx\": \"NY\", \"val\": 104}, {\"col\": \"winery_count\", \"idx\": \"NC\", \"val\": 206}, {\"col\": \"brewery_count\", \"idx\": \"NC\", \"val\": 112}, {\"col\": \"craft_distillery_count\", \"idx\": \"NC\", \"val\": 42}, {\"col\": \"winery_count\", \"idx\": \"ND\", \"val\": 18}, {\"col\": \"brewery_count\", \"idx\": \"ND\", \"val\": 3}, {\"col\": \"craft_distillery_count\", \"idx\": \"ND\", \"val\": 3}, {\"col\": \"winery_count\", \"idx\": \"OH\", \"val\": 323}, {\"col\": \"brewery_count\", \"idx\": \"OH\", \"val\": 85}, {\"col\": \"craft_distillery_count\", \"idx\": \"OH\", \"val\": 39}, {\"col\": \"winery_count\", \"idx\": \"OK\", \"val\": 80}, {\"col\": \"brewery_count\", \"idx\": \"OK\", \"val\": 6}, {\"col\": \"craft_distillery_count\", \"idx\": \"OK\", \"val\": 6}, {\"col\": \"winery_count\", \"idx\": \"OR\", \"val\": 683}, {\"col\": \"brewery_count\", \"idx\": \"OR\", \"val\": 81}, {\"col\": \"craft_distillery_count\", \"idx\": \"OR\", \"val\": 53}, {\"col\": \"winery_count\", \"idx\": \"PA\", \"val\": 353}, {\"col\": \"brewery_count\", \"idx\": \"PA\", \"val\": 183}, {\"col\": \"craft_distillery_count\", \"idx\": \"PA\", \"val\": 46}, {\"col\": \"winery_count\", \"idx\": \"RI\", \"val\": 21}, {\"col\": \"brewery_count\", \"idx\": \"RI\", \"val\": 7}, {\"col\": \"craft_distillery_count\", \"idx\": \"RI\", \"val\": 4}, {\"col\": \"winery_count\", \"idx\": \"SC\", \"val\": 36}, {\"col\": \"brewery_count\", \"idx\": \"SC\", \"val\": 23}, {\"col\": \"craft_distillery_count\", \"idx\": \"SC\", \"val\": 29}, {\"col\": \"winery_count\", \"idx\": \"SD\", \"val\": 32}, {\"col\": \"brewery_count\", \"idx\": \"SD\", \"val\": 12}, {\"col\": \"craft_distillery_count\", \"idx\": \"SD\", \"val\": 6}, {\"col\": \"winery_count\", \"idx\": \"TE\", \"val\": 0}, {\"col\": \"brewery_count\", \"idx\": \"TE\", \"val\": 0}, {\"col\": \"craft_distillery_count\", \"idx\": \"TE\", \"val\": 32}, {\"col\": \"winery_count\", \"idx\": \"TX\", \"val\": 570}, {\"col\": \"brewery_count\", \"idx\": \"TX\", \"val\": 91}, {\"col\": \"craft_distillery_count\", \"idx\": \"TX\", \"val\": 71}, {\"col\": \"winery_count\", \"idx\": \"UT\", \"val\": 17}, {\"col\": \"brewery_count\", \"idx\": \"UT\", \"val\": 13}, {\"col\": \"craft_distillery_count\", \"idx\": \"UT\", \"val\": 10}, {\"col\": \"winery_count\", \"idx\": \"VT\", \"val\": 61}, {\"col\": \"brewery_count\", \"idx\": \"VT\", \"val\": 29}, {\"col\": \"craft_distillery_count\", \"idx\": \"VT\", \"val\": 18}, {\"col\": \"winery_count\", \"idx\": \"VA\", \"val\": 352}, {\"col\": \"brewery_count\", \"idx\": \"VA\", \"val\": 152}, {\"col\": \"craft_distillery_count\", \"idx\": \"VA\", \"val\": 35}, {\"col\": \"winery_count\", \"idx\": \"WA\", \"val\": 1066}, {\"col\": \"brewery_count\", \"idx\": \"WA\", \"val\": 156}, {\"col\": \"craft_distillery_count\", \"idx\": \"WA\", \"val\": 103}, {\"col\": \"winery_count\", \"idx\": \"WV\", \"val\": 32}, {\"col\": \"brewery_count\", \"idx\": \"WV\", \"val\": 13}, {\"col\": \"craft_distillery_count\", \"idx\": \"WV\", \"val\": 11}, {\"col\": \"winery_count\", \"idx\": \"WI\", \"val\": 145}, {\"col\": \"brewery_count\", \"idx\": \"WI\", \"val\": 73}, {\"col\": \"craft_distillery_count\", \"idx\": \"WI\", \"val\": 23}, {\"col\": \"winery_count\", \"idx\": \"WY\", \"val\": 8}, {\"col\": \"brewery_count\", \"idx\": \"WY\", \"val\": 8}, {\"col\": \"craft_distillery_count\", \"idx\": \"WY\", \"val\": 6}, {\"col\": \"winery_count\", \"idx\": \"PR\", \"val\": 0}, {\"col\": \"brewery_count\", \"idx\": \"PR\", \"val\": 0}, {\"col\": \"craft_distillery_count\", \"idx\": \"PR\", \"val\": 0}]}, {\"name\": \"stats\", \"source\": \"table\", \"transform\": [{\"keys\": [\"data.idx\"], \"type\": \"facet\"}, {\"type\": \"stats\", \"value\": \"data.val\"}]}], \"height\": 500, \"legends\": [{\"fill\": \"color\", \"offset\": 0, \"properties\": {}, \"title\": \"Alcohol Type\"}], \"marks\": [{\"from\": {\"data\": \"table\", \"transform\": [{\"keys\": [\"data.col\"], \"type\": \"facet\"}, {\"height\": \"data.val\", \"point\": \"data.idx\", \"type\": \"stack\"}]}, \"marks\": [{\"properties\": {\"enter\": {\"fill\": {\"field\": \"data.col\", \"scale\": \"color\"}, \"width\": {\"band\": true, \"offset\": -1, \"scale\": \"x\"}, \"x\": {\"field\": \"data.idx\", \"scale\": \"x\"}, \"y\": {\"field\": \"y\", \"scale\": \"y\"}, \"y2\": {\"field\": \"y2\", \"scale\": \"y\"}}}, \"type\": \"rect\"}], \"type\": \"group\"}], \"padding\": \"auto\", \"scales\": [{\"domain\": {\"data\": \"table\", \"field\": \"data.idx\"}, \"name\": \"x\", \"range\": \"width\", \"type\": \"ordinal\", \"zero\": false}, {\"domain\": {\"data\": \"stats\", \"field\": \"sum\"}, \"name\": \"y\", \"nice\": true, \"range\": \"height\"}, {\"domain\": {\"data\": \"table\", \"field\": \"data.col\"}, \"name\": \"color\", \"range\": \"category20\", \"type\": \"ordinal\"}], \"width\": 960}, function(chart) {\n",
       "         chart({el: \"#vis9f471a08123645a9a434293fbbac4c7e\"}).update();\n",
       "       });\n",
       "     };\n",
       "     _do_plot();\n",
       "   })();\n",
       "</script>\n",
       "<style>.vega canvas {width: 100%;}</style>\n",
       "        "
      ],
      "text/plain": [
       "<IPython.core.display.HTML object>"
      ]
     },
     "metadata": {},
     "output_type": "display_data"
    },
    {
     "data": {
      "text/plain": [
       "<Figure size 432x288 with 0 Axes>"
      ]
     },
     "metadata": {},
     "output_type": "display_data"
    }
   ],
   "source": [
    "# Creating a stacked bar chart based on straight count\n",
    "stack = vincent.StackedBar(alc_count_df)\n",
    "stack.axis_titles(x='State', y='Count (unadjusted for population)')\n",
    "stack.legend(title='Alcohol Type')\n",
    "#stack.colors(brew=\"Spectral\")\n",
    "stack.display()\n",
    "plt.savefig(\"count_stacked.png\")"
   ]
  },
  {
   "cell_type": "code",
   "execution_count": 19,
   "metadata": {},
   "outputs": [
    {
     "data": {
      "text/html": [
       "<div>\n",
       "<style scoped>\n",
       "    .dataframe tbody tr th:only-of-type {\n",
       "        vertical-align: middle;\n",
       "    }\n",
       "\n",
       "    .dataframe tbody tr th {\n",
       "        vertical-align: top;\n",
       "    }\n",
       "\n",
       "    .dataframe thead th {\n",
       "        text-align: right;\n",
       "    }\n",
       "</style>\n",
       "<table border=\"1\" class=\"dataframe\">\n",
       "  <thead>\n",
       "    <tr style=\"text-align: right;\">\n",
       "      <th></th>\n",
       "      <th>wineries_k_pop</th>\n",
       "      <th>breweries_k_pop</th>\n",
       "      <th>distilleries_k_pop</th>\n",
       "    </tr>\n",
       "    <tr>\n",
       "      <th>Abbrev</th>\n",
       "      <th></th>\n",
       "      <th></th>\n",
       "      <th></th>\n",
       "    </tr>\n",
       "  </thead>\n",
       "  <tbody>\n",
       "    <tr>\n",
       "      <th>AL</th>\n",
       "      <td>0.007230</td>\n",
       "      <td>0.004544</td>\n",
       "      <td>0.001652</td>\n",
       "    </tr>\n",
       "    <tr>\n",
       "      <th>AK</th>\n",
       "      <td>0.010857</td>\n",
       "      <td>0.025785</td>\n",
       "      <td>0.008143</td>\n",
       "    </tr>\n",
       "    <tr>\n",
       "      <th>AZ</th>\n",
       "      <td>0.013970</td>\n",
       "      <td>0.005499</td>\n",
       "      <td>0.002824</td>\n",
       "    </tr>\n",
       "    <tr>\n",
       "      <th>AR</th>\n",
       "      <td>0.011117</td>\n",
       "      <td>0.004716</td>\n",
       "      <td>0.001011</td>\n",
       "    </tr>\n",
       "    <tr>\n",
       "      <th>CA</th>\n",
       "      <td>0.124592</td>\n",
       "      <td>0.008149</td>\n",
       "      <td>0.003053</td>\n",
       "    </tr>\n",
       "  </tbody>\n",
       "</table>\n",
       "</div>"
      ],
      "text/plain": [
       "        wineries_k_pop  breweries_k_pop  distilleries_k_pop\n",
       "Abbrev                                                     \n",
       "AL            0.007230         0.004544            0.001652\n",
       "AK            0.010857         0.025785            0.008143\n",
       "AZ            0.013970         0.005499            0.002824\n",
       "AR            0.011117         0.004716            0.001011\n",
       "CA            0.124592         0.008149            0.003053"
      ]
     },
     "execution_count": 19,
     "metadata": {},
     "output_type": "execute_result"
    }
   ],
   "source": [
    "# Creating a dataframe with all the counts not adjusted for population\n",
    "alc_person_df = cons_census_df[[\"Abbrev\", \"wineries_k_pop\", \"breweries_k_pop\", \"distilleries_k_pop\"]].copy()\n",
    "alc_person_df.set_index([\"Abbrev\"], inplace=True)\n",
    "alc_person_df.head()"
   ]
  },
  {
   "cell_type": "code",
   "execution_count": 35,
   "metadata": {},
   "outputs": [
    {
     "data": {
      "text/html": [
       "<div id=\"vis53e7d8b2c38f434982ab76d03d5828c1\"></div>\n",
       "<script>\n",
       "   ( function() {\n",
       "     var _do_plot = function() {\n",
       "       if (typeof vg === 'undefined') {\n",
       "         window.addEventListener('vincent_libs_loaded', _do_plot)\n",
       "         return;\n",
       "       }\n",
       "       vg.parse.spec({\"axes\": [{\"scale\": \"x\", \"title\": \"State\", \"type\": \"x\"}, {\"scale\": \"y\", \"title\": \"Count (adjusted for population)\", \"type\": \"y\"}], \"data\": [{\"name\": \"table\", \"values\": [{\"col\": \"wineries_k_pop\", \"idx\": \"AL\", \"val\": 0.007229666253818297}, {\"col\": \"breweries_k_pop\", \"idx\": \"AL\", \"val\": 0.004544361645257215}, {\"col\": \"distilleries_k_pop\", \"idx\": \"AL\", \"val\": 0.001652495143729896}, {\"col\": \"wineries_k_pop\", \"idx\": \"AK\", \"val\": 0.0108569528604678}, {\"col\": \"breweries_k_pop\", \"idx\": \"AK\", \"val\": 0.02578526304361102}, {\"col\": \"distilleries_k_pop\", \"idx\": \"AK\", \"val\": 0.00814271464535085}, {\"col\": \"wineries_k_pop\", \"idx\": \"AZ\", \"val\": 0.01397026444075768}, {\"col\": \"breweries_k_pop\", \"idx\": \"AZ\", \"val\": 0.005498933875617385}, {\"col\": \"distilleries_k_pop\", \"idx\": \"AZ\", \"val\": 0.002823776855046765}, {\"col\": \"wineries_k_pop\", \"idx\": \"AR\", \"val\": 0.01111683047709394}, {\"col\": \"breweries_k_pop\", \"idx\": \"AR\", \"val\": 0.004716231111494398}, {\"col\": \"distilleries_k_pop\", \"idx\": \"AR\", \"val\": 0.001010620952463085}, {\"col\": \"wineries_k_pop\", \"idx\": \"CA\", \"val\": 0.1245918749436995}, {\"col\": \"breweries_k_pop\", \"idx\": \"CA\", \"val\": 0.008149177866957092}, {\"col\": \"distilleries_k_pop\", \"idx\": \"CA\", \"val\": 0.003052707899368054}, {\"col\": \"wineries_k_pop\", \"idx\": \"CO\", \"val\": 0.03395969059363219}, {\"col\": \"breweries_k_pop\", \"idx\": \"CO\", \"val\": 0.03731834131168372}, {\"col\": \"distilleries_k_pop\", \"idx\": \"CO\", \"val\": 0.01343460287220614}, {\"col\": \"wineries_k_pop\", \"idx\": \"CT\", \"val\": 0.01894905212939973}, {\"col\": \"breweries_k_pop\", \"idx\": \"CT\", \"val\": 0.006130575688923443}, {\"col\": \"distilleries_k_pop\", \"idx\": \"CT\", \"val\": 0.003622612907091125}, {\"col\": \"wineries_k_pop\", \"idx\": \"DE\", \"val\": 0.00855894168686042}, {\"col\": \"breweries_k_pop\", \"idx\": \"DE\", \"val\": 0.01176854481943308}, {\"col\": \"distilleries_k_pop\", \"idx\": \"DE\", \"val\": 0.005349338554287762}, {\"col\": \"wineries_k_pop\", \"idx\": \"DC\", \"val\": 0.0}, {\"col\": \"breweries_k_pop\", \"idx\": \"DC\", \"val\": 0.0106220097145866}, {\"col\": \"distilleries_k_pop\", \"idx\": \"DC\", \"val\": 0.0106220097145866}, {\"col\": \"wineries_k_pop\", \"idx\": \"FL\", \"val\": 0.005518085248497688}, {\"col\": \"breweries_k_pop\", \"idx\": \"FL\", \"val\": 0.005317427603097773}, {\"col\": \"distilleries_k_pop\", \"idx\": \"FL\", \"val\": 0.001856083219949223}, {\"col\": \"wineries_k_pop\", \"idx\": \"GA\", \"val\": 0.007723292261261155}, {\"col\": \"breweries_k_pop\", \"idx\": \"GA\", \"val\": 0.003168530158466114}, {\"col\": \"distilleries_k_pop\", \"idx\": \"GA\", \"val\": 0.001683281646685123}, {\"col\": \"wineries_k_pop\", \"idx\": \"HI\", \"val\": 0.007781148822959765}, {\"col\": \"breweries_k_pop\", \"idx\": \"HI\", \"val\": 0.006366394491512535}, {\"col\": \"distilleries_k_pop\", \"idx\": \"HI\", \"val\": 0.00707377165723615}, {\"col\": \"wineries_k_pop\", \"idx\": \"ID\", \"val\": 0.04402369208362301}, {\"col\": \"breweries_k_pop\", \"idx\": \"ID\", \"val\": 0.01222880335656195}, {\"col\": \"distilleries_k_pop\", \"idx\": \"ID\", \"val\": 0.007337282013937167}, {\"col\": \"wineries_k_pop\", \"idx\": \"IL\", \"val\": 0.01206067625067657}, {\"col\": \"breweries_k_pop\", \"idx\": \"IL\", \"val\": 0.005135513758352602}, {\"col\": \"distilleries_k_pop\", \"idx\": \"IL\", \"val\": 0.002412135250135313}, {\"col\": \"wineries_k_pop\", \"idx\": \"IN\", \"val\": 0.01851408390643528}, {\"col\": \"breweries_k_pop\", \"idx\": \"IN\", \"val\": 0.007587739305916099}, {\"col\": \"distilleries_k_pop\", \"idx\": \"IN\", \"val\": 0.00379386965295805}, {\"col\": \"wineries_k_pop\", \"idx\": \"IA\", \"val\": 0.04345602202286817}, {\"col\": \"breweries_k_pop\", \"idx\": \"IA\", \"val\": 0.01126637608000286}, {\"col\": \"distilleries_k_pop\", \"idx\": \"IA\", \"val\": 0.00515034335085845}, {\"col\": \"wineries_k_pop\", \"idx\": \"KS\", \"val\": 0.01725153987244902}, {\"col\": \"breweries_k_pop\", \"idx\": \"KS\", \"val\": 0.003450307974489803}, {\"col\": \"distilleries_k_pop\", \"idx\": \"KS\", \"val\": 0.001725153987244902}, {\"col\": \"wineries_k_pop\", \"idx\": \"KY\", \"val\": 0.02311882463895536}, {\"col\": \"breweries_k_pop\", \"idx\": \"KY\", \"val\": 0.004986413157421743}, {\"col\": \"distilleries_k_pop\", \"idx\": \"KY\", \"val\": 0.007932930023170956}, {\"col\": \"wineries_k_pop\", \"idx\": \"LA\", \"val\": 0.003013558862338479}, {\"col\": \"breweries_k_pop\", \"idx\": \"LA\", \"val\": 0.003659321475696724}, {\"col\": \"distilleries_k_pop\", \"idx\": \"LA\", \"val\": 0.002367796248980233}, {\"col\": \"wineries_k_pop\", \"idx\": \"ME\", \"val\": 0.04060385450887006}, {\"col\": \"breweries_k_pop\", \"idx\": \"ME\", \"val\": 0.02556538987595523}, {\"col\": \"distilleries_k_pop\", \"idx\": \"ME\", \"val\": 0.01127884847468613}, {\"col\": \"wineries_k_pop\", \"idx\": \"MD\", \"val\": 0.02047013524719031}, {\"col\": \"breweries_k_pop\", \"idx\": \"MD\", \"val\": 0.008892763672959722}, {\"col\": \"distilleries_k_pop\", \"idx\": \"MD\", \"val\": 0.002852395895100288}, {\"col\": \"wineries_k_pop\", \"idx\": \"MA\", \"val\": 0.01557368332294346}, {\"col\": \"breweries_k_pop\", \"idx\": \"MA\", \"val\": 0.008454285232455023}, {\"col\": \"distilleries_k_pop\", \"idx\": \"MA\", \"val\": 0.0}, {\"col\": \"wineries_k_pop\", \"idx\": \"MI\", \"val\": 0.042181319124889}, {\"col\": \"breweries_k_pop\", \"idx\": \"MI\", \"val\": 0.008274804230241382}, {\"col\": \"distilleries_k_pop\", \"idx\": \"MI\", \"val\": 0.003632840881569387}, {\"col\": \"wineries_k_pop\", \"idx\": \"MN\", \"val\": 0.01852915902568178}, {\"col\": \"breweries_k_pop\", \"idx\": \"MN\", \"val\": 0.01119087822343157}, {\"col\": \"distilleries_k_pop\", \"idx\": \"MN\", \"val\": 0.004219511461293871}, {\"col\": \"wineries_k_pop\", \"idx\": \"MS\", \"val\": 0.003010847078407811}, {\"col\": \"breweries_k_pop\", \"idx\": \"MS\", \"val\": 0.002341769949872742}, {\"col\": \"distilleries_k_pop\", \"idx\": \"MS\", \"val\": 0.001003615692802603}, {\"col\": \"wineries_k_pop\", \"idx\": \"MO\", \"val\": 0.03795598129331211}, {\"col\": \"breweries_k_pop\", \"idx\": \"MO\", \"val\": 0.007921248269908613}, {\"col\": \"distilleries_k_pop\", \"idx\": \"MO\", \"val\": 0.004950780168692884}, {\"col\": \"wineries_k_pop\", \"idx\": \"MT\", \"val\": 0.02638287809840032}, {\"col\": \"breweries_k_pop\", \"idx\": \"MT\", \"val\": 0.03713145806441526}, {\"col\": \"distilleries_k_pop\", \"idx\": \"MT\", \"val\": 0.01954287266548172}, {\"col\": \"wineries_k_pop\", \"idx\": \"NE\", \"val\": 0.02019923891394008}, {\"col\": \"breweries_k_pop\", \"idx\": \"NE\", \"val\": 0.01382053188848532}, {\"col\": \"distilleries_k_pop\", \"idx\": \"NE\", \"val\": 0.003720912431515278}, {\"col\": \"wineries_k_pop\", \"idx\": \"NV\", \"val\": 0.004931015098768233}, {\"col\": \"breweries_k_pop\", \"idx\": \"NV\", \"val\": 0.004931015098768233}, {\"col\": \"distilleries_k_pop\", \"idx\": \"NV\", \"val\": 0.003522153641977309}, {\"col\": \"wineries_k_pop\", \"idx\": \"NH\", \"val\": 0.04067787417429565}, {\"col\": \"breweries_k_pop\", \"idx\": \"NH\", \"val\": 0.01657246725619452}, {\"col\": \"distilleries_k_pop\", \"idx\": \"NH\", \"val\": 0.009039527594287923}, {\"col\": \"wineries_k_pop\", \"idx\": \"NJ\", \"val\": 0.008748851432837535}, {\"col\": \"breweries_k_pop\", \"idx\": \"NJ\", \"val\": 0.008412357146959168}, {\"col\": \"distilleries_k_pop\", \"idx\": \"NJ\", \"val\": 0.001794636191351289}, {\"col\": \"wineries_k_pop\", \"idx\": \"NM\", \"val\": 0.04081301445404911}, {\"col\": \"breweries_k_pop\", \"idx\": \"NM\", \"val\": 0.008642756002033928}, {\"col\": \"distilleries_k_pop\", \"idx\": \"NM\", \"val\": 0.004801531112241072}, {\"col\": \"wineries_k_pop\", \"idx\": \"NY\", \"val\": 0.02843006587093959}, {\"col\": \"breweries_k_pop\", \"idx\": \"NY\", \"val\": 0.005939853048035592}, {\"col\": \"distilleries_k_pop\", \"idx\": \"NY\", \"val\": 0.005279869376031638}, {\"col\": \"wineries_k_pop\", \"idx\": \"NC\", \"val\": 0.02072261988639176}, {\"col\": \"breweries_k_pop\", \"idx\": \"NC\", \"val\": 0.01126666712269843}, {\"col\": \"distilleries_k_pop\", \"idx\": \"NC\", \"val\": 0.004225000171011912}, {\"col\": \"wineries_k_pop\", \"idx\": \"ND\", \"val\": 0.0244511398306351}, {\"col\": \"breweries_k_pop\", \"idx\": \"ND\", \"val\": 0.004075189971772517}, {\"col\": \"distilleries_k_pop\", \"idx\": \"ND\", \"val\": 0.004075189971772517}, {\"col\": \"wineries_k_pop\", \"idx\": \"OH\", \"val\": 0.02787620995049513}, {\"col\": \"breweries_k_pop\", \"idx\": \"OH\", \"val\": 0.007335844723814508}, {\"col\": \"distilleries_k_pop\", \"idx\": \"OH\", \"val\": 0.003365858167397245}, {\"col\": \"wineries_k_pop\", \"idx\": \"OK\", \"val\": 0.02064202370271977}, {\"col\": \"breweries_k_pop\", \"idx\": \"OK\", \"val\": 0.001548151777703983}, {\"col\": \"distilleries_k_pop\", \"idx\": \"OK\", \"val\": 0.001548151777703983}, {\"col\": \"wineries_k_pop\", \"idx\": \"OR\", \"val\": 0.1715103482513855}, {\"col\": \"breweries_k_pop\", \"idx\": \"OR\", \"val\": 0.02034017307227265}, {\"col\": \"distilleries_k_pop\", \"idx\": \"OR\", \"val\": 0.01330900213370927}, {\"col\": \"wineries_k_pop\", \"idx\": \"PA\", \"val\": 0.02761269047965277}, {\"col\": \"breweries_k_pop\", \"idx\": \"PA\", \"val\": 0.01431479421466418}, {\"col\": \"distilleries_k_pop\", \"idx\": \"PA\", \"val\": 0.0035982542834675}, {\"col\": \"wineries_k_pop\", \"idx\": \"RI\", \"val\": 0.01991482146362558}, {\"col\": \"breweries_k_pop\", \"idx\": \"RI\", \"val\": 0.006638273821208527}, {\"col\": \"distilleries_k_pop\", \"idx\": \"RI\", \"val\": 0.003793299326404872}, {\"col\": \"wineries_k_pop\", \"idx\": \"SC\", \"val\": 0.007446316710465488}, {\"col\": \"breweries_k_pop\", \"idx\": \"SC\", \"val\": 0.004757369009464062}, {\"col\": \"distilleries_k_pop\", \"idx\": \"SC\", \"val\": 0.005998421794541644}, {\"col\": \"wineries_k_pop\", \"idx\": \"SD\", \"val\": 0.0376002575617643}, {\"col\": \"breweries_k_pop\", \"idx\": \"SD\", \"val\": 0.01410009658566161}, {\"col\": \"distilleries_k_pop\", \"idx\": \"SD\", \"val\": 0.007050048292830806}, {\"col\": \"wineries_k_pop\", \"idx\": \"TE\", \"val\": 0.0}, {\"col\": \"breweries_k_pop\", \"idx\": \"TE\", \"val\": 0.0}, {\"col\": \"distilleries_k_pop\", \"idx\": \"TE\", \"val\": 0.004886981676414923}, {\"col\": \"wineries_k_pop\", \"idx\": \"TX\", \"val\": 0.02114522933021373}, {\"col\": \"breweries_k_pop\", \"idx\": \"TX\", \"val\": 0.003375817314121841}, {\"col\": \"distilleries_k_pop\", \"idx\": \"TX\", \"val\": 0.002633879442886272}, {\"col\": \"wineries_k_pop\", \"idx\": \"UT\", \"val\": 0.005765786298931599}, {\"col\": \"breweries_k_pop\", \"idx\": \"UT\", \"val\": 0.004409130699182988}, {\"col\": \"distilleries_k_pop\", \"idx\": \"UT\", \"val\": 0.003391638999371529}, {\"col\": \"wineries_k_pop\", \"idx\": \"VT\", \"val\": 0.09740534515823578}, {\"col\": \"breweries_k_pop\", \"idx\": \"VT\", \"val\": 0.0463074591735875}, {\"col\": \"distilleries_k_pop\", \"idx\": \"VT\", \"val\": 0.02874256086636466}, {\"col\": \"wineries_k_pop\", \"idx\": \"VA\", \"val\": 0.0423570698582398}, {\"col\": \"breweries_k_pop\", \"idx\": \"VA\", \"val\": 0.01829055289333082}, {\"col\": \"distilleries_k_pop\", \"idx\": \"VA\", \"val\": 0.00421164046885907}, {\"col\": \"wineries_k_pop\", \"idx\": \"WA\", \"val\": 0.1507108717959448}, {\"col\": \"breweries_k_pop\", \"idx\": \"WA\", \"val\": 0.02205524953111388}, {\"col\": \"distilleries_k_pop\", \"idx\": \"WA\", \"val\": 0.01456211988272262}, {\"col\": \"wineries_k_pop\", \"idx\": \"WV\", \"val\": 0.01733391401945298}, {\"col\": \"breweries_k_pop\", \"idx\": \"WV\", \"val\": 0.007041902570402775}, {\"col\": \"distilleries_k_pop\", \"idx\": \"WV\", \"val\": 0.005958532944186963}, {\"col\": \"wineries_k_pop\", \"idx\": \"WI\", \"val\": 0.02519636657967838}, {\"col\": \"breweries_k_pop\", \"idx\": \"WI\", \"val\": 0.01268506731252774}, {\"col\": \"distilleries_k_pop\", \"idx\": \"WI\", \"val\": 0.003996665043673123}, {\"col\": \"wineries_k_pop\", \"idx\": \"WY\", \"val\": 0.01372144438784349}, {\"col\": \"breweries_k_pop\", \"idx\": \"WY\", \"val\": 0.01372144438784349}, {\"col\": \"distilleries_k_pop\", \"idx\": \"WY\", \"val\": 0.01029108329088261}, {\"col\": \"wineries_k_pop\", \"idx\": \"PR\", \"val\": 0.0}, {\"col\": \"breweries_k_pop\", \"idx\": \"PR\", \"val\": 0.0}, {\"col\": \"distilleries_k_pop\", \"idx\": \"PR\", \"val\": 0.0}]}, {\"name\": \"stats\", \"source\": \"table\", \"transform\": [{\"keys\": [\"data.idx\"], \"type\": \"facet\"}, {\"type\": \"stats\", \"value\": \"data.val\"}]}], \"height\": 500, \"legends\": [{\"fill\": \"color\", \"offset\": 0, \"properties\": {}, \"title\": \"Alcohol Type\"}], \"marks\": [{\"from\": {\"data\": \"table\", \"transform\": [{\"keys\": [\"data.col\"], \"type\": \"facet\"}, {\"height\": \"data.val\", \"point\": \"data.idx\", \"type\": \"stack\"}]}, \"marks\": [{\"properties\": {\"enter\": {\"fill\": {\"field\": \"data.col\", \"scale\": \"color\"}, \"width\": {\"band\": true, \"offset\": -1, \"scale\": \"x\"}, \"x\": {\"field\": \"data.idx\", \"scale\": \"x\"}, \"y\": {\"field\": \"y\", \"scale\": \"y\"}, \"y2\": {\"field\": \"y2\", \"scale\": \"y\"}}}, \"type\": \"rect\"}], \"type\": \"group\"}], \"padding\": \"auto\", \"scales\": [{\"domain\": {\"data\": \"table\", \"field\": \"data.idx\"}, \"name\": \"x\", \"range\": \"width\", \"type\": \"ordinal\", \"zero\": false}, {\"domain\": {\"data\": \"stats\", \"field\": \"sum\"}, \"name\": \"y\", \"nice\": true, \"range\": \"height\"}, {\"domain\": {\"data\": \"table\", \"field\": \"data.col\"}, \"name\": \"color\", \"range\": \"category20\", \"type\": \"ordinal\"}], \"width\": 960}, function(chart) {\n",
       "         chart({el: \"#vis53e7d8b2c38f434982ab76d03d5828c1\"}).update();\n",
       "       });\n",
       "     };\n",
       "     _do_plot();\n",
       "   })();\n",
       "</script>\n",
       "<style>.vega canvas {width: 100%;}</style>\n",
       "        "
      ],
      "text/plain": [
       "<IPython.core.display.HTML object>"
      ]
     },
     "metadata": {},
     "output_type": "display_data"
    },
    {
     "ename": "AttributeError",
     "evalue": "'Bar' object has no attribute 'figure'",
     "output_type": "error",
     "traceback": [
      "\u001b[1;31m---------------------------------------------------------------------------\u001b[0m",
      "\u001b[1;31mAttributeError\u001b[0m                            Traceback (most recent call last)",
      "\u001b[1;32m<ipython-input-35-be23db0ead49>\u001b[0m in \u001b[0;36m<module>\u001b[1;34m()\u001b[0m\n\u001b[0;32m      5\u001b[0m \u001b[1;31m#stack2.colors(brew=\"Spectral\")\u001b[0m\u001b[1;33m\u001b[0m\u001b[1;33m\u001b[0m\u001b[0m\n\u001b[0;32m      6\u001b[0m \u001b[0mstack2\u001b[0m\u001b[1;33m.\u001b[0m\u001b[0mdisplay\u001b[0m\u001b[1;33m(\u001b[0m\u001b[1;33m)\u001b[0m\u001b[1;33m\u001b[0m\u001b[0m\n\u001b[1;32m----> 7\u001b[1;33m \u001b[0mstack2\u001b[0m\u001b[1;33m.\u001b[0m\u001b[0mfigure\u001b[0m\u001b[1;33m.\u001b[0m\u001b[0msavefig\u001b[0m\u001b[1;33m(\u001b[0m\u001b[1;34m\"adj_count_stacked.png\"\u001b[0m\u001b[1;33m)\u001b[0m\u001b[1;33m\u001b[0m\u001b[0m\n\u001b[0m\u001b[0;32m      8\u001b[0m \u001b[0mplt\u001b[0m\u001b[1;33m.\u001b[0m\u001b[0mshow\u001b[0m\u001b[1;33m(\u001b[0m\u001b[1;33m)\u001b[0m\u001b[1;33m\u001b[0m\u001b[0m\n",
      "\u001b[1;31mAttributeError\u001b[0m: 'Bar' object has no attribute 'figure'"
     ]
    }
   ],
   "source": [
    "# Creating a stacked bar chart based on adjusted count\n",
    "stack2 = vincent.StackedBar(alc_person_df)\n",
    "stack2.axis_titles(x='State', y='Count (adjusted for population)')\n",
    "stack2.legend(title='Alcohol Type')\n",
    "#stack2.colors(brew=\"Spectral\")\n",
    "stack2.display()\n",
    "stack2.figure.savefig(\"adj_count_stacked.png\")\n",
    "plt.show()"
   ]
  },
  {
   "cell_type": "code",
   "execution_count": 21,
   "metadata": {},
   "outputs": [
    {
     "data": {
      "text/html": [
       "<div>\n",
       "<style scoped>\n",
       "    .dataframe tbody tr th:only-of-type {\n",
       "        vertical-align: middle;\n",
       "    }\n",
       "\n",
       "    .dataframe tbody tr th {\n",
       "        vertical-align: top;\n",
       "    }\n",
       "\n",
       "    .dataframe thead th {\n",
       "        text-align: right;\n",
       "    }\n",
       "</style>\n",
       "<table border=\"1\" class=\"dataframe\">\n",
       "  <thead>\n",
       "    <tr style=\"text-align: right;\">\n",
       "      <th></th>\n",
       "      <th>Brewery Sum</th>\n",
       "      <th>Distillery Sum</th>\n",
       "      <th>Winery Sum</th>\n",
       "    </tr>\n",
       "  </thead>\n",
       "  <tbody>\n",
       "    <tr>\n",
       "      <th>Count</th>\n",
       "      <td>2713</td>\n",
       "      <td>1290</td>\n",
       "      <td>11991</td>\n",
       "    </tr>\n",
       "  </tbody>\n",
       "</table>\n",
       "</div>"
      ],
      "text/plain": [
       "       Brewery Sum  Distillery Sum  Winery Sum\n",
       "Count         2713            1290       11991"
      ]
     },
     "execution_count": 21,
     "metadata": {},
     "output_type": "execute_result"
    }
   ],
   "source": [
    "# getting total counts of wineries, breweries, and distilleries in the united states\n",
    "winery_sum = alc_count_df[\"winery_count\"].sum()\n",
    "brewery_sum = alc_count_df[\"brewery_count\"].sum()\n",
    "distillery_sum = alc_count_df[\"craft_distillery_count\"].sum()\n",
    "\n",
    "sum_df = pd.DataFrame({\"Winery Sum\": winery_sum, \"Brewery Sum\": brewery_sum, \"Distillery Sum\": distillery_sum}, index = [\"Count\"])\n",
    "sum_df.head()"
   ]
  },
  {
   "cell_type": "code",
   "execution_count": 34,
   "metadata": {},
   "outputs": [
    {
     "data": {
      "image/png": "[encoded data removed]",
      "text/plain": [
       "<Figure size 432x288 with 1 Axes>"
      ]
     },
     "metadata": {},
     "output_type": "display_data"
    }
   ],
   "source": [
    "# bar chart of total counts\n",
    "sum_bar = sum_df.plot(kind=\"bar\", title = \"Total Count of Wineries, Breweries, and Distilleris in the\\n United States\")\n",
    "plt.show(sum_bar)\n",
    "sum_bar.figure.savefig(\"total_count.png\")"
   ]
  },
  {
   "cell_type": "code",
   "execution_count": 23,
   "metadata": {},
   "outputs": [],
   "source": [
    "excel_all=\"all_data.xls\"\n",
    "consoldidated_df=pd.read_excel(excel_all)\n"
   ]
  },
  {
   "cell_type": "code",
   "execution_count": 24,
   "metadata": {},
   "outputs": [
    {
     "data": {
      "text/html": [
       "<div>\n",
       "<style scoped>\n",
       "    .dataframe tbody tr th:only-of-type {\n",
       "        vertical-align: middle;\n",
       "    }\n",
       "\n",
       "    .dataframe tbody tr th {\n",
       "        vertical-align: top;\n",
       "    }\n",
       "\n",
       "    .dataframe thead th {\n",
       "        text-align: right;\n",
       "    }\n",
       "</style>\n",
       "<table border=\"1\" class=\"dataframe\">\n",
       "  <thead>\n",
       "    <tr style=\"text-align: right;\">\n",
       "      <th></th>\n",
       "      <th>tot_pop</th>\n",
       "      <th>male_pop</th>\n",
       "      <th>female_pop</th>\n",
       "      <th>median_age</th>\n",
       "      <th>median_age_male</th>\n",
       "      <th>median_age_female</th>\n",
       "      <th>employ_status_tot</th>\n",
       "      <th>employ_status_working</th>\n",
       "      <th>employ_status_working_civ</th>\n",
       "      <th>employ_status_working_civ_employed</th>\n",
       "      <th>...</th>\n",
       "      <th>brewery_count</th>\n",
       "      <th>winery_count</th>\n",
       "      <th>craft_distillery_count</th>\n",
       "      <th>tot_k_pop</th>\n",
       "      <th>breweries_k_pop</th>\n",
       "      <th>wineries_k_pop</th>\n",
       "      <th>distilleries_k_pop</th>\n",
       "      <th>google_brewery_count</th>\n",
       "      <th>google_winery_count</th>\n",
       "      <th>google_distillery_count</th>\n",
       "    </tr>\n",
       "  </thead>\n",
       "  <tbody>\n",
       "    <tr>\n",
       "      <th>0</th>\n",
       "      <td>4841164</td>\n",
       "      <td>2346193</td>\n",
       "      <td>2494971</td>\n",
       "      <td>38.6</td>\n",
       "      <td>37.1</td>\n",
       "      <td>40.0</td>\n",
       "      <td>3864302</td>\n",
       "      <td>2238654</td>\n",
       "      <td>2226504</td>\n",
       "      <td>2042025</td>\n",
       "      <td>...</td>\n",
       "      <td>22</td>\n",
       "      <td>35</td>\n",
       "      <td>8</td>\n",
       "      <td>4841.164</td>\n",
       "      <td>0.004544</td>\n",
       "      <td>0.007230</td>\n",
       "      <td>0.001652</td>\n",
       "      <td>57.0</td>\n",
       "      <td>34.0</td>\n",
       "      <td>4.0</td>\n",
       "    </tr>\n",
       "    <tr>\n",
       "      <th>1</th>\n",
       "      <td>736855</td>\n",
       "      <td>385296</td>\n",
       "      <td>351559</td>\n",
       "      <td>33.6</td>\n",
       "      <td>33.3</td>\n",
       "      <td>34.0</td>\n",
       "      <td>568732</td>\n",
       "      <td>400475</td>\n",
       "      <td>384093</td>\n",
       "      <td>353954</td>\n",
       "      <td>...</td>\n",
       "      <td>19</td>\n",
       "      <td>8</td>\n",
       "      <td>6</td>\n",
       "      <td>736.855</td>\n",
       "      <td>0.025785</td>\n",
       "      <td>0.010857</td>\n",
       "      <td>0.008143</td>\n",
       "      <td>34.0</td>\n",
       "      <td>14.0</td>\n",
       "      <td>8.0</td>\n",
       "    </tr>\n",
       "    <tr>\n",
       "      <th>2</th>\n",
       "      <td>6728577</td>\n",
       "      <td>3344106</td>\n",
       "      <td>3384471</td>\n",
       "      <td>37.1</td>\n",
       "      <td>35.8</td>\n",
       "      <td>38.4</td>\n",
       "      <td>5290839</td>\n",
       "      <td>3146717</td>\n",
       "      <td>3129344</td>\n",
       "      <td>2879372</td>\n",
       "      <td>...</td>\n",
       "      <td>37</td>\n",
       "      <td>94</td>\n",
       "      <td>19</td>\n",
       "      <td>6728.577</td>\n",
       "      <td>0.005499</td>\n",
       "      <td>0.013970</td>\n",
       "      <td>0.002824</td>\n",
       "      <td>52.0</td>\n",
       "      <td>43.0</td>\n",
       "      <td>12.0</td>\n",
       "    </tr>\n",
       "    <tr>\n",
       "      <th>3</th>\n",
       "      <td>2968472</td>\n",
       "      <td>1456694</td>\n",
       "      <td>1511778</td>\n",
       "      <td>37.7</td>\n",
       "      <td>36.4</td>\n",
       "      <td>39.2</td>\n",
       "      <td>2339307</td>\n",
       "      <td>1364187</td>\n",
       "      <td>1359742</td>\n",
       "      <td>1266552</td>\n",
       "      <td>...</td>\n",
       "      <td>14</td>\n",
       "      <td>33</td>\n",
       "      <td>3</td>\n",
       "      <td>2968.472</td>\n",
       "      <td>0.004716</td>\n",
       "      <td>0.011117</td>\n",
       "      <td>0.001011</td>\n",
       "      <td>46.0</td>\n",
       "      <td>39.0</td>\n",
       "      <td>2.0</td>\n",
       "    </tr>\n",
       "    <tr>\n",
       "      <th>4</th>\n",
       "      <td>38654206</td>\n",
       "      <td>19200970</td>\n",
       "      <td>19453236</td>\n",
       "      <td>36.0</td>\n",
       "      <td>34.9</td>\n",
       "      <td>37.1</td>\n",
       "      <td>30565746</td>\n",
       "      <td>19391320</td>\n",
       "      <td>19260868</td>\n",
       "      <td>17577142</td>\n",
       "      <td>...</td>\n",
       "      <td>315</td>\n",
       "      <td>4816</td>\n",
       "      <td>118</td>\n",
       "      <td>38654.206</td>\n",
       "      <td>0.008149</td>\n",
       "      <td>0.124592</td>\n",
       "      <td>0.003053</td>\n",
       "      <td>59.0</td>\n",
       "      <td>41.0</td>\n",
       "      <td>29.0</td>\n",
       "    </tr>\n",
       "  </tbody>\n",
       "</table>\n",
       "<p>5 rows × 72 columns</p>\n",
       "</div>"
      ],
      "text/plain": [
       "    tot_pop  male_pop  female_pop  median_age  median_age_male  \\\n",
       "0   4841164   2346193     2494971        38.6             37.1   \n",
       "1    736855    385296      351559        33.6             33.3   \n",
       "2   6728577   3344106     3384471        37.1             35.8   \n",
       "3   2968472   1456694     1511778        37.7             36.4   \n",
       "4  38654206  19200970    19453236        36.0             34.9   \n",
       "\n",
       "   median_age_female  employ_status_tot  employ_status_working  \\\n",
       "0               40.0            3864302                2238654   \n",
       "1               34.0             568732                 400475   \n",
       "2               38.4            5290839                3146717   \n",
       "3               39.2            2339307                1364187   \n",
       "4               37.1           30565746               19391320   \n",
       "\n",
       "   employ_status_working_civ  employ_status_working_civ_employed  \\\n",
       "0                    2226504                             2042025   \n",
       "1                     384093                              353954   \n",
       "2                    3129344                             2879372   \n",
       "3                    1359742                             1266552   \n",
       "4                   19260868                            17577142   \n",
       "\n",
       "            ...             brewery_count  winery_count  \\\n",
       "0           ...                        22            35   \n",
       "1           ...                        19             8   \n",
       "2           ...                        37            94   \n",
       "3           ...                        14            33   \n",
       "4           ...                       315          4816   \n",
       "\n",
       "   craft_distillery_count  tot_k_pop  breweries_k_pop  wineries_k_pop  \\\n",
       "0                       8   4841.164         0.004544        0.007230   \n",
       "1                       6    736.855         0.025785        0.010857   \n",
       "2                      19   6728.577         0.005499        0.013970   \n",
       "3                       3   2968.472         0.004716        0.011117   \n",
       "4                     118  38654.206         0.008149        0.124592   \n",
       "\n",
       "   distilleries_k_pop  google_brewery_count  google_winery_count  \\\n",
       "0            0.001652                  57.0                 34.0   \n",
       "1            0.008143                  34.0                 14.0   \n",
       "2            0.002824                  52.0                 43.0   \n",
       "3            0.001011                  46.0                 39.0   \n",
       "4            0.003053                  59.0                 41.0   \n",
       "\n",
       "   google_distillery_count  \n",
       "0                      4.0  \n",
       "1                      8.0  \n",
       "2                     12.0  \n",
       "3                      2.0  \n",
       "4                     29.0  \n",
       "\n",
       "[5 rows x 72 columns]"
      ]
     },
     "execution_count": 24,
     "metadata": {},
     "output_type": "execute_result"
    }
   ],
   "source": [
    "consoldidated_df.head()"
   ]
  },
  {
   "cell_type": "code",
   "execution_count": 25,
   "metadata": {},
   "outputs": [],
   "source": [
    "cons_corr=consoldidated_df.corr()"
   ]
  },
  {
   "cell_type": "code",
   "execution_count": 26,
   "metadata": {},
   "outputs": [],
   "source": [
    "cons_corr.to_csv(\"correlation.csv\")"
   ]
  },
  {
   "cell_type": "code",
   "execution_count": null,
   "metadata": {},
   "outputs": [],
   "source": []
  }
 ],
 "metadata": {
  "kernelspec": {
   "display_name": "Python 3",
   "language": "python",
   "name": "python3"
  },
  "language_info": {
   "codemirror_mode": {
    "name": "ipython",
    "version": 3
   },
   "file_extension": ".py",
   "mimetype": "text/x-python",
   "name": "python",
   "nbconvert_exporter": "python",
   "pygments_lexer": "ipython3",
   "version": "3.6.5"
  }
 },
 "nbformat": 4,
 "nbformat_minor": 2
}
