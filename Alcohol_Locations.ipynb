{
 "cells": [
  {
   "cell_type": "code",
   "execution_count": 111,
   "metadata": {},
   "outputs": [
    {
     "data": {
      "text/html": [
       "\n",
       "           <script>\n",
       "               \n",
       "                function vct_load_lib(url, callback){\n",
       "                      if(typeof d3 !== 'undefined' &&\n",
       "                         url === 'http://d3js.org/d3.v3.min.js'){\n",
       "                        callback()\n",
       "                      }\n",
       "                      var s = document.createElement('script');\n",
       "                      s.src = url;\n",
       "                      s.async = true;\n",
       "                      s.onreadystatechange = s.onload = callback;\n",
       "                      s.onerror = function(){\n",
       "                        console.warn(\"failed to load library \" + url);\n",
       "                        };\n",
       "                      document.getElementsByTagName(\"head\")[0].appendChild(s);\n",
       "                };\n",
       "                var vincent_event = new CustomEvent(\n",
       "                  \"vincent_libs_loaded\",\n",
       "                  {bubbles: true, cancelable: true}\n",
       "                );\n",
       "                \n",
       "               function load_all_libs(){\n",
       "                  console.log('Loading Vincent libs...')\n",
       "                  vct_load_lib('http://d3js.org/d3.v3.min.js', function(){\n",
       "                  vct_load_lib('http://d3js.org/d3.geo.projection.v0.min.js', function(){\n",
       "                  vct_load_lib('http://wrobstory.github.io/d3-cloud/d3.layout.cloud.js', function(){\n",
       "                  vct_load_lib('http://wrobstory.github.io/vega/vega.v1.3.3.js', function(){\n",
       "                  window.dispatchEvent(vincent_event);\n",
       "                  });\n",
       "                  });\n",
       "                  });\n",
       "                  });\n",
       "               };\n",
       "               if(typeof define === \"function\" && define.amd){\n",
       "                    if (window['d3'] === undefined ||\n",
       "                        window['topojson'] === undefined){\n",
       "                        require.config(\n",
       "                            {paths: {\n",
       "                              d3: 'http://d3js.org/d3.v3.min',\n",
       "                              topojson: 'http://d3js.org/topojson.v1.min'\n",
       "                              }\n",
       "                            }\n",
       "                          );\n",
       "                        require([\"d3\"], function(d3){\n",
       "                            console.log('Loading Vincent from require.js...')\n",
       "                            window.d3 = d3;\n",
       "                            require([\"topojson\"], function(topojson){\n",
       "                                window.topojson = topojson;\n",
       "                                load_all_libs();\n",
       "                            });\n",
       "                        });\n",
       "                    } else {\n",
       "                        load_all_libs();\n",
       "                    };\n",
       "               }else{\n",
       "                    console.log('Require.js not found, loading manually...')\n",
       "                    load_all_libs();\n",
       "               };\n",
       "\n",
       "           </script>"
      ],
      "text/plain": [
       "<IPython.core.display.HTML object>"
      ]
     },
     "metadata": {},
     "output_type": "display_data"
    }
   ],
   "source": [
    "import matplotlib.pyplot as plt\n",
    "import numpy as np\n",
    "import pandas as pd\n",
    "#pip install vincent\n",
    "import vincent\n",
    "vincent.core.initialize_notebook()"
   ]
  },
  {
   "cell_type": "code",
   "execution_count": 68,
   "metadata": {},
   "outputs": [
    {
     "data": {
      "text/html": [
       "<div>\n",
       "<style scoped>\n",
       "    .dataframe tbody tr th:only-of-type {\n",
       "        vertical-align: middle;\n",
       "    }\n",
       "\n",
       "    .dataframe tbody tr th {\n",
       "        vertical-align: top;\n",
       "    }\n",
       "\n",
       "    .dataframe thead th {\n",
       "        text-align: right;\n",
       "    }\n",
       "</style>\n",
       "<table border=\"1\" class=\"dataframe\">\n",
       "  <thead>\n",
       "    <tr style=\"text-align: right;\">\n",
       "      <th></th>\n",
       "      <th>tot_pop</th>\n",
       "      <th>male_pop</th>\n",
       "      <th>female_pop</th>\n",
       "      <th>median_age</th>\n",
       "      <th>median_age_male</th>\n",
       "      <th>median_age_female</th>\n",
       "      <th>employ_status_tot</th>\n",
       "      <th>employ_status_working</th>\n",
       "      <th>employ_status_working_civ</th>\n",
       "      <th>employ_status_working_civ_employed</th>\n",
       "      <th>...</th>\n",
       "      <th>industry_military</th>\n",
       "      <th>FIPS</th>\n",
       "      <th>State</th>\n",
       "      <th>State(abbrev)</th>\n",
       "      <th>brewery_count</th>\n",
       "      <th>winery_count</th>\n",
       "      <th>craft_distillery_count</th>\n",
       "      <th>Breweries per 1000 people</th>\n",
       "      <th>Wineries per 1000 People</th>\n",
       "      <th>Craft Distilleries per 1000 People</th>\n",
       "    </tr>\n",
       "  </thead>\n",
       "  <tbody>\n",
       "    <tr>\n",
       "      <th>0</th>\n",
       "      <td>4841164</td>\n",
       "      <td>2346193</td>\n",
       "      <td>2494971</td>\n",
       "      <td>38.6</td>\n",
       "      <td>37.1</td>\n",
       "      <td>40.0</td>\n",
       "      <td>3864302</td>\n",
       "      <td>2238654</td>\n",
       "      <td>2226504</td>\n",
       "      <td>2042025</td>\n",
       "      <td>...</td>\n",
       "      <td>12132</td>\n",
       "      <td>1</td>\n",
       "      <td>Alabama</td>\n",
       "      <td>AL</td>\n",
       "      <td>22</td>\n",
       "      <td>35</td>\n",
       "      <td>8</td>\n",
       "      <td>0.004544</td>\n",
       "      <td>0.007230</td>\n",
       "      <td>0.001652</td>\n",
       "    </tr>\n",
       "    <tr>\n",
       "      <th>1</th>\n",
       "      <td>736855</td>\n",
       "      <td>385296</td>\n",
       "      <td>351559</td>\n",
       "      <td>33.6</td>\n",
       "      <td>33.3</td>\n",
       "      <td>34.0</td>\n",
       "      <td>568732</td>\n",
       "      <td>400475</td>\n",
       "      <td>384093</td>\n",
       "      <td>353954</td>\n",
       "      <td>...</td>\n",
       "      <td>16339</td>\n",
       "      <td>2</td>\n",
       "      <td>Alaska</td>\n",
       "      <td>AK</td>\n",
       "      <td>19</td>\n",
       "      <td>8</td>\n",
       "      <td>6</td>\n",
       "      <td>0.025785</td>\n",
       "      <td>0.010857</td>\n",
       "      <td>0.008143</td>\n",
       "    </tr>\n",
       "    <tr>\n",
       "      <th>2</th>\n",
       "      <td>6728577</td>\n",
       "      <td>3344106</td>\n",
       "      <td>3384471</td>\n",
       "      <td>37.1</td>\n",
       "      <td>35.8</td>\n",
       "      <td>38.4</td>\n",
       "      <td>5290839</td>\n",
       "      <td>3146717</td>\n",
       "      <td>3129344</td>\n",
       "      <td>2879372</td>\n",
       "      <td>...</td>\n",
       "      <td>17330</td>\n",
       "      <td>4</td>\n",
       "      <td>Arizona</td>\n",
       "      <td>AZ</td>\n",
       "      <td>37</td>\n",
       "      <td>94</td>\n",
       "      <td>19</td>\n",
       "      <td>0.005499</td>\n",
       "      <td>0.013970</td>\n",
       "      <td>0.002824</td>\n",
       "    </tr>\n",
       "    <tr>\n",
       "      <th>3</th>\n",
       "      <td>2968472</td>\n",
       "      <td>1456694</td>\n",
       "      <td>1511778</td>\n",
       "      <td>37.7</td>\n",
       "      <td>36.4</td>\n",
       "      <td>39.2</td>\n",
       "      <td>2339307</td>\n",
       "      <td>1364187</td>\n",
       "      <td>1359742</td>\n",
       "      <td>1266552</td>\n",
       "      <td>...</td>\n",
       "      <td>4445</td>\n",
       "      <td>5</td>\n",
       "      <td>Arkansas</td>\n",
       "      <td>AR</td>\n",
       "      <td>14</td>\n",
       "      <td>33</td>\n",
       "      <td>3</td>\n",
       "      <td>0.004716</td>\n",
       "      <td>0.011117</td>\n",
       "      <td>0.001011</td>\n",
       "    </tr>\n",
       "    <tr>\n",
       "      <th>4</th>\n",
       "      <td>38654206</td>\n",
       "      <td>19200970</td>\n",
       "      <td>19453236</td>\n",
       "      <td>36.0</td>\n",
       "      <td>34.9</td>\n",
       "      <td>37.1</td>\n",
       "      <td>30565746</td>\n",
       "      <td>19391320</td>\n",
       "      <td>19260868</td>\n",
       "      <td>17577142</td>\n",
       "      <td>...</td>\n",
       "      <td>129333</td>\n",
       "      <td>6</td>\n",
       "      <td>California</td>\n",
       "      <td>CA</td>\n",
       "      <td>315</td>\n",
       "      <td>4816</td>\n",
       "      <td>118</td>\n",
       "      <td>0.008149</td>\n",
       "      <td>0.124592</td>\n",
       "      <td>0.003053</td>\n",
       "    </tr>\n",
       "  </tbody>\n",
       "</table>\n",
       "<p>5 rows × 68 columns</p>\n",
       "</div>"
      ],
      "text/plain": [
       "    tot_pop  male_pop  female_pop  median_age  median_age_male  \\\n",
       "0   4841164   2346193     2494971        38.6             37.1   \n",
       "1    736855    385296      351559        33.6             33.3   \n",
       "2   6728577   3344106     3384471        37.1             35.8   \n",
       "3   2968472   1456694     1511778        37.7             36.4   \n",
       "4  38654206  19200970    19453236        36.0             34.9   \n",
       "\n",
       "   median_age_female  employ_status_tot  employ_status_working  \\\n",
       "0               40.0            3864302                2238654   \n",
       "1               34.0             568732                 400475   \n",
       "2               38.4            5290839                3146717   \n",
       "3               39.2            2339307                1364187   \n",
       "4               37.1           30565746               19391320   \n",
       "\n",
       "   employ_status_working_civ  employ_status_working_civ_employed  \\\n",
       "0                    2226504                             2042025   \n",
       "1                     384093                              353954   \n",
       "2                    3129344                             2879372   \n",
       "3                    1359742                             1266552   \n",
       "4                   19260868                            17577142   \n",
       "\n",
       "                  ...                  industry_military  FIPS       State  \\\n",
       "0                 ...                              12132     1     Alabama   \n",
       "1                 ...                              16339     2      Alaska   \n",
       "2                 ...                              17330     4     Arizona   \n",
       "3                 ...                               4445     5    Arkansas   \n",
       "4                 ...                             129333     6  California   \n",
       "\n",
       "   State(abbrev)  brewery_count  winery_count  craft_distillery_count  \\\n",
       "0             AL             22            35                       8   \n",
       "1             AK             19             8                       6   \n",
       "2             AZ             37            94                      19   \n",
       "3             AR             14            33                       3   \n",
       "4             CA            315          4816                     118   \n",
       "\n",
       "   Breweries per 1000 people  Wineries per 1000 People  \\\n",
       "0                   0.004544                  0.007230   \n",
       "1                   0.025785                  0.010857   \n",
       "2                   0.005499                  0.013970   \n",
       "3                   0.004716                  0.011117   \n",
       "4                   0.008149                  0.124592   \n",
       "\n",
       "   Craft Distilleries per 1000 People  \n",
       "0                            0.001652  \n",
       "1                            0.008143  \n",
       "2                            0.002824  \n",
       "3                            0.001011  \n",
       "4                            0.003053  \n",
       "\n",
       "[5 rows x 68 columns]"
      ]
     },
     "execution_count": 68,
     "metadata": {},
     "output_type": "execute_result"
    }
   ],
   "source": [
    "excel=\"census_breweries_wineries_distilleries_state.xlsx\"\n",
    "alc_census_df = pd.read_excel(excel)\n",
    "alc_census_df.head()"
   ]
  },
  {
   "cell_type": "code",
   "execution_count": 69,
   "metadata": {},
   "outputs": [
    {
     "data": {
      "text/html": [
       "<div>\n",
       "<style scoped>\n",
       "    .dataframe tbody tr th:only-of-type {\n",
       "        vertical-align: middle;\n",
       "    }\n",
       "\n",
       "    .dataframe tbody tr th {\n",
       "        vertical-align: top;\n",
       "    }\n",
       "\n",
       "    .dataframe thead th {\n",
       "        text-align: right;\n",
       "    }\n",
       "</style>\n",
       "<table border=\"1\" class=\"dataframe\">\n",
       "  <thead>\n",
       "    <tr style=\"text-align: right;\">\n",
       "      <th></th>\n",
       "      <th>brewery_count</th>\n",
       "    </tr>\n",
       "    <tr>\n",
       "      <th>State(abbrev)</th>\n",
       "      <th></th>\n",
       "    </tr>\n",
       "  </thead>\n",
       "  <tbody>\n",
       "    <tr>\n",
       "      <th>AL</th>\n",
       "      <td>22</td>\n",
       "    </tr>\n",
       "    <tr>\n",
       "      <th>AK</th>\n",
       "      <td>19</td>\n",
       "    </tr>\n",
       "    <tr>\n",
       "      <th>AZ</th>\n",
       "      <td>37</td>\n",
       "    </tr>\n",
       "    <tr>\n",
       "      <th>AR</th>\n",
       "      <td>14</td>\n",
       "    </tr>\n",
       "    <tr>\n",
       "      <th>CA</th>\n",
       "      <td>315</td>\n",
       "    </tr>\n",
       "  </tbody>\n",
       "</table>\n",
       "</div>"
      ],
      "text/plain": [
       "               brewery_count\n",
       "State(abbrev)               \n",
       "AL                        22\n",
       "AK                        19\n",
       "AZ                        37\n",
       "AR                        14\n",
       "CA                       315"
      ]
     },
     "execution_count": 69,
     "metadata": {},
     "output_type": "execute_result"
    }
   ],
   "source": [
    "# Dataframe for just brewery count\n",
    "brewery_state_count_df = alc_census_df[['State(abbrev)', 'brewery_count']].copy()\n",
    "brewery_state_count_df.set_index([\"State(abbrev)\"], inplace=True)\n",
    "brewery_state_count_df.head()"
   ]
  },
  {
   "cell_type": "code",
   "execution_count": 70,
   "metadata": {},
   "outputs": [
    {
     "data": {
      "text/html": [
       "<div>\n",
       "<style scoped>\n",
       "    .dataframe tbody tr th:only-of-type {\n",
       "        vertical-align: middle;\n",
       "    }\n",
       "\n",
       "    .dataframe tbody tr th {\n",
       "        vertical-align: top;\n",
       "    }\n",
       "\n",
       "    .dataframe thead th {\n",
       "        text-align: right;\n",
       "    }\n",
       "</style>\n",
       "<table border=\"1\" class=\"dataframe\">\n",
       "  <thead>\n",
       "    <tr style=\"text-align: right;\">\n",
       "      <th></th>\n",
       "      <th>Breweries per 1000 people</th>\n",
       "    </tr>\n",
       "    <tr>\n",
       "      <th>State(abbrev)</th>\n",
       "      <th></th>\n",
       "    </tr>\n",
       "  </thead>\n",
       "  <tbody>\n",
       "    <tr>\n",
       "      <th>AL</th>\n",
       "      <td>0.004544</td>\n",
       "    </tr>\n",
       "    <tr>\n",
       "      <th>AK</th>\n",
       "      <td>0.025785</td>\n",
       "    </tr>\n",
       "    <tr>\n",
       "      <th>AZ</th>\n",
       "      <td>0.005499</td>\n",
       "    </tr>\n",
       "    <tr>\n",
       "      <th>AR</th>\n",
       "      <td>0.004716</td>\n",
       "    </tr>\n",
       "    <tr>\n",
       "      <th>CA</th>\n",
       "      <td>0.008149</td>\n",
       "    </tr>\n",
       "  </tbody>\n",
       "</table>\n",
       "</div>"
      ],
      "text/plain": [
       "               Breweries per 1000 people\n",
       "State(abbrev)                           \n",
       "AL                              0.004544\n",
       "AK                              0.025785\n",
       "AZ                              0.005499\n",
       "AR                              0.004716\n",
       "CA                              0.008149"
      ]
     },
     "execution_count": 70,
     "metadata": {},
     "output_type": "execute_result"
    }
   ],
   "source": [
    "# Dataframe for just breweries per 1000 people by state\n",
    "brewery_per_person_df = alc_census_df[['State(abbrev)', 'Breweries per 1000 people']].copy()\n",
    "brewery_per_person_df.set_index([\"State(abbrev)\"], inplace=True)\n",
    "brewery_per_person_df.head()"
   ]
  },
  {
   "cell_type": "code",
   "execution_count": 121,
   "metadata": {},
   "outputs": [
    {
     "data": {
      "image/png": "[encoded data removed]",
      "text/plain": [
       "<Figure size 1440x216 with 1 Axes>"
      ]
     },
     "metadata": {},
     "output_type": "display_data"
    },
    {
     "data": {
      "text/plain": [
       "<Figure size 432x288 with 0 Axes>"
      ]
     },
     "metadata": {},
     "output_type": "display_data"
    }
   ],
   "source": [
    "# Plotting brewery count by state\n",
    "brewery_count = brewery_state_count_df.plot(kind=\"bar\", figsize=(20,3), title = \"Brewery Count by State (not adjusted for population)\")\n",
    "plt.show(brewery_count)\n",
    "plt.savefig(\"brewery_count.png\")"
   ]
  },
  {
   "cell_type": "code",
   "execution_count": 120,
   "metadata": {},
   "outputs": [
    {
     "data": {
      "image/png": "[encoded data removed]",
      "text/plain": [
       "<Figure size 1440x216 with 1 Axes>"
      ]
     },
     "metadata": {},
     "output_type": "display_data"
    },
    {
     "data": {
      "text/plain": [
       "<Figure size 432x288 with 0 Axes>"
      ]
     },
     "metadata": {},
     "output_type": "display_data"
    }
   ],
   "source": [
    "# Plotting breweries per 1000 people by state\n",
    "brewery_person = brewery_per_person_df.plot(kind=\"bar\", figsize=(20,3), title = \"Brewery Count by State (adjusted for population)\")\n",
    "plt.show(brewery_person)\n",
    "plt.savefig(\"brewery_person.png\")"
   ]
  },
  {
   "cell_type": "code",
   "execution_count": 73,
   "metadata": {},
   "outputs": [
    {
     "data": {
      "text/html": [
       "<div>\n",
       "<style scoped>\n",
       "    .dataframe tbody tr th:only-of-type {\n",
       "        vertical-align: middle;\n",
       "    }\n",
       "\n",
       "    .dataframe tbody tr th {\n",
       "        vertical-align: top;\n",
       "    }\n",
       "\n",
       "    .dataframe thead th {\n",
       "        text-align: right;\n",
       "    }\n",
       "</style>\n",
       "<table border=\"1\" class=\"dataframe\">\n",
       "  <thead>\n",
       "    <tr style=\"text-align: right;\">\n",
       "      <th></th>\n",
       "      <th>winery_count</th>\n",
       "    </tr>\n",
       "    <tr>\n",
       "      <th>State(abbrev)</th>\n",
       "      <th></th>\n",
       "    </tr>\n",
       "  </thead>\n",
       "  <tbody>\n",
       "    <tr>\n",
       "      <th>AL</th>\n",
       "      <td>35</td>\n",
       "    </tr>\n",
       "    <tr>\n",
       "      <th>AK</th>\n",
       "      <td>8</td>\n",
       "    </tr>\n",
       "    <tr>\n",
       "      <th>AZ</th>\n",
       "      <td>94</td>\n",
       "    </tr>\n",
       "    <tr>\n",
       "      <th>AR</th>\n",
       "      <td>33</td>\n",
       "    </tr>\n",
       "    <tr>\n",
       "      <th>CA</th>\n",
       "      <td>4816</td>\n",
       "    </tr>\n",
       "  </tbody>\n",
       "</table>\n",
       "</div>"
      ],
      "text/plain": [
       "               winery_count\n",
       "State(abbrev)              \n",
       "AL                       35\n",
       "AK                        8\n",
       "AZ                       94\n",
       "AR                       33\n",
       "CA                     4816"
      ]
     },
     "execution_count": 73,
     "metadata": {},
     "output_type": "execute_result"
    }
   ],
   "source": [
    "# Dataframe for just winery count\n",
    "winery_count_df = alc_census_df[['State(abbrev)', 'winery_count']].copy()\n",
    "winery_count_df.set_index([\"State(abbrev)\"], inplace=True)\n",
    "winery_count_df.head()"
   ]
  },
  {
   "cell_type": "code",
   "execution_count": 74,
   "metadata": {},
   "outputs": [
    {
     "data": {
      "text/html": [
       "<div>\n",
       "<style scoped>\n",
       "    .dataframe tbody tr th:only-of-type {\n",
       "        vertical-align: middle;\n",
       "    }\n",
       "\n",
       "    .dataframe tbody tr th {\n",
       "        vertical-align: top;\n",
       "    }\n",
       "\n",
       "    .dataframe thead th {\n",
       "        text-align: right;\n",
       "    }\n",
       "</style>\n",
       "<table border=\"1\" class=\"dataframe\">\n",
       "  <thead>\n",
       "    <tr style=\"text-align: right;\">\n",
       "      <th></th>\n",
       "      <th>Wineries per 1000 People</th>\n",
       "    </tr>\n",
       "    <tr>\n",
       "      <th>State(abbrev)</th>\n",
       "      <th></th>\n",
       "    </tr>\n",
       "  </thead>\n",
       "  <tbody>\n",
       "    <tr>\n",
       "      <th>AL</th>\n",
       "      <td>0.007230</td>\n",
       "    </tr>\n",
       "    <tr>\n",
       "      <th>AK</th>\n",
       "      <td>0.010857</td>\n",
       "    </tr>\n",
       "    <tr>\n",
       "      <th>AZ</th>\n",
       "      <td>0.013970</td>\n",
       "    </tr>\n",
       "    <tr>\n",
       "      <th>AR</th>\n",
       "      <td>0.011117</td>\n",
       "    </tr>\n",
       "    <tr>\n",
       "      <th>CA</th>\n",
       "      <td>0.124592</td>\n",
       "    </tr>\n",
       "  </tbody>\n",
       "</table>\n",
       "</div>"
      ],
      "text/plain": [
       "               Wineries per 1000 People\n",
       "State(abbrev)                          \n",
       "AL                             0.007230\n",
       "AK                             0.010857\n",
       "AZ                             0.013970\n",
       "AR                             0.011117\n",
       "CA                             0.124592"
      ]
     },
     "execution_count": 74,
     "metadata": {},
     "output_type": "execute_result"
    }
   ],
   "source": [
    "# Dataframe for just wineries per 1000 peole by state\n",
    "winery_per_person_df = alc_census_df[['State(abbrev)', 'Wineries per 1000 People']].copy()\n",
    "winery_per_person_df.set_index([\"State(abbrev)\"], inplace=True)\n",
    "winery_per_person_df.head()"
   ]
  },
  {
   "cell_type": "code",
   "execution_count": 122,
   "metadata": {},
   "outputs": [
    {
     "data": {
      "image/png": "[encoded data removed]",
      "text/plain": [
       "<Figure size 1440x216 with 1 Axes>"
      ]
     },
     "metadata": {},
     "output_type": "display_data"
    },
    {
     "data": {
      "text/plain": [
       "<Figure size 432x288 with 0 Axes>"
      ]
     },
     "metadata": {},
     "output_type": "display_data"
    }
   ],
   "source": [
    "# Plotting winery count by state\n",
    "winery_count = winery_count_df.plot(kind=\"bar\", figsize=(20,3), title = \"Winery Count by State (not adjusted for population)\")\n",
    "plt.show(winery_count)\n",
    "plt.savefig(\"winery_count.png\")"
   ]
  },
  {
   "cell_type": "code",
   "execution_count": 76,
   "metadata": {},
   "outputs": [
    {
     "data": {
      "image/png": "[encoded data removed]",
      "text/plain": [
       "<Figure size 1440x216 with 1 Axes>"
      ]
     },
     "metadata": {},
     "output_type": "display_data"
    }
   ],
   "source": [
    "# Plotting wineries per 1000 people by state\n",
    "winery_person = winery_per_person_df.plot(kind=\"bar\", figsize=(20,3), title = \"Winery Count by State (adjusted for population)\")\n",
    "plt.show(winery_person)\n",
    "plt.savefig(\"winery_person.png\")"
   ]
  },
  {
   "cell_type": "code",
   "execution_count": 77,
   "metadata": {},
   "outputs": [
    {
     "data": {
      "text/html": [
       "<div>\n",
       "<style scoped>\n",
       "    .dataframe tbody tr th:only-of-type {\n",
       "        vertical-align: middle;\n",
       "    }\n",
       "\n",
       "    .dataframe tbody tr th {\n",
       "        vertical-align: top;\n",
       "    }\n",
       "\n",
       "    .dataframe thead th {\n",
       "        text-align: right;\n",
       "    }\n",
       "</style>\n",
       "<table border=\"1\" class=\"dataframe\">\n",
       "  <thead>\n",
       "    <tr style=\"text-align: right;\">\n",
       "      <th></th>\n",
       "      <th>craft_distillery_count</th>\n",
       "    </tr>\n",
       "    <tr>\n",
       "      <th>State(abbrev)</th>\n",
       "      <th></th>\n",
       "    </tr>\n",
       "  </thead>\n",
       "  <tbody>\n",
       "    <tr>\n",
       "      <th>AL</th>\n",
       "      <td>8</td>\n",
       "    </tr>\n",
       "    <tr>\n",
       "      <th>AK</th>\n",
       "      <td>6</td>\n",
       "    </tr>\n",
       "    <tr>\n",
       "      <th>AZ</th>\n",
       "      <td>19</td>\n",
       "    </tr>\n",
       "    <tr>\n",
       "      <th>AR</th>\n",
       "      <td>3</td>\n",
       "    </tr>\n",
       "    <tr>\n",
       "      <th>CA</th>\n",
       "      <td>118</td>\n",
       "    </tr>\n",
       "  </tbody>\n",
       "</table>\n",
       "</div>"
      ],
      "text/plain": [
       "               craft_distillery_count\n",
       "State(abbrev)                        \n",
       "AL                                  8\n",
       "AK                                  6\n",
       "AZ                                 19\n",
       "AR                                  3\n",
       "CA                                118"
      ]
     },
     "execution_count": 77,
     "metadata": {},
     "output_type": "execute_result"
    }
   ],
   "source": [
    "# Dataframe for just distillery count\n",
    "distillery_count_df = alc_census_df[['State(abbrev)', 'craft_distillery_count']].copy()\n",
    "distillery_count_df.set_index([\"State(abbrev)\"], inplace=True)\n",
    "distillery_count_df.head()"
   ]
  },
  {
   "cell_type": "code",
   "execution_count": 78,
   "metadata": {},
   "outputs": [
    {
     "data": {
      "text/html": [
       "<div>\n",
       "<style scoped>\n",
       "    .dataframe tbody tr th:only-of-type {\n",
       "        vertical-align: middle;\n",
       "    }\n",
       "\n",
       "    .dataframe tbody tr th {\n",
       "        vertical-align: top;\n",
       "    }\n",
       "\n",
       "    .dataframe thead th {\n",
       "        text-align: right;\n",
       "    }\n",
       "</style>\n",
       "<table border=\"1\" class=\"dataframe\">\n",
       "  <thead>\n",
       "    <tr style=\"text-align: right;\">\n",
       "      <th></th>\n",
       "      <th>Craft Distilleries per 1000 People</th>\n",
       "    </tr>\n",
       "    <tr>\n",
       "      <th>State(abbrev)</th>\n",
       "      <th></th>\n",
       "    </tr>\n",
       "  </thead>\n",
       "  <tbody>\n",
       "    <tr>\n",
       "      <th>AL</th>\n",
       "      <td>0.001652</td>\n",
       "    </tr>\n",
       "    <tr>\n",
       "      <th>AK</th>\n",
       "      <td>0.008143</td>\n",
       "    </tr>\n",
       "    <tr>\n",
       "      <th>AZ</th>\n",
       "      <td>0.002824</td>\n",
       "    </tr>\n",
       "    <tr>\n",
       "      <th>AR</th>\n",
       "      <td>0.001011</td>\n",
       "    </tr>\n",
       "    <tr>\n",
       "      <th>CA</th>\n",
       "      <td>0.003053</td>\n",
       "    </tr>\n",
       "  </tbody>\n",
       "</table>\n",
       "</div>"
      ],
      "text/plain": [
       "               Craft Distilleries per 1000 People\n",
       "State(abbrev)                                    \n",
       "AL                                       0.001652\n",
       "AK                                       0.008143\n",
       "AZ                                       0.002824\n",
       "AR                                       0.001011\n",
       "CA                                       0.003053"
      ]
     },
     "execution_count": 78,
     "metadata": {},
     "output_type": "execute_result"
    }
   ],
   "source": [
    "# Dataframe for just distillery per 1000 peole by state\n",
    "distillery_per_person_df = alc_census_df[['State(abbrev)', 'Craft Distilleries per 1000 People']].copy()\n",
    "distillery_per_person_df.set_index([\"State(abbrev)\"], inplace=True)\n",
    "distillery_per_person_df.head()"
   ]
  },
  {
   "cell_type": "code",
   "execution_count": 79,
   "metadata": {},
   "outputs": [
    {
     "data": {
      "image/png": "[encoded data removed]",
      "text/plain": [
       "<Figure size 1440x216 with 1 Axes>"
      ]
     },
     "metadata": {},
     "output_type": "display_data"
    }
   ],
   "source": [
    "# Plotting distillery count by state\n",
    "distillery_count = distillery_count_df.plot(kind=\"bar\", figsize=(20,3), title = \"Distillery Count by State (not adjusted for population)\")\n",
    "plt.show(distillery_count)\n",
    "plt.savefig(\"distillery_count.png\")"
   ]
  },
  {
   "cell_type": "code",
   "execution_count": 80,
   "metadata": {},
   "outputs": [
    {
     "data": {
      "image/png": "[encoded data removed]",
      "text/plain": [
       "<Figure size 1440x216 with 1 Axes>"
      ]
     },
     "metadata": {},
     "output_type": "display_data"
    }
   ],
   "source": [
    "# Plotting distilleries per 1000 people by state\n",
    "distillery_person = distillery_per_person_df.plot(kind=\"bar\", figsize=(20,3), title = \"Distillery Count by State (adjusted for population)\")\n",
    "plt.show(distillery_person)\n",
    "plt.savefig(\"distillery_person.png\")"
   ]
  },
  {
   "cell_type": "code",
   "execution_count": 81,
   "metadata": {},
   "outputs": [
    {
     "data": {
      "text/html": [
       "<div>\n",
       "<style scoped>\n",
       "    .dataframe tbody tr th:only-of-type {\n",
       "        vertical-align: middle;\n",
       "    }\n",
       "\n",
       "    .dataframe tbody tr th {\n",
       "        vertical-align: top;\n",
       "    }\n",
       "\n",
       "    .dataframe thead th {\n",
       "        text-align: right;\n",
       "    }\n",
       "</style>\n",
       "<table border=\"1\" class=\"dataframe\">\n",
       "  <thead>\n",
       "    <tr style=\"text-align: right;\">\n",
       "      <th></th>\n",
       "      <th>winery_count</th>\n",
       "      <th>brewery_count</th>\n",
       "      <th>craft_distillery_count</th>\n",
       "    </tr>\n",
       "    <tr>\n",
       "      <th>State(abbrev)</th>\n",
       "      <th></th>\n",
       "      <th></th>\n",
       "      <th></th>\n",
       "    </tr>\n",
       "  </thead>\n",
       "  <tbody>\n",
       "    <tr>\n",
       "      <th>AL</th>\n",
       "      <td>35</td>\n",
       "      <td>22</td>\n",
       "      <td>8</td>\n",
       "    </tr>\n",
       "    <tr>\n",
       "      <th>AK</th>\n",
       "      <td>8</td>\n",
       "      <td>19</td>\n",
       "      <td>6</td>\n",
       "    </tr>\n",
       "    <tr>\n",
       "      <th>AZ</th>\n",
       "      <td>94</td>\n",
       "      <td>37</td>\n",
       "      <td>19</td>\n",
       "    </tr>\n",
       "    <tr>\n",
       "      <th>AR</th>\n",
       "      <td>33</td>\n",
       "      <td>14</td>\n",
       "      <td>3</td>\n",
       "    </tr>\n",
       "    <tr>\n",
       "      <th>CA</th>\n",
       "      <td>4816</td>\n",
       "      <td>315</td>\n",
       "      <td>118</td>\n",
       "    </tr>\n",
       "  </tbody>\n",
       "</table>\n",
       "</div>"
      ],
      "text/plain": [
       "               winery_count  brewery_count  craft_distillery_count\n",
       "State(abbrev)                                                     \n",
       "AL                       35             22                       8\n",
       "AK                        8             19                       6\n",
       "AZ                       94             37                      19\n",
       "AR                       33             14                       3\n",
       "CA                     4816            315                     118"
      ]
     },
     "execution_count": 81,
     "metadata": {},
     "output_type": "execute_result"
    }
   ],
   "source": [
    "# Creating a dataframe with all the counts not adjusted for population\n",
    "alc_count_df = alc_census_df[['State(abbrev)', \"winery_count\", 'brewery_count', \"craft_distillery_count\"]].copy()\n",
    "alc_count_df.set_index([\"State(abbrev)\"], inplace=True)\n",
    "alc_count_df.head()"
   ]
  },
  {
   "cell_type": "code",
   "execution_count": 125,
   "metadata": {},
   "outputs": [
    {
     "data": {
      "text/html": [
       "<div id=\"visf0807f1014a846a19e56164c2a81fa5a\"></div>\n",
       "<script>\n",
       "   ( function() {\n",
       "     var _do_plot = function() {\n",
       "       if (typeof vg === 'undefined') {\n",
       "         window.addEventListener('vincent_libs_loaded', _do_plot)\n",
       "         return;\n",
       "       }\n",
       "       vg.parse.spec({\"axes\": [{\"scale\": \"x\", \"title\": \"State\", \"type\": \"x\"}, {\"scale\": \"y\", \"title\": \"Count (unadjusted for population)\", \"type\": \"y\"}], \"data\": [{\"name\": \"table\", \"values\": [{\"col\": \"winery_count\", \"idx\": \"AL\", \"val\": 35}, {\"col\": \"brewery_count\", \"idx\": \"AL\", \"val\": 22}, {\"col\": \"craft_distillery_count\", \"idx\": \"AL\", \"val\": 8}, {\"col\": \"winery_count\", \"idx\": \"AK\", \"val\": 8}, {\"col\": \"brewery_count\", \"idx\": \"AK\", \"val\": 19}, {\"col\": \"craft_distillery_count\", \"idx\": \"AK\", \"val\": 6}, {\"col\": \"winery_count\", \"idx\": \"AZ\", \"val\": 94}, {\"col\": \"brewery_count\", \"idx\": \"AZ\", \"val\": 37}, {\"col\": \"craft_distillery_count\", \"idx\": \"AZ\", \"val\": 19}, {\"col\": \"winery_count\", \"idx\": \"AR\", \"val\": 33}, {\"col\": \"brewery_count\", \"idx\": \"AR\", \"val\": 14}, {\"col\": \"craft_distillery_count\", \"idx\": \"AR\", \"val\": 3}, {\"col\": \"winery_count\", \"idx\": \"CA\", \"val\": 4816}, {\"col\": \"brewery_count\", \"idx\": \"CA\", \"val\": 315}, {\"col\": \"craft_distillery_count\", \"idx\": \"CA\", \"val\": 118}, {\"col\": \"winery_count\", \"idx\": \"CO\", \"val\": 182}, {\"col\": \"brewery_count\", \"idx\": \"CO\", \"val\": 200}, {\"col\": \"craft_distillery_count\", \"idx\": \"CO\", \"val\": 72}, {\"col\": \"winery_count\", \"idx\": \"CT\", \"val\": 68}, {\"col\": \"brewery_count\", \"idx\": \"CT\", \"val\": 22}, {\"col\": \"craft_distillery_count\", \"idx\": \"CT\", \"val\": 13}, {\"col\": \"winery_count\", \"idx\": \"DE\", \"val\": 8}, {\"col\": \"brewery_count\", \"idx\": \"DE\", \"val\": 11}, {\"col\": \"craft_distillery_count\", \"idx\": \"DE\", \"val\": 5}, {\"col\": \"winery_count\", \"idx\": \"FL\", \"val\": 110}, {\"col\": \"brewery_count\", \"idx\": \"FL\", \"val\": 106}, {\"col\": \"craft_distillery_count\", \"idx\": \"FL\", \"val\": 37}, {\"col\": \"winery_count\", \"idx\": \"GA\", \"val\": 78}, {\"col\": \"brewery_count\", \"idx\": \"GA\", \"val\": 32}, {\"col\": \"craft_distillery_count\", \"idx\": \"GA\", \"val\": 17}, {\"col\": \"winery_count\", \"idx\": \"HI\", \"val\": 11}, {\"col\": \"brewery_count\", \"idx\": \"HI\", \"val\": 9}, {\"col\": \"craft_distillery_count\", \"idx\": \"HI\", \"val\": 10}, {\"col\": \"winery_count\", \"idx\": \"ID\", \"val\": 72}, {\"col\": \"brewery_count\", \"idx\": \"ID\", \"val\": 20}, {\"col\": \"craft_distillery_count\", \"idx\": \"ID\", \"val\": 12}, {\"col\": \"winery_count\", \"idx\": \"IL\", \"val\": 155}, {\"col\": \"brewery_count\", \"idx\": \"IL\", \"val\": 66}, {\"col\": \"craft_distillery_count\", \"idx\": \"IL\", \"val\": 31}, {\"col\": \"winery_count\", \"idx\": \"IN\", \"val\": 122}, {\"col\": \"brewery_count\", \"idx\": \"IN\", \"val\": 50}, {\"col\": \"craft_distillery_count\", \"idx\": \"IN\", \"val\": 25}, {\"col\": \"winery_count\", \"idx\": \"IA\", \"val\": 135}, {\"col\": \"brewery_count\", \"idx\": \"IA\", \"val\": 35}, {\"col\": \"craft_distillery_count\", \"idx\": \"IA\", \"val\": 16}, {\"col\": \"winery_count\", \"idx\": \"KS\", \"val\": 50}, {\"col\": \"brewery_count\", \"idx\": \"KS\", \"val\": 10}, {\"col\": \"craft_distillery_count\", \"idx\": \"KS\", \"val\": 5}, {\"col\": \"winery_count\", \"idx\": \"KY\", \"val\": 102}, {\"col\": \"brewery_count\", \"idx\": \"KY\", \"val\": 22}, {\"col\": \"craft_distillery_count\", \"idx\": \"KY\", \"val\": 35}, {\"col\": \"winery_count\", \"idx\": \"LA\", \"val\": 14}, {\"col\": \"brewery_count\", \"idx\": \"LA\", \"val\": 17}, {\"col\": \"craft_distillery_count\", \"idx\": \"LA\", \"val\": 11}, {\"col\": \"winery_count\", \"idx\": \"ME\", \"val\": 54}, {\"col\": \"brewery_count\", \"idx\": \"ME\", \"val\": 34}, {\"col\": \"craft_distillery_count\", \"idx\": \"ME\", \"val\": 15}, {\"col\": \"winery_count\", \"idx\": \"MD\", \"val\": 122}, {\"col\": \"brewery_count\", \"idx\": \"MD\", \"val\": 53}, {\"col\": \"craft_distillery_count\", \"idx\": \"MD\", \"val\": 17}, {\"col\": \"winery_count\", \"idx\": \"MI\", \"val\": 418}, {\"col\": \"brewery_count\", \"idx\": \"MI\", \"val\": 82}, {\"col\": \"craft_distillery_count\", \"idx\": \"MI\", \"val\": 36}, {\"col\": \"winery_count\", \"idx\": \"MN\", \"val\": 101}, {\"col\": \"brewery_count\", \"idx\": \"MN\", \"val\": 61}, {\"col\": \"craft_distillery_count\", \"idx\": \"MN\", \"val\": 23}, {\"col\": \"winery_count\", \"idx\": \"MS\", \"val\": 9}, {\"col\": \"brewery_count\", \"idx\": \"MS\", \"val\": 7}, {\"col\": \"craft_distillery_count\", \"idx\": \"MS\", \"val\": 3}, {\"col\": \"winery_count\", \"idx\": \"MO\", \"val\": 230}, {\"col\": \"brewery_count\", \"idx\": \"MO\", \"val\": 48}, {\"col\": \"craft_distillery_count\", \"idx\": \"MO\", \"val\": 30}, {\"col\": \"winery_count\", \"idx\": \"MT\", \"val\": 27}, {\"col\": \"brewery_count\", \"idx\": \"MT\", \"val\": 38}, {\"col\": \"craft_distillery_count\", \"idx\": \"MT\", \"val\": 20}, {\"col\": \"winery_count\", \"idx\": \"NE\", \"val\": 38}, {\"col\": \"brewery_count\", \"idx\": \"NE\", \"val\": 26}, {\"col\": \"craft_distillery_count\", \"idx\": \"NE\", \"val\": 7}, {\"col\": \"winery_count\", \"idx\": \"NV\", \"val\": 14}, {\"col\": \"brewery_count\", \"idx\": \"NV\", \"val\": 14}, {\"col\": \"craft_distillery_count\", \"idx\": \"NV\", \"val\": 10}, {\"col\": \"winery_count\", \"idx\": \"NH\", \"val\": 54}, {\"col\": \"brewery_count\", \"idx\": \"NH\", \"val\": 22}, {\"col\": \"craft_distillery_count\", \"idx\": \"NH\", \"val\": 12}, {\"col\": \"winery_count\", \"idx\": \"NJ\", \"val\": 78}, {\"col\": \"brewery_count\", \"idx\": \"NJ\", \"val\": 75}, {\"col\": \"craft_distillery_count\", \"idx\": \"NJ\", \"val\": 16}, {\"col\": \"winery_count\", \"idx\": \"NM\", \"val\": 85}, {\"col\": \"brewery_count\", \"idx\": \"NM\", \"val\": 18}, {\"col\": \"craft_distillery_count\", \"idx\": \"NM\", \"val\": 10}, {\"col\": \"winery_count\", \"idx\": \"NY\", \"val\": 560}, {\"col\": \"brewery_count\", \"idx\": \"NY\", \"val\": 117}, {\"col\": \"craft_distillery_count\", \"idx\": \"NY\", \"val\": 104}, {\"col\": \"winery_count\", \"idx\": \"NC\", \"val\": 206}, {\"col\": \"brewery_count\", \"idx\": \"NC\", \"val\": 112}, {\"col\": \"craft_distillery_count\", \"idx\": \"NC\", \"val\": 42}, {\"col\": \"winery_count\", \"idx\": \"ND\", \"val\": 18}, {\"col\": \"brewery_count\", \"idx\": \"ND\", \"val\": 3}, {\"col\": \"craft_distillery_count\", \"idx\": \"ND\", \"val\": 3}, {\"col\": \"winery_count\", \"idx\": \"OH\", \"val\": 323}, {\"col\": \"brewery_count\", \"idx\": \"OH\", \"val\": 85}, {\"col\": \"craft_distillery_count\", \"idx\": \"OH\", \"val\": 39}, {\"col\": \"winery_count\", \"idx\": \"OK\", \"val\": 80}, {\"col\": \"brewery_count\", \"idx\": \"OK\", \"val\": 6}, {\"col\": \"craft_distillery_count\", \"idx\": \"OK\", \"val\": 6}, {\"col\": \"winery_count\", \"idx\": \"OR\", \"val\": 683}, {\"col\": \"brewery_count\", \"idx\": \"OR\", \"val\": 81}, {\"col\": \"craft_distillery_count\", \"idx\": \"OR\", \"val\": 53}, {\"col\": \"winery_count\", \"idx\": \"PA\", \"val\": 353}, {\"col\": \"brewery_count\", \"idx\": \"PA\", \"val\": 183}, {\"col\": \"craft_distillery_count\", \"idx\": \"PA\", \"val\": 46}, {\"col\": \"winery_count\", \"idx\": \"RI\", \"val\": 21}, {\"col\": \"brewery_count\", \"idx\": \"RI\", \"val\": 7}, {\"col\": \"craft_distillery_count\", \"idx\": \"RI\", \"val\": 4}, {\"col\": \"winery_count\", \"idx\": \"SC\", \"val\": 36}, {\"col\": \"brewery_count\", \"idx\": \"SC\", \"val\": 23}, {\"col\": \"craft_distillery_count\", \"idx\": \"SC\", \"val\": 29}, {\"col\": \"winery_count\", \"idx\": \"SD\", \"val\": 32}, {\"col\": \"brewery_count\", \"idx\": \"SD\", \"val\": 12}, {\"col\": \"craft_distillery_count\", \"idx\": \"SD\", \"val\": 6}, {\"col\": \"winery_count\", \"idx\": \"TN\", \"val\": 73}, {\"col\": \"brewery_count\", \"idx\": \"TN\", \"val\": 37}, {\"col\": \"craft_distillery_count\", \"idx\": \"TN\", \"val\": 32}, {\"col\": \"winery_count\", \"idx\": \"TX\", \"val\": 570}, {\"col\": \"brewery_count\", \"idx\": \"TX\", \"val\": 91}, {\"col\": \"craft_distillery_count\", \"idx\": \"TX\", \"val\": 71}, {\"col\": \"winery_count\", \"idx\": \"UT\", \"val\": 17}, {\"col\": \"brewery_count\", \"idx\": \"UT\", \"val\": 13}, {\"col\": \"craft_distillery_count\", \"idx\": \"UT\", \"val\": 10}, {\"col\": \"winery_count\", \"idx\": \"VT\", \"val\": 61}, {\"col\": \"brewery_count\", \"idx\": \"VT\", \"val\": 29}, {\"col\": \"craft_distillery_count\", \"idx\": \"VT\", \"val\": 18}, {\"col\": \"winery_count\", \"idx\": \"VA\", \"val\": 352}, {\"col\": \"brewery_count\", \"idx\": \"VA\", \"val\": 152}, {\"col\": \"craft_distillery_count\", \"idx\": \"VA\", \"val\": 35}, {\"col\": \"winery_count\", \"idx\": \"WA\", \"val\": 1066}, {\"col\": \"brewery_count\", \"idx\": \"WA\", \"val\": 156}, {\"col\": \"craft_distillery_count\", \"idx\": \"WA\", \"val\": 103}, {\"col\": \"winery_count\", \"idx\": \"WV\", \"val\": 32}, {\"col\": \"brewery_count\", \"idx\": \"WV\", \"val\": 13}, {\"col\": \"craft_distillery_count\", \"idx\": \"WV\", \"val\": 11}, {\"col\": \"winery_count\", \"idx\": \"WI\", \"val\": 145}, {\"col\": \"brewery_count\", \"idx\": \"WI\", \"val\": 73}, {\"col\": \"craft_distillery_count\", \"idx\": \"WI\", \"val\": 23}, {\"col\": \"winery_count\", \"idx\": \"WY\", \"val\": 8}, {\"col\": \"brewery_count\", \"idx\": \"WY\", \"val\": 8}, {\"col\": \"craft_distillery_count\", \"idx\": \"WY\", \"val\": 6}]}, {\"name\": \"stats\", \"source\": \"table\", \"transform\": [{\"keys\": [\"data.idx\"], \"type\": \"facet\"}, {\"type\": \"stats\", \"value\": \"data.val\"}]}], \"height\": 500, \"legends\": [{\"fill\": \"color\", \"offset\": 0, \"properties\": {}, \"title\": \"Alcohol Type\"}], \"marks\": [{\"from\": {\"data\": \"table\", \"transform\": [{\"keys\": [\"data.col\"], \"type\": \"facet\"}, {\"height\": \"data.val\", \"point\": \"data.idx\", \"type\": \"stack\"}]}, \"marks\": [{\"properties\": {\"enter\": {\"fill\": {\"field\": \"data.col\", \"scale\": \"color\"}, \"width\": {\"band\": true, \"offset\": -1, \"scale\": \"x\"}, \"x\": {\"field\": \"data.idx\", \"scale\": \"x\"}, \"y\": {\"field\": \"y\", \"scale\": \"y\"}, \"y2\": {\"field\": \"y2\", \"scale\": \"y\"}}}, \"type\": \"rect\"}], \"type\": \"group\"}], \"padding\": \"auto\", \"scales\": [{\"domain\": {\"data\": \"table\", \"field\": \"data.idx\"}, \"name\": \"x\", \"range\": \"width\", \"type\": \"ordinal\", \"zero\": false}, {\"domain\": {\"data\": \"stats\", \"field\": \"sum\"}, \"name\": \"y\", \"nice\": true, \"range\": \"height\"}, {\"domain\": {\"data\": \"table\", \"field\": \"data.col\"}, \"name\": \"color\", \"range\": \"category20\", \"type\": \"ordinal\"}], \"width\": 960}, function(chart) {\n",
       "         chart({el: \"#visf0807f1014a846a19e56164c2a81fa5a\"}).update();\n",
       "       });\n",
       "     };\n",
       "     _do_plot();\n",
       "   })();\n",
       "</script>\n",
       "<style>.vega canvas {width: 100%;}</style>\n",
       "        "
      ],
      "text/plain": [
       "<IPython.core.display.HTML object>"
      ]
     },
     "metadata": {},
     "output_type": "display_data"
    },
    {
     "data": {
      "text/plain": [
       "<Figure size 432x288 with 0 Axes>"
      ]
     },
     "metadata": {},
     "output_type": "display_data"
    }
   ],
   "source": [
    "# Creating a stacked bar chart based on straight count\n",
    "stack = vincent.StackedBar(alc_count_df)\n",
    "stack.axis_titles(x='State', y='Count (unadjusted for population)')\n",
    "stack.legend(title='Alcohol Type')\n",
    "#stack.colors(brew=\"Spectral\")\n",
    "stack.display()\n",
    "plt.savefig(\"count_stacked.png\")"
   ]
  },
  {
   "cell_type": "code",
   "execution_count": 83,
   "metadata": {},
   "outputs": [
    {
     "data": {
      "text/html": [
       "<div>\n",
       "<style scoped>\n",
       "    .dataframe tbody tr th:only-of-type {\n",
       "        vertical-align: middle;\n",
       "    }\n",
       "\n",
       "    .dataframe tbody tr th {\n",
       "        vertical-align: top;\n",
       "    }\n",
       "\n",
       "    .dataframe thead th {\n",
       "        text-align: right;\n",
       "    }\n",
       "</style>\n",
       "<table border=\"1\" class=\"dataframe\">\n",
       "  <thead>\n",
       "    <tr style=\"text-align: right;\">\n",
       "      <th></th>\n",
       "      <th>Wineries per 1000 People</th>\n",
       "      <th>Breweries per 1000 people</th>\n",
       "      <th>Craft Distilleries per 1000 People</th>\n",
       "    </tr>\n",
       "    <tr>\n",
       "      <th>State(abbrev)</th>\n",
       "      <th></th>\n",
       "      <th></th>\n",
       "      <th></th>\n",
       "    </tr>\n",
       "  </thead>\n",
       "  <tbody>\n",
       "    <tr>\n",
       "      <th>AL</th>\n",
       "      <td>0.007230</td>\n",
       "      <td>0.004544</td>\n",
       "      <td>0.001652</td>\n",
       "    </tr>\n",
       "    <tr>\n",
       "      <th>AK</th>\n",
       "      <td>0.010857</td>\n",
       "      <td>0.025785</td>\n",
       "      <td>0.008143</td>\n",
       "    </tr>\n",
       "    <tr>\n",
       "      <th>AZ</th>\n",
       "      <td>0.013970</td>\n",
       "      <td>0.005499</td>\n",
       "      <td>0.002824</td>\n",
       "    </tr>\n",
       "    <tr>\n",
       "      <th>AR</th>\n",
       "      <td>0.011117</td>\n",
       "      <td>0.004716</td>\n",
       "      <td>0.001011</td>\n",
       "    </tr>\n",
       "    <tr>\n",
       "      <th>CA</th>\n",
       "      <td>0.124592</td>\n",
       "      <td>0.008149</td>\n",
       "      <td>0.003053</td>\n",
       "    </tr>\n",
       "  </tbody>\n",
       "</table>\n",
       "</div>"
      ],
      "text/plain": [
       "               Wineries per 1000 People  Breweries per 1000 people  \\\n",
       "State(abbrev)                                                        \n",
       "AL                             0.007230                   0.004544   \n",
       "AK                             0.010857                   0.025785   \n",
       "AZ                             0.013970                   0.005499   \n",
       "AR                             0.011117                   0.004716   \n",
       "CA                             0.124592                   0.008149   \n",
       "\n",
       "               Craft Distilleries per 1000 People  \n",
       "State(abbrev)                                      \n",
       "AL                                       0.001652  \n",
       "AK                                       0.008143  \n",
       "AZ                                       0.002824  \n",
       "AR                                       0.001011  \n",
       "CA                                       0.003053  "
      ]
     },
     "execution_count": 83,
     "metadata": {},
     "output_type": "execute_result"
    }
   ],
   "source": [
    "# Creating a dataframe with all the counts not adjusted for population\n",
    "alc_person_df = alc_census_df[['State(abbrev)', \"Wineries per 1000 People\", 'Breweries per 1000 people', \"Craft Distilleries per 1000 People\"]].copy()\n",
    "alc_person_df.set_index([\"State(abbrev)\"], inplace=True)\n",
    "alc_person_df.head()"
   ]
  },
  {
   "cell_type": "code",
   "execution_count": 126,
   "metadata": {},
   "outputs": [
    {
     "data": {
      "text/html": [
       "<div id=\"visec860398d06e42288050289789acbd22\"></div>\n",
       "<script>\n",
       "   ( function() {\n",
       "     var _do_plot = function() {\n",
       "       if (typeof vg === 'undefined') {\n",
       "         window.addEventListener('vincent_libs_loaded', _do_plot)\n",
       "         return;\n",
       "       }\n",
       "       vg.parse.spec({\"axes\": [{\"scale\": \"x\", \"title\": \"State\", \"type\": \"x\"}, {\"scale\": \"y\", \"title\": \"Count (adjusted for population)\", \"type\": \"y\"}], \"data\": [{\"name\": \"table\", \"values\": [{\"col\": \"Wineries per 1000 People\", \"idx\": \"AL\", \"val\": 0.007229666253818296}, {\"col\": \"Breweries per 1000 people\", \"idx\": \"AL\", \"val\": 0.004544361645257215}, {\"col\": \"Craft Distilleries per 1000 People\", \"idx\": \"AL\", \"val\": 0.0016524951437298964}, {\"col\": \"Wineries per 1000 People\", \"idx\": \"AK\", \"val\": 0.010856952860467799}, {\"col\": \"Breweries per 1000 people\", \"idx\": \"AK\", \"val\": 0.025785263043611024}, {\"col\": \"Craft Distilleries per 1000 People\", \"idx\": \"AK\", \"val\": 0.00814271464535085}, {\"col\": \"Wineries per 1000 People\", \"idx\": \"AZ\", \"val\": 0.013970264440757682}, {\"col\": \"Breweries per 1000 people\", \"idx\": \"AZ\", \"val\": 0.005498933875617385}, {\"col\": \"Craft Distilleries per 1000 People\", \"idx\": \"AZ\", \"val\": 0.0028237768550467657}, {\"col\": \"Wineries per 1000 People\", \"idx\": \"AR\", \"val\": 0.011116830477093938}, {\"col\": \"Breweries per 1000 people\", \"idx\": \"AR\", \"val\": 0.004716231111494398}, {\"col\": \"Craft Distilleries per 1000 People\", \"idx\": \"AR\", \"val\": 0.0010106209524630852}, {\"col\": \"Wineries per 1000 People\", \"idx\": \"CA\", \"val\": 0.12459187494369954}, {\"col\": \"Breweries per 1000 people\", \"idx\": \"CA\", \"val\": 0.008149177866957092}, {\"col\": \"Craft Distilleries per 1000 People\", \"idx\": \"CA\", \"val\": 0.003052707899368053}, {\"col\": \"Wineries per 1000 People\", \"idx\": \"CO\", \"val\": 0.033959690593632186}, {\"col\": \"Breweries per 1000 people\", \"idx\": \"CO\", \"val\": 0.03731834131168372}, {\"col\": \"Craft Distilleries per 1000 People\", \"idx\": \"CO\", \"val\": 0.01343460287220614}, {\"col\": \"Wineries per 1000 People\", \"idx\": \"CT\", \"val\": 0.01894905212939973}, {\"col\": \"Breweries per 1000 people\", \"idx\": \"CT\", \"val\": 0.006130575688923443}, {\"col\": \"Craft Distilleries per 1000 People\", \"idx\": \"CT\", \"val\": 0.003622612907091125}, {\"col\": \"Wineries per 1000 People\", \"idx\": \"DE\", \"val\": 0.00855894168686042}, {\"col\": \"Breweries per 1000 people\", \"idx\": \"DE\", \"val\": 0.011768544819433078}, {\"col\": \"Craft Distilleries per 1000 People\", \"idx\": \"DE\", \"val\": 0.005349338554287762}, {\"col\": \"Wineries per 1000 People\", \"idx\": \"FL\", \"val\": 0.005518085248497689}, {\"col\": \"Breweries per 1000 people\", \"idx\": \"FL\", \"val\": 0.005317427603097773}, {\"col\": \"Craft Distilleries per 1000 People\", \"idx\": \"FL\", \"val\": 0.0018560832199492226}, {\"col\": \"Wineries per 1000 People\", \"idx\": \"GA\", \"val\": 0.007723292261261154}, {\"col\": \"Breweries per 1000 people\", \"idx\": \"GA\", \"val\": 0.0031685301584661145}, {\"col\": \"Craft Distilleries per 1000 People\", \"idx\": \"GA\", \"val\": 0.0016832816466851234}, {\"col\": \"Wineries per 1000 People\", \"idx\": \"HI\", \"val\": 0.0077811488229597645}, {\"col\": \"Breweries per 1000 people\", \"idx\": \"HI\", \"val\": 0.006366394491512535}, {\"col\": \"Craft Distilleries per 1000 People\", \"idx\": \"HI\", \"val\": 0.0070737716572361505}, {\"col\": \"Wineries per 1000 People\", \"idx\": \"ID\", \"val\": 0.044023692083623}, {\"col\": \"Breweries per 1000 people\", \"idx\": \"ID\", \"val\": 0.012228803356561945}, {\"col\": \"Craft Distilleries per 1000 People\", \"idx\": \"ID\", \"val\": 0.007337282013937167}, {\"col\": \"Wineries per 1000 People\", \"idx\": \"IL\", \"val\": 0.012060676250676566}, {\"col\": \"Breweries per 1000 people\", \"idx\": \"IL\", \"val\": 0.005135513758352602}, {\"col\": \"Craft Distilleries per 1000 People\", \"idx\": \"IL\", \"val\": 0.0024121352501353132}, {\"col\": \"Wineries per 1000 People\", \"idx\": \"IN\", \"val\": 0.01851408390643528}, {\"col\": \"Breweries per 1000 people\", \"idx\": \"IN\", \"val\": 0.0075877393059161}, {\"col\": \"Craft Distilleries per 1000 People\", \"idx\": \"IN\", \"val\": 0.00379386965295805}, {\"col\": \"Wineries per 1000 People\", \"idx\": \"IA\", \"val\": 0.04345602202286817}, {\"col\": \"Breweries per 1000 people\", \"idx\": \"IA\", \"val\": 0.011266376080002858}, {\"col\": \"Craft Distilleries per 1000 People\", \"idx\": \"IA\", \"val\": 0.00515034335085845}, {\"col\": \"Wineries per 1000 People\", \"idx\": \"KS\", \"val\": 0.017251539872449012}, {\"col\": \"Breweries per 1000 people\", \"idx\": \"KS\", \"val\": 0.0034503079744898028}, {\"col\": \"Craft Distilleries per 1000 People\", \"idx\": \"KS\", \"val\": 0.0017251539872449014}, {\"col\": \"Wineries per 1000 People\", \"idx\": \"KY\", \"val\": 0.023118824638955354}, {\"col\": \"Breweries per 1000 people\", \"idx\": \"KY\", \"val\": 0.0049864131574217435}, {\"col\": \"Craft Distilleries per 1000 People\", \"idx\": \"KY\", \"val\": 0.007932930023170956}, {\"col\": \"Wineries per 1000 People\", \"idx\": \"LA\", \"val\": 0.0030135588623384784}, {\"col\": \"Breweries per 1000 people\", \"idx\": \"LA\", \"val\": 0.003659321475696724}, {\"col\": \"Craft Distilleries per 1000 People\", \"idx\": \"LA\", \"val\": 0.0023677962489802333}, {\"col\": \"Wineries per 1000 People\", \"idx\": \"ME\", \"val\": 0.04060385450887006}, {\"col\": \"Breweries per 1000 people\", \"idx\": \"ME\", \"val\": 0.025565389875955222}, {\"col\": \"Craft Distilleries per 1000 People\", \"idx\": \"ME\", \"val\": 0.011278848474686128}, {\"col\": \"Wineries per 1000 People\", \"idx\": \"MD\", \"val\": 0.020470135247190307}, {\"col\": \"Breweries per 1000 people\", \"idx\": \"MD\", \"val\": 0.008892763672959722}, {\"col\": \"Craft Distilleries per 1000 People\", \"idx\": \"MD\", \"val\": 0.002852395895100289}, {\"col\": \"Wineries per 1000 People\", \"idx\": \"MI\", \"val\": 0.042181319124889}, {\"col\": \"Breweries per 1000 people\", \"idx\": \"MI\", \"val\": 0.008274804230241382}, {\"col\": \"Craft Distilleries per 1000 People\", \"idx\": \"MI\", \"val\": 0.003632840881569387}, {\"col\": \"Wineries per 1000 People\", \"idx\": \"MN\", \"val\": 0.018529159025681783}, {\"col\": \"Breweries per 1000 people\", \"idx\": \"MN\", \"val\": 0.01119087822343157}, {\"col\": \"Craft Distilleries per 1000 People\", \"idx\": \"MN\", \"val\": 0.004219511461293872}, {\"col\": \"Wineries per 1000 People\", \"idx\": \"MS\", \"val\": 0.0030108470784078107}, {\"col\": \"Breweries per 1000 people\", \"idx\": \"MS\", \"val\": 0.0023417699498727417}, {\"col\": \"Craft Distilleries per 1000 People\", \"idx\": \"MS\", \"val\": 0.0010036156928026035}, {\"col\": \"Wineries per 1000 People\", \"idx\": \"MO\", \"val\": 0.03795598129331211}, {\"col\": \"Breweries per 1000 people\", \"idx\": \"MO\", \"val\": 0.007921248269908613}, {\"col\": \"Craft Distilleries per 1000 People\", \"idx\": \"MO\", \"val\": 0.0049507801686928836}, {\"col\": \"Wineries per 1000 People\", \"idx\": \"MT\", \"val\": 0.026382878098400318}, {\"col\": \"Breweries per 1000 people\", \"idx\": \"MT\", \"val\": 0.037131458064415264}, {\"col\": \"Craft Distilleries per 1000 People\", \"idx\": \"MT\", \"val\": 0.019542872665481718}, {\"col\": \"Wineries per 1000 People\", \"idx\": \"NE\", \"val\": 0.020199238913940078}, {\"col\": \"Breweries per 1000 people\", \"idx\": \"NE\", \"val\": 0.013820531888485317}, {\"col\": \"Craft Distilleries per 1000 People\", \"idx\": \"NE\", \"val\": 0.0037209124315152778}, {\"col\": \"Wineries per 1000 People\", \"idx\": \"NV\", \"val\": 0.004931015098768232}, {\"col\": \"Breweries per 1000 people\", \"idx\": \"NV\", \"val\": 0.004931015098768232}, {\"col\": \"Craft Distilleries per 1000 People\", \"idx\": \"NV\", \"val\": 0.003522153641977309}, {\"col\": \"Wineries per 1000 People\", \"idx\": \"NH\", \"val\": 0.04067787417429565}, {\"col\": \"Breweries per 1000 people\", \"idx\": \"NH\", \"val\": 0.016572467256194524}, {\"col\": \"Craft Distilleries per 1000 People\", \"idx\": \"NH\", \"val\": 0.009039527594287921}, {\"col\": \"Wineries per 1000 People\", \"idx\": \"NJ\", \"val\": 0.008748851432837535}, {\"col\": \"Breweries per 1000 people\", \"idx\": \"NJ\", \"val\": 0.008412357146959168}, {\"col\": \"Craft Distilleries per 1000 People\", \"idx\": \"NJ\", \"val\": 0.0017946361913512893}, {\"col\": \"Wineries per 1000 People\", \"idx\": \"NM\", \"val\": 0.040813014454049105}, {\"col\": \"Breweries per 1000 people\", \"idx\": \"NM\", \"val\": 0.008642756002033928}, {\"col\": \"Craft Distilleries per 1000 People\", \"idx\": \"NM\", \"val\": 0.004801531112241071}, {\"col\": \"Wineries per 1000 People\", \"idx\": \"NY\", \"val\": 0.028430065870939582}, {\"col\": \"Breweries per 1000 people\", \"idx\": \"NY\", \"val\": 0.005939853048035592}, {\"col\": \"Craft Distilleries per 1000 People\", \"idx\": \"NY\", \"val\": 0.005279869376031637}, {\"col\": \"Wineries per 1000 People\", \"idx\": \"NC\", \"val\": 0.02072261988639176}, {\"col\": \"Breweries per 1000 people\", \"idx\": \"NC\", \"val\": 0.01126666712269843}, {\"col\": \"Craft Distilleries per 1000 People\", \"idx\": \"NC\", \"val\": 0.004225000171011912}, {\"col\": \"Wineries per 1000 People\", \"idx\": \"ND\", \"val\": 0.024451139830635106}, {\"col\": \"Breweries per 1000 people\", \"idx\": \"ND\", \"val\": 0.004075189971772517}, {\"col\": \"Craft Distilleries per 1000 People\", \"idx\": \"ND\", \"val\": 0.004075189971772517}, {\"col\": \"Wineries per 1000 People\", \"idx\": \"OH\", \"val\": 0.027876209950495133}, {\"col\": \"Breweries per 1000 people\", \"idx\": \"OH\", \"val\": 0.0073358447238145085}, {\"col\": \"Craft Distilleries per 1000 People\", \"idx\": \"OH\", \"val\": 0.0033658581673972447}, {\"col\": \"Wineries per 1000 People\", \"idx\": \"OK\", \"val\": 0.020642023702719767}, {\"col\": \"Breweries per 1000 people\", \"idx\": \"OK\", \"val\": 0.0015481517777039826}, {\"col\": \"Craft Distilleries per 1000 People\", \"idx\": \"OK\", \"val\": 0.0015481517777039826}, {\"col\": \"Wineries per 1000 People\", \"idx\": \"OR\", \"val\": 0.17151034825138545}, {\"col\": \"Breweries per 1000 people\", \"idx\": \"OR\", \"val\": 0.020340173072272653}, {\"col\": \"Craft Distilleries per 1000 People\", \"idx\": \"OR\", \"val\": 0.013309002133709266}, {\"col\": \"Wineries per 1000 People\", \"idx\": \"PA\", \"val\": 0.02761269047965277}, {\"col\": \"Breweries per 1000 people\", \"idx\": \"PA\", \"val\": 0.014314794214664184}, {\"col\": \"Craft Distilleries per 1000 People\", \"idx\": \"PA\", \"val\": 0.0035982542834675003}, {\"col\": \"Wineries per 1000 People\", \"idx\": \"RI\", \"val\": 0.019914821463625578}, {\"col\": \"Breweries per 1000 people\", \"idx\": \"RI\", \"val\": 0.006638273821208527}, {\"col\": \"Craft Distilleries per 1000 People\", \"idx\": \"RI\", \"val\": 0.003793299326404872}, {\"col\": \"Wineries per 1000 People\", \"idx\": \"SC\", \"val\": 0.007446316710465488}, {\"col\": \"Breweries per 1000 people\", \"idx\": \"SC\", \"val\": 0.0047573690094640615}, {\"col\": \"Craft Distilleries per 1000 People\", \"idx\": \"SC\", \"val\": 0.005998421794541643}, {\"col\": \"Wineries per 1000 People\", \"idx\": \"SD\", \"val\": 0.0376002575617643}, {\"col\": \"Breweries per 1000 people\", \"idx\": \"SD\", \"val\": 0.014100096585661612}, {\"col\": \"Craft Distilleries per 1000 People\", \"idx\": \"SD\", \"val\": 0.007050048292830806}, {\"col\": \"Wineries per 1000 People\", \"idx\": \"TN\", \"val\": 0.011148426949321541}, {\"col\": \"Breweries per 1000 people\", \"idx\": \"TN\", \"val\": 0.005650572563354754}, {\"col\": \"Craft Distilleries per 1000 People\", \"idx\": \"TN\", \"val\": 0.004886981676414923}, {\"col\": \"Wineries per 1000 People\", \"idx\": \"TX\", \"val\": 0.021145229330213733}, {\"col\": \"Breweries per 1000 people\", \"idx\": \"TX\", \"val\": 0.003375817314121841}, {\"col\": \"Craft Distilleries per 1000 People\", \"idx\": \"TX\", \"val\": 0.002633879442886272}, {\"col\": \"Wineries per 1000 People\", \"idx\": \"UT\", \"val\": 0.0057657862989316}, {\"col\": \"Breweries per 1000 people\", \"idx\": \"UT\", \"val\": 0.004409130699182988}, {\"col\": \"Craft Distilleries per 1000 People\", \"idx\": \"UT\", \"val\": 0.0033916389993715293}, {\"col\": \"Wineries per 1000 People\", \"idx\": \"VT\", \"val\": 0.09740534515823578}, {\"col\": \"Breweries per 1000 people\", \"idx\": \"VT\", \"val\": 0.0463074591735875}, {\"col\": \"Craft Distilleries per 1000 People\", \"idx\": \"VT\", \"val\": 0.028742560866364657}, {\"col\": \"Wineries per 1000 People\", \"idx\": \"VA\", \"val\": 0.042357069858239796}, {\"col\": \"Breweries per 1000 people\", \"idx\": \"VA\", \"val\": 0.018290552893330817}, {\"col\": \"Craft Distilleries per 1000 People\", \"idx\": \"VA\", \"val\": 0.0042116404688590705}, {\"col\": \"Wineries per 1000 People\", \"idx\": \"WA\", \"val\": 0.15071087179594483}, {\"col\": \"Breweries per 1000 people\", \"idx\": \"WA\", \"val\": 0.022055249531113878}, {\"col\": \"Craft Distilleries per 1000 People\", \"idx\": \"WA\", \"val\": 0.014562119882722624}, {\"col\": \"Wineries per 1000 People\", \"idx\": \"WV\", \"val\": 0.017333914019452983}, {\"col\": \"Breweries per 1000 people\", \"idx\": \"WV\", \"val\": 0.007041902570402775}, {\"col\": \"Craft Distilleries per 1000 People\", \"idx\": \"WV\", \"val\": 0.005958532944186964}, {\"col\": \"Wineries per 1000 People\", \"idx\": \"WI\", \"val\": 0.025196366579678383}, {\"col\": \"Breweries per 1000 people\", \"idx\": \"WI\", \"val\": 0.012685067312527738}, {\"col\": \"Craft Distilleries per 1000 People\", \"idx\": \"WI\", \"val\": 0.003996665043673123}, {\"col\": \"Wineries per 1000 People\", \"idx\": \"WY\", \"val\": 0.013721444387843488}, {\"col\": \"Breweries per 1000 people\", \"idx\": \"WY\", \"val\": 0.013721444387843488}, {\"col\": \"Craft Distilleries per 1000 People\", \"idx\": \"WY\", \"val\": 0.010291083290882614}]}, {\"name\": \"stats\", \"source\": \"table\", \"transform\": [{\"keys\": [\"data.idx\"], \"type\": \"facet\"}, {\"type\": \"stats\", \"value\": \"data.val\"}]}], \"height\": 500, \"legends\": [{\"fill\": \"color\", \"offset\": 0, \"properties\": {}, \"title\": \"Alcohol Type\"}], \"marks\": [{\"from\": {\"data\": \"table\", \"transform\": [{\"keys\": [\"data.col\"], \"type\": \"facet\"}, {\"height\": \"data.val\", \"point\": \"data.idx\", \"type\": \"stack\"}]}, \"marks\": [{\"properties\": {\"enter\": {\"fill\": {\"field\": \"data.col\", \"scale\": \"color\"}, \"width\": {\"band\": true, \"offset\": -1, \"scale\": \"x\"}, \"x\": {\"field\": \"data.idx\", \"scale\": \"x\"}, \"y\": {\"field\": \"y\", \"scale\": \"y\"}, \"y2\": {\"field\": \"y2\", \"scale\": \"y\"}}}, \"type\": \"rect\"}], \"type\": \"group\"}], \"padding\": \"auto\", \"scales\": [{\"domain\": {\"data\": \"table\", \"field\": \"data.idx\"}, \"name\": \"x\", \"range\": \"width\", \"type\": \"ordinal\", \"zero\": false}, {\"domain\": {\"data\": \"stats\", \"field\": \"sum\"}, \"name\": \"y\", \"nice\": true, \"range\": \"height\"}, {\"domain\": {\"data\": \"table\", \"field\": \"data.col\"}, \"name\": \"color\", \"range\": \"category20\", \"type\": \"ordinal\"}], \"width\": 960}, function(chart) {\n",
       "         chart({el: \"#visec860398d06e42288050289789acbd22\"}).update();\n",
       "       });\n",
       "     };\n",
       "     _do_plot();\n",
       "   })();\n",
       "</script>\n",
       "<style>.vega canvas {width: 100%;}</style>\n",
       "        "
      ],
      "text/plain": [
       "<IPython.core.display.HTML object>"
      ]
     },
     "metadata": {},
     "output_type": "display_data"
    },
    {
     "data": {
      "text/plain": [
       "<Figure size 432x288 with 0 Axes>"
      ]
     },
     "metadata": {},
     "output_type": "display_data"
    }
   ],
   "source": [
    "# Creating a stacked bar chart based on adjusted count\n",
    "stack2 = vincent.StackedBar(alc_person_df)\n",
    "stack2.axis_titles(x='State', y='Count (adjusted for population)')\n",
    "stack2.legend(title='Alcohol Type')\n",
    "#stack2.colors(brew=\"Spectral\")\n",
    "stack2.display()\n",
    "plt.savefig(\"adj_count_stacked.png\")"
   ]
  },
  {
   "cell_type": "code",
   "execution_count": 127,
   "metadata": {},
   "outputs": [
    {
     "data": {
      "text/html": [
       "<div>\n",
       "<style scoped>\n",
       "    .dataframe tbody tr th:only-of-type {\n",
       "        vertical-align: middle;\n",
       "    }\n",
       "\n",
       "    .dataframe tbody tr th {\n",
       "        vertical-align: top;\n",
       "    }\n",
       "\n",
       "    .dataframe thead th {\n",
       "        text-align: right;\n",
       "    }\n",
       "</style>\n",
       "<table border=\"1\" class=\"dataframe\">\n",
       "  <thead>\n",
       "    <tr style=\"text-align: right;\">\n",
       "      <th></th>\n",
       "      <th>Brewery Sum</th>\n",
       "      <th>Distillery Sum</th>\n",
       "      <th>Winery Sum</th>\n",
       "    </tr>\n",
       "  </thead>\n",
       "  <tbody>\n",
       "    <tr>\n",
       "      <th>Count</th>\n",
       "      <td>2686</td>\n",
       "      <td>1283</td>\n",
       "      <td>11959</td>\n",
       "    </tr>\n",
       "  </tbody>\n",
       "</table>\n",
       "</div>"
      ],
      "text/plain": [
       "       Brewery Sum  Distillery Sum  Winery Sum\n",
       "Count         2686            1283       11959"
      ]
     },
     "execution_count": 127,
     "metadata": {},
     "output_type": "execute_result"
    }
   ],
   "source": [
    "# getting total counts of wineries, breweries, and distilleries in the united states\n",
    "winery_sum = alc_count_df[\"winery_count\"].sum()\n",
    "brewery_sum = alc_count_df[\"brewery_count\"].sum()\n",
    "distillery_sum = alc_count_df[\"craft_distillery_count\"].sum()\n",
    "\n",
    "sum_df = pd.DataFrame({\"Winery Sum\": winery_sum, \"Brewery Sum\": brewery_sum, \"Distillery Sum\": distillery_sum}, index = [\"Count\"])\n",
    "sum_df.head()"
   ]
  },
  {
   "cell_type": "code",
   "execution_count": 128,
   "metadata": {},
   "outputs": [
    {
     "data": {
      "image/png": "[encoded data removed]",
      "text/plain": [
       "<Figure size 432x288 with 1 Axes>"
      ]
     },
     "metadata": {},
     "output_type": "display_data"
    },
    {
     "data": {
      "text/plain": [
       "<Figure size 432x288 with 0 Axes>"
      ]
     },
     "metadata": {},
     "output_type": "display_data"
    }
   ],
   "source": [
    "# bar chart of total counts\n",
    "sum_bar = sum_df.plot(kind=\"bar\", title = \"Total Count of Wineries, Breweries, and Distilleris in the United States\")\n",
    "plt.show(sum_bar)\n",
    "plt.savefig(\"total_count.png\")"
   ]
  },
  {
   "cell_type": "code",
   "execution_count": null,
   "metadata": {},
   "outputs": [],
   "source": []
  }
 ],
 "metadata": {
  "kernelspec": {
   "display_name": "Python 3",
   "language": "python",
   "name": "python3"
  },
  "language_info": {
   "codemirror_mode": {
    "name": "ipython",
    "version": 3
   },
   "file_extension": ".py",
   "mimetype": "text/x-python",
   "name": "python",
   "nbconvert_exporter": "python",
   "pygments_lexer": "ipython3",
   "version": "3.6.4"
  }
 },
 "nbformat": 4,
 "nbformat_minor": 2
}
